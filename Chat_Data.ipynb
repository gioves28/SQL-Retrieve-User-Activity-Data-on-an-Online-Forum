{
 "cells": [
  {
   "cell_type": "markdown",
   "metadata": {},
   "source": [
    "# ChatData\n",
    "\n",
    "## Sqlite\n",
    "We are using a file system called **sqlite**. It looks and acts like a real single user relational database (RDB). sqlite3 comes packaged with python. \n",
    "\n",
    "- We are using Pandas to write and read to sqlite. Pandas will manage a lot of the complexity of dealing with a RDB. \n",
    "\n",
    "- This activity is primarily about querying a RDB, so, we are using a simple way that Pandas provides. \n",
    "\n",
    "- All of the SQL queries could also be performed on the Pandas DataFrames directly.  \n",
    "\n",
    "## SQL Magic\n",
    "Within the Jupyter notebook we will be using **SQL Magic**.  This provides a convenient way to write SQL queries directly into code cells in the notebook and to read the results back into a Pandas DataFrame.  \n",
    "\n"
   ]
  },
  {
   "cell_type": "markdown",
   "metadata": {},
   "source": [
    "# Imports\n",
    "First let's import Sqlite and the other libraries we will need."
   ]
  },
  {
   "cell_type": "code",
   "execution_count": 38,
   "metadata": {},
   "outputs": [],
   "source": [
    "# Import Libraries\n",
    "import numpy as np\n",
    "import pandas as pd\n",
    "import sqlite3"
   ]
  },
  {
   "cell_type": "markdown",
   "metadata": {},
   "source": [
    "### Create the Database\n",
    "Now we will create the Sqlite database. We use the `%load_ext` magic command to load the SQL Magic extension and then use `%sql` to connect to the database."
   ]
  },
  {
   "cell_type": "code",
   "execution_count": 39,
   "metadata": {},
   "outputs": [
    {
     "name": "stdout",
     "output_type": "stream",
     "text": [
      "The sql extension is already loaded. To reload it, use:\n",
      "  %reload_ext sql\n"
     ]
    },
    {
     "data": {
      "text/plain": [
       "'Connected: @chatdata.db'"
      ]
     },
     "execution_count": 39,
     "metadata": {},
     "output_type": "execute_result"
    }
   ],
   "source": [
    "# If the db does not exist, sqlite will create it.\n",
    "con = sqlite3.connect('chatdata.db')\n",
    "\n",
    "# loads sql magic\n",
    "%load_ext sql \n",
    "\n",
    "# connects sql magic command to the correct db\n",
    "%sql sqlite:///chatdata.db "
   ]
  },
  {
   "cell_type": "markdown",
   "metadata": {},
   "source": [
    "#### Drop the `queries` table if it already exists\n",
    "The queries table will be our record of the queries created to answer the questions from the requirements spreadsheet.  As we will be running this Jupyter notebook a few times, let's drop (i.e. remove) the queries table so that we start fresh each time.  Here is the code to do this.  We use the `%%sql` magic command to tell Jupyter that we are going to write SQL in the cell.\n"
   ]
  },
  {
   "cell_type": "code",
   "execution_count": 40,
   "metadata": {},
   "outputs": [
    {
     "name": "stdout",
     "output_type": "stream",
     "text": [
      " * sqlite:///chatdata.db\n",
      "Done.\n"
     ]
    },
    {
     "data": {
      "text/plain": [
       "[]"
      ]
     },
     "execution_count": 40,
     "metadata": {},
     "output_type": "execute_result"
    }
   ],
   "source": [
    "%%sql\n",
    "DROP TABLE IF EXISTS 'queries'"
   ]
  },
  {
   "cell_type": "markdown",
   "metadata": {},
   "source": [
    "# 1: Load the Data\n",
    "Now we can start loading the data.  The tables will be created as we load the data.  "
   ]
  },
  {
   "cell_type": "markdown",
   "metadata": {},
   "source": [
    "## Lifecycle Stages: Transform and Organise\n",
    "The data has already been processed into 3 clean data files ready for this project:\n",
    "\n",
    "- queries.csv\n",
    "- posts.csv\n",
    "- comments.csv\n",
    "\n",
    "We will load these files into our database."
   ]
  },
  {
   "cell_type": "markdown",
   "metadata": {},
   "source": [
    "## Lifecycle Stage: Acquire\n"
   ]
  },
  {
   "cell_type": "markdown",
   "metadata": {},
   "source": [
    "### Load Comments Data into a `comments` table\n",
    "Now we will load the data from the csv files into our sqlite database.\n",
    "\n",
    "First we load the csv file into a Pandas dataframe:"
   ]
  },
  {
   "cell_type": "code",
   "execution_count": 41,
   "metadata": {},
   "outputs": [
    {
     "data": {
      "text/html": [
       "<div>\n",
       "<style scoped>\n",
       "    .dataframe tbody tr th:only-of-type {\n",
       "        vertical-align: middle;\n",
       "    }\n",
       "\n",
       "    .dataframe tbody tr th {\n",
       "        vertical-align: top;\n",
       "    }\n",
       "\n",
       "    .dataframe thead th {\n",
       "        text-align: right;\n",
       "    }\n",
       "</style>\n",
       "<table border=\"1\" class=\"dataframe\">\n",
       "  <thead>\n",
       "    <tr style=\"text-align: right;\">\n",
       "      <th></th>\n",
       "      <th>Id</th>\n",
       "      <th>PostId</th>\n",
       "      <th>Score</th>\n",
       "      <th>Text</th>\n",
       "      <th>CreationDate</th>\n",
       "      <th>UserId</th>\n",
       "    </tr>\n",
       "  </thead>\n",
       "  <tbody>\n",
       "    <tr>\n",
       "      <th>0</th>\n",
       "      <td>723182</td>\n",
       "      <td>385124</td>\n",
       "      <td>0</td>\n",
       "      <td>@BenBolker I don't understand. The fit cannot ...</td>\n",
       "      <td>2019-01-01 00:06:39</td>\n",
       "      <td>78575</td>\n",
       "    </tr>\n",
       "    <tr>\n",
       "      <th>1</th>\n",
       "      <td>723183</td>\n",
       "      <td>385124</td>\n",
       "      <td>3</td>\n",
       "      <td>You can't add *less* than (`-min(y)`), but you...</td>\n",
       "      <td>2019-01-01 00:09:22</td>\n",
       "      <td>2126</td>\n",
       "    </tr>\n",
       "    <tr>\n",
       "      <th>2</th>\n",
       "      <td>723186</td>\n",
       "      <td>385137</td>\n",
       "      <td>0</td>\n",
       "      <td>nice. If you felt like doing the work it would...</td>\n",
       "      <td>2019-01-01 00:32:11</td>\n",
       "      <td>2126</td>\n",
       "    </tr>\n",
       "    <tr>\n",
       "      <th>3</th>\n",
       "      <td>723187</td>\n",
       "      <td>385137</td>\n",
       "      <td>0</td>\n",
       "      <td>i.e. `emdbook::curve3d(-sum(dnbinom(y,mu=mu,si...</td>\n",
       "      <td>2019-01-01 00:40:36</td>\n",
       "      <td>2126</td>\n",
       "    </tr>\n",
       "    <tr>\n",
       "      <th>4</th>\n",
       "      <td>723188</td>\n",
       "      <td>385134</td>\n",
       "      <td>0</td>\n",
       "      <td>Don't you mean \"so variance should be $\\sigma^...</td>\n",
       "      <td>2019-01-01 00:41:28</td>\n",
       "      <td>112141</td>\n",
       "    </tr>\n",
       "  </tbody>\n",
       "</table>\n",
       "</div>"
      ],
      "text/plain": [
       "       Id  PostId  Score                                               Text  \\\n",
       "0  723182  385124      0  @BenBolker I don't understand. The fit cannot ...   \n",
       "1  723183  385124      3  You can't add *less* than (`-min(y)`), but you...   \n",
       "2  723186  385137      0  nice. If you felt like doing the work it would...   \n",
       "3  723187  385137      0  i.e. `emdbook::curve3d(-sum(dnbinom(y,mu=mu,si...   \n",
       "4  723188  385134      0  Don't you mean \"so variance should be $\\sigma^...   \n",
       "\n",
       "          CreationDate  UserId  \n",
       "0  2019-01-01 00:06:39   78575  \n",
       "1  2019-01-01 00:09:22    2126  \n",
       "2  2019-01-01 00:32:11    2126  \n",
       "3  2019-01-01 00:40:36    2126  \n",
       "4  2019-01-01 00:41:28  112141  "
      ]
     },
     "execution_count": 41,
     "metadata": {},
     "output_type": "execute_result"
    }
   ],
   "source": [
    "comments = pd.read_csv('comments.csv')\n",
    "comments.head()"
   ]
  },
  {
   "cell_type": "markdown",
   "metadata": {},
   "source": [
    "Now take the comments dataframe and push the data into the Sqlite database table called 'comments':"
   ]
  },
  {
   "cell_type": "code",
   "execution_count": 42,
   "metadata": {},
   "outputs": [
    {
     "data": {
      "text/html": [
       "<div>\n",
       "<style scoped>\n",
       "    .dataframe tbody tr th:only-of-type {\n",
       "        vertical-align: middle;\n",
       "    }\n",
       "\n",
       "    .dataframe tbody tr th {\n",
       "        vertical-align: top;\n",
       "    }\n",
       "\n",
       "    .dataframe thead th {\n",
       "        text-align: right;\n",
       "    }\n",
       "</style>\n",
       "<table border=\"1\" class=\"dataframe\">\n",
       "  <thead>\n",
       "    <tr style=\"text-align: right;\">\n",
       "      <th></th>\n",
       "      <th>Id</th>\n",
       "      <th>PostId</th>\n",
       "      <th>Score</th>\n",
       "      <th>Text</th>\n",
       "      <th>CreationDate</th>\n",
       "      <th>UserId</th>\n",
       "    </tr>\n",
       "  </thead>\n",
       "  <tbody>\n",
       "    <tr>\n",
       "      <th>0</th>\n",
       "      <td>723182</td>\n",
       "      <td>385124</td>\n",
       "      <td>0</td>\n",
       "      <td>@BenBolker I don't understand. The fit cannot ...</td>\n",
       "      <td>2019-01-01 00:06:39</td>\n",
       "      <td>78575</td>\n",
       "    </tr>\n",
       "    <tr>\n",
       "      <th>1</th>\n",
       "      <td>723183</td>\n",
       "      <td>385124</td>\n",
       "      <td>3</td>\n",
       "      <td>You can't add *less* than (`-min(y)`), but you...</td>\n",
       "      <td>2019-01-01 00:09:22</td>\n",
       "      <td>2126</td>\n",
       "    </tr>\n",
       "    <tr>\n",
       "      <th>2</th>\n",
       "      <td>723186</td>\n",
       "      <td>385137</td>\n",
       "      <td>0</td>\n",
       "      <td>nice. If you felt like doing the work it would...</td>\n",
       "      <td>2019-01-01 00:32:11</td>\n",
       "      <td>2126</td>\n",
       "    </tr>\n",
       "    <tr>\n",
       "      <th>3</th>\n",
       "      <td>723187</td>\n",
       "      <td>385137</td>\n",
       "      <td>0</td>\n",
       "      <td>i.e. `emdbook::curve3d(-sum(dnbinom(y,mu=mu,si...</td>\n",
       "      <td>2019-01-01 00:40:36</td>\n",
       "      <td>2126</td>\n",
       "    </tr>\n",
       "    <tr>\n",
       "      <th>4</th>\n",
       "      <td>723188</td>\n",
       "      <td>385134</td>\n",
       "      <td>0</td>\n",
       "      <td>Don't you mean \"so variance should be $\\sigma^...</td>\n",
       "      <td>2019-01-01 00:41:28</td>\n",
       "      <td>112141</td>\n",
       "    </tr>\n",
       "  </tbody>\n",
       "</table>\n",
       "</div>"
      ],
      "text/plain": [
       "       Id  PostId  Score                                               Text  \\\n",
       "0  723182  385124      0  @BenBolker I don't understand. The fit cannot ...   \n",
       "1  723183  385124      3  You can't add *less* than (`-min(y)`), but you...   \n",
       "2  723186  385137      0  nice. If you felt like doing the work it would...   \n",
       "3  723187  385137      0  i.e. `emdbook::curve3d(-sum(dnbinom(y,mu=mu,si...   \n",
       "4  723188  385134      0  Don't you mean \"so variance should be $\\sigma^...   \n",
       "\n",
       "          CreationDate  UserId  \n",
       "0  2019-01-01 00:06:39   78575  \n",
       "1  2019-01-01 00:09:22    2126  \n",
       "2  2019-01-01 00:32:11    2126  \n",
       "3  2019-01-01 00:40:36    2126  \n",
       "4  2019-01-01 00:41:28  112141  "
      ]
     },
     "execution_count": 42,
     "metadata": {},
     "output_type": "execute_result"
    }
   ],
   "source": [
    "# load comments into sqlite\n",
    "comments.to_sql('comments', con, if_exists='replace', index=False)\n",
    "\n",
    "# read back in to prove that it worked\n",
    "sql = 'SELECT * FROM comments'\n",
    "comments = pd.read_sql(sql, con)\n",
    "comments.head()"
   ]
  },
  {
   "cell_type": "markdown",
   "metadata": {},
   "source": [
    "### Load Other CSVs\n"
   ]
  },
  {
   "cell_type": "code",
   "execution_count": 43,
   "metadata": {},
   "outputs": [
    {
     "data": {
      "text/html": [
       "<div>\n",
       "<style scoped>\n",
       "    .dataframe tbody tr th:only-of-type {\n",
       "        vertical-align: middle;\n",
       "    }\n",
       "\n",
       "    .dataframe tbody tr th {\n",
       "        vertical-align: top;\n",
       "    }\n",
       "\n",
       "    .dataframe thead th {\n",
       "        text-align: right;\n",
       "    }\n",
       "</style>\n",
       "<table border=\"1\" class=\"dataframe\">\n",
       "  <thead>\n",
       "    <tr style=\"text-align: right;\">\n",
       "      <th></th>\n",
       "      <th>Id</th>\n",
       "      <th>PostTypeId</th>\n",
       "      <th>AcceptedAnswerId</th>\n",
       "      <th>ParentId</th>\n",
       "      <th>CreationDate</th>\n",
       "      <th>Score</th>\n",
       "      <th>ViewCount</th>\n",
       "      <th>Body</th>\n",
       "      <th>OwnerUserId</th>\n",
       "      <th>OwnerDisplayName</th>\n",
       "      <th>...</th>\n",
       "      <th>LastEditorDisplayName</th>\n",
       "      <th>LastEditDate</th>\n",
       "      <th>LastActivityDate</th>\n",
       "      <th>Title</th>\n",
       "      <th>Tags</th>\n",
       "      <th>AnswerCount</th>\n",
       "      <th>CommentCount</th>\n",
       "      <th>FavoriteCount</th>\n",
       "      <th>ClosedDate</th>\n",
       "      <th>CommunityOwnedDate</th>\n",
       "    </tr>\n",
       "  </thead>\n",
       "  <tbody>\n",
       "    <tr>\n",
       "      <th>0</th>\n",
       "      <td>423497</td>\n",
       "      <td>1</td>\n",
       "      <td>423511</td>\n",
       "      <td>0</td>\n",
       "      <td>2019-08-24 09:39:31</td>\n",
       "      <td>2</td>\n",
       "      <td>68</td>\n",
       "      <td>&lt;p&gt;From wikipedia &lt;a href=\"https://en.wikipedi...</td>\n",
       "      <td>64552</td>\n",
       "      <td>NaN</td>\n",
       "      <td>...</td>\n",
       "      <td>NaN</td>\n",
       "      <td>NaN</td>\n",
       "      <td>2019-08-24 11:38:54</td>\n",
       "      <td>When are biased estimators with lower MSE pref...</td>\n",
       "      <td>&lt;bias&gt;&lt;unbiased-estimator&gt;&lt;mse&gt;</td>\n",
       "      <td>1</td>\n",
       "      <td>0</td>\n",
       "      <td>1</td>\n",
       "      <td>2019-08-25 10:25:24</td>\n",
       "      <td>NaN</td>\n",
       "    </tr>\n",
       "    <tr>\n",
       "      <th>1</th>\n",
       "      <td>423498</td>\n",
       "      <td>1</td>\n",
       "      <td>0</td>\n",
       "      <td>0</td>\n",
       "      <td>2019-08-24 09:47:42</td>\n",
       "      <td>1</td>\n",
       "      <td>24</td>\n",
       "      <td>&lt;p&gt;I am currently doing local sensitivity anal...</td>\n",
       "      <td>87231</td>\n",
       "      <td>NaN</td>\n",
       "      <td>...</td>\n",
       "      <td>NaN</td>\n",
       "      <td>2019-09-06 12:52:32</td>\n",
       "      <td>2019-09-06 12:52:32</td>\n",
       "      <td>How to interpret the result from local sensiti...</td>\n",
       "      <td>&lt;sensitivity-analysis&gt;&lt;elasticity&gt;</td>\n",
       "      <td>1</td>\n",
       "      <td>0</td>\n",
       "      <td>0</td>\n",
       "      <td>NaN</td>\n",
       "      <td>NaN</td>\n",
       "    </tr>\n",
       "    <tr>\n",
       "      <th>2</th>\n",
       "      <td>423499</td>\n",
       "      <td>1</td>\n",
       "      <td>0</td>\n",
       "      <td>0</td>\n",
       "      <td>2019-08-24 09:48:26</td>\n",
       "      <td>1</td>\n",
       "      <td>56</td>\n",
       "      <td>&lt;p&gt;I'm an honours student in psychology doing ...</td>\n",
       "      <td>257207</td>\n",
       "      <td>NaN</td>\n",
       "      <td>...</td>\n",
       "      <td>NaN</td>\n",
       "      <td>NaN</td>\n",
       "      <td>2019-08-25 08:54:17</td>\n",
       "      <td>Power Analysis in G-Power - Mixed Model Anova</td>\n",
       "      <td>&lt;anova&gt;&lt;gpower&gt;</td>\n",
       "      <td>2</td>\n",
       "      <td>0</td>\n",
       "      <td>0</td>\n",
       "      <td>NaN</td>\n",
       "      <td>NaN</td>\n",
       "    </tr>\n",
       "    <tr>\n",
       "      <th>3</th>\n",
       "      <td>423500</td>\n",
       "      <td>2</td>\n",
       "      <td>0</td>\n",
       "      <td>215865</td>\n",
       "      <td>2019-08-24 09:57:01</td>\n",
       "      <td>0</td>\n",
       "      <td>0</td>\n",
       "      <td>&lt;p&gt;Maybe you can look this &lt;a href=\"https://me...</td>\n",
       "      <td>106606</td>\n",
       "      <td>NaN</td>\n",
       "      <td>...</td>\n",
       "      <td>NaN</td>\n",
       "      <td>NaN</td>\n",
       "      <td>2019-08-24 09:57:01</td>\n",
       "      <td>NaN</td>\n",
       "      <td>NaN</td>\n",
       "      <td>0</td>\n",
       "      <td>0</td>\n",
       "      <td>0</td>\n",
       "      <td>NaN</td>\n",
       "      <td>NaN</td>\n",
       "    </tr>\n",
       "    <tr>\n",
       "      <th>4</th>\n",
       "      <td>423502</td>\n",
       "      <td>2</td>\n",
       "      <td>0</td>\n",
       "      <td>423286</td>\n",
       "      <td>2019-08-24 10:44:52</td>\n",
       "      <td>3</td>\n",
       "      <td>0</td>\n",
       "      <td>&lt;blockquote&gt;\\n  &lt;p&gt;Q1) Is my approach valid?&lt;/...</td>\n",
       "      <td>220643</td>\n",
       "      <td>NaN</td>\n",
       "      <td>...</td>\n",
       "      <td>NaN</td>\n",
       "      <td>2019-08-24 12:13:46</td>\n",
       "      <td>2019-08-24 12:13:46</td>\n",
       "      <td>NaN</td>\n",
       "      <td>NaN</td>\n",
       "      <td>0</td>\n",
       "      <td>1</td>\n",
       "      <td>0</td>\n",
       "      <td>NaN</td>\n",
       "      <td>NaN</td>\n",
       "    </tr>\n",
       "  </tbody>\n",
       "</table>\n",
       "<p>5 rows × 21 columns</p>\n",
       "</div>"
      ],
      "text/plain": [
       "       Id  PostTypeId  AcceptedAnswerId  ParentId         CreationDate  Score  \\\n",
       "0  423497           1            423511         0  2019-08-24 09:39:31      2   \n",
       "1  423498           1                 0         0  2019-08-24 09:47:42      1   \n",
       "2  423499           1                 0         0  2019-08-24 09:48:26      1   \n",
       "3  423500           2                 0    215865  2019-08-24 09:57:01      0   \n",
       "4  423502           2                 0    423286  2019-08-24 10:44:52      3   \n",
       "\n",
       "   ViewCount                                               Body  OwnerUserId  \\\n",
       "0         68  <p>From wikipedia <a href=\"https://en.wikipedi...        64552   \n",
       "1         24  <p>I am currently doing local sensitivity anal...        87231   \n",
       "2         56  <p>I'm an honours student in psychology doing ...       257207   \n",
       "3          0  <p>Maybe you can look this <a href=\"https://me...       106606   \n",
       "4          0  <blockquote>\\n  <p>Q1) Is my approach valid?</...       220643   \n",
       "\n",
       "  OwnerDisplayName  ...  LastEditorDisplayName         LastEditDate  \\\n",
       "0              NaN  ...                    NaN                  NaN   \n",
       "1              NaN  ...                    NaN  2019-09-06 12:52:32   \n",
       "2              NaN  ...                    NaN                  NaN   \n",
       "3              NaN  ...                    NaN                  NaN   \n",
       "4              NaN  ...                    NaN  2019-08-24 12:13:46   \n",
       "\n",
       "      LastActivityDate                                              Title  \\\n",
       "0  2019-08-24 11:38:54  When are biased estimators with lower MSE pref...   \n",
       "1  2019-09-06 12:52:32  How to interpret the result from local sensiti...   \n",
       "2  2019-08-25 08:54:17      Power Analysis in G-Power - Mixed Model Anova   \n",
       "3  2019-08-24 09:57:01                                                NaN   \n",
       "4  2019-08-24 12:13:46                                                NaN   \n",
       "\n",
       "                                 Tags AnswerCount  CommentCount  \\\n",
       "0     <bias><unbiased-estimator><mse>           1             0   \n",
       "1  <sensitivity-analysis><elasticity>           1             0   \n",
       "2                     <anova><gpower>           2             0   \n",
       "3                                 NaN           0             0   \n",
       "4                                 NaN           0             1   \n",
       "\n",
       "   FavoriteCount           ClosedDate CommunityOwnedDate  \n",
       "0              1  2019-08-25 10:25:24                NaN  \n",
       "1              0                  NaN                NaN  \n",
       "2              0                  NaN                NaN  \n",
       "3              0                  NaN                NaN  \n",
       "4              0                  NaN                NaN  \n",
       "\n",
       "[5 rows x 21 columns]"
      ]
     },
     "execution_count": 43,
     "metadata": {},
     "output_type": "execute_result"
    }
   ],
   "source": [
    "posts = pd.read_csv('posts.csv')\n",
    "posts.head()"
   ]
  },
  {
   "cell_type": "code",
   "execution_count": 44,
   "metadata": {},
   "outputs": [
    {
     "data": {
      "text/html": [
       "<div>\n",
       "<style scoped>\n",
       "    .dataframe tbody tr th:only-of-type {\n",
       "        vertical-align: middle;\n",
       "    }\n",
       "\n",
       "    .dataframe tbody tr th {\n",
       "        vertical-align: top;\n",
       "    }\n",
       "\n",
       "    .dataframe thead th {\n",
       "        text-align: right;\n",
       "    }\n",
       "</style>\n",
       "<table border=\"1\" class=\"dataframe\">\n",
       "  <thead>\n",
       "    <tr style=\"text-align: right;\">\n",
       "      <th></th>\n",
       "      <th>Id</th>\n",
       "      <th>PostTypeId</th>\n",
       "      <th>AcceptedAnswerId</th>\n",
       "      <th>ParentId</th>\n",
       "      <th>CreationDate</th>\n",
       "      <th>Score</th>\n",
       "      <th>ViewCount</th>\n",
       "      <th>Body</th>\n",
       "      <th>OwnerUserId</th>\n",
       "      <th>OwnerDisplayName</th>\n",
       "      <th>...</th>\n",
       "      <th>LastEditorDisplayName</th>\n",
       "      <th>LastEditDate</th>\n",
       "      <th>LastActivityDate</th>\n",
       "      <th>Title</th>\n",
       "      <th>Tags</th>\n",
       "      <th>AnswerCount</th>\n",
       "      <th>CommentCount</th>\n",
       "      <th>FavoriteCount</th>\n",
       "      <th>ClosedDate</th>\n",
       "      <th>CommunityOwnedDate</th>\n",
       "    </tr>\n",
       "  </thead>\n",
       "  <tbody>\n",
       "    <tr>\n",
       "      <th>0</th>\n",
       "      <td>423497</td>\n",
       "      <td>1</td>\n",
       "      <td>423511</td>\n",
       "      <td>0</td>\n",
       "      <td>2019-08-24 09:39:31</td>\n",
       "      <td>2</td>\n",
       "      <td>68</td>\n",
       "      <td>&lt;p&gt;From wikipedia &lt;a href=\"https://en.wikipedi...</td>\n",
       "      <td>64552</td>\n",
       "      <td>None</td>\n",
       "      <td>...</td>\n",
       "      <td>None</td>\n",
       "      <td>None</td>\n",
       "      <td>2019-08-24 11:38:54</td>\n",
       "      <td>When are biased estimators with lower MSE pref...</td>\n",
       "      <td>&lt;bias&gt;&lt;unbiased-estimator&gt;&lt;mse&gt;</td>\n",
       "      <td>1</td>\n",
       "      <td>0</td>\n",
       "      <td>1</td>\n",
       "      <td>2019-08-25 10:25:24</td>\n",
       "      <td>None</td>\n",
       "    </tr>\n",
       "    <tr>\n",
       "      <th>1</th>\n",
       "      <td>423498</td>\n",
       "      <td>1</td>\n",
       "      <td>0</td>\n",
       "      <td>0</td>\n",
       "      <td>2019-08-24 09:47:42</td>\n",
       "      <td>1</td>\n",
       "      <td>24</td>\n",
       "      <td>&lt;p&gt;I am currently doing local sensitivity anal...</td>\n",
       "      <td>87231</td>\n",
       "      <td>None</td>\n",
       "      <td>...</td>\n",
       "      <td>None</td>\n",
       "      <td>2019-09-06 12:52:32</td>\n",
       "      <td>2019-09-06 12:52:32</td>\n",
       "      <td>How to interpret the result from local sensiti...</td>\n",
       "      <td>&lt;sensitivity-analysis&gt;&lt;elasticity&gt;</td>\n",
       "      <td>1</td>\n",
       "      <td>0</td>\n",
       "      <td>0</td>\n",
       "      <td>None</td>\n",
       "      <td>None</td>\n",
       "    </tr>\n",
       "    <tr>\n",
       "      <th>2</th>\n",
       "      <td>423499</td>\n",
       "      <td>1</td>\n",
       "      <td>0</td>\n",
       "      <td>0</td>\n",
       "      <td>2019-08-24 09:48:26</td>\n",
       "      <td>1</td>\n",
       "      <td>56</td>\n",
       "      <td>&lt;p&gt;I'm an honours student in psychology doing ...</td>\n",
       "      <td>257207</td>\n",
       "      <td>None</td>\n",
       "      <td>...</td>\n",
       "      <td>None</td>\n",
       "      <td>None</td>\n",
       "      <td>2019-08-25 08:54:17</td>\n",
       "      <td>Power Analysis in G-Power - Mixed Model Anova</td>\n",
       "      <td>&lt;anova&gt;&lt;gpower&gt;</td>\n",
       "      <td>2</td>\n",
       "      <td>0</td>\n",
       "      <td>0</td>\n",
       "      <td>None</td>\n",
       "      <td>None</td>\n",
       "    </tr>\n",
       "    <tr>\n",
       "      <th>3</th>\n",
       "      <td>423500</td>\n",
       "      <td>2</td>\n",
       "      <td>0</td>\n",
       "      <td>215865</td>\n",
       "      <td>2019-08-24 09:57:01</td>\n",
       "      <td>0</td>\n",
       "      <td>0</td>\n",
       "      <td>&lt;p&gt;Maybe you can look this &lt;a href=\"https://me...</td>\n",
       "      <td>106606</td>\n",
       "      <td>None</td>\n",
       "      <td>...</td>\n",
       "      <td>None</td>\n",
       "      <td>None</td>\n",
       "      <td>2019-08-24 09:57:01</td>\n",
       "      <td>None</td>\n",
       "      <td>None</td>\n",
       "      <td>0</td>\n",
       "      <td>0</td>\n",
       "      <td>0</td>\n",
       "      <td>None</td>\n",
       "      <td>None</td>\n",
       "    </tr>\n",
       "    <tr>\n",
       "      <th>4</th>\n",
       "      <td>423502</td>\n",
       "      <td>2</td>\n",
       "      <td>0</td>\n",
       "      <td>423286</td>\n",
       "      <td>2019-08-24 10:44:52</td>\n",
       "      <td>3</td>\n",
       "      <td>0</td>\n",
       "      <td>&lt;blockquote&gt;\\n  &lt;p&gt;Q1) Is my approach valid?&lt;/...</td>\n",
       "      <td>220643</td>\n",
       "      <td>None</td>\n",
       "      <td>...</td>\n",
       "      <td>None</td>\n",
       "      <td>2019-08-24 12:13:46</td>\n",
       "      <td>2019-08-24 12:13:46</td>\n",
       "      <td>None</td>\n",
       "      <td>None</td>\n",
       "      <td>0</td>\n",
       "      <td>1</td>\n",
       "      <td>0</td>\n",
       "      <td>None</td>\n",
       "      <td>None</td>\n",
       "    </tr>\n",
       "  </tbody>\n",
       "</table>\n",
       "<p>5 rows × 21 columns</p>\n",
       "</div>"
      ],
      "text/plain": [
       "       Id  PostTypeId  AcceptedAnswerId  ParentId         CreationDate  Score  \\\n",
       "0  423497           1            423511         0  2019-08-24 09:39:31      2   \n",
       "1  423498           1                 0         0  2019-08-24 09:47:42      1   \n",
       "2  423499           1                 0         0  2019-08-24 09:48:26      1   \n",
       "3  423500           2                 0    215865  2019-08-24 09:57:01      0   \n",
       "4  423502           2                 0    423286  2019-08-24 10:44:52      3   \n",
       "\n",
       "   ViewCount                                               Body  OwnerUserId  \\\n",
       "0         68  <p>From wikipedia <a href=\"https://en.wikipedi...        64552   \n",
       "1         24  <p>I am currently doing local sensitivity anal...        87231   \n",
       "2         56  <p>I'm an honours student in psychology doing ...       257207   \n",
       "3          0  <p>Maybe you can look this <a href=\"https://me...       106606   \n",
       "4          0  <blockquote>\\n  <p>Q1) Is my approach valid?</...       220643   \n",
       "\n",
       "  OwnerDisplayName  ...  LastEditorDisplayName         LastEditDate  \\\n",
       "0             None  ...                   None                 None   \n",
       "1             None  ...                   None  2019-09-06 12:52:32   \n",
       "2             None  ...                   None                 None   \n",
       "3             None  ...                   None                 None   \n",
       "4             None  ...                   None  2019-08-24 12:13:46   \n",
       "\n",
       "      LastActivityDate                                              Title  \\\n",
       "0  2019-08-24 11:38:54  When are biased estimators with lower MSE pref...   \n",
       "1  2019-09-06 12:52:32  How to interpret the result from local sensiti...   \n",
       "2  2019-08-25 08:54:17      Power Analysis in G-Power - Mixed Model Anova   \n",
       "3  2019-08-24 09:57:01                                               None   \n",
       "4  2019-08-24 12:13:46                                               None   \n",
       "\n",
       "                                 Tags AnswerCount  CommentCount  \\\n",
       "0     <bias><unbiased-estimator><mse>           1             0   \n",
       "1  <sensitivity-analysis><elasticity>           1             0   \n",
       "2                     <anova><gpower>           2             0   \n",
       "3                                None           0             0   \n",
       "4                                None           0             1   \n",
       "\n",
       "   FavoriteCount           ClosedDate CommunityOwnedDate  \n",
       "0              1  2019-08-25 10:25:24               None  \n",
       "1              0                 None               None  \n",
       "2              0                 None               None  \n",
       "3              0                 None               None  \n",
       "4              0                 None               None  \n",
       "\n",
       "[5 rows x 21 columns]"
      ]
     },
     "execution_count": 44,
     "metadata": {},
     "output_type": "execute_result"
    }
   ],
   "source": [
    "# load posts into sqlite\n",
    "posts.to_sql('posts', con, if_exists='replace', index=False)\n",
    "\n",
    "# read back in to prove that it worked\n",
    "sql = 'SELECT * FROM posts'\n",
    "posts = pd.read_sql(sql, con)\n",
    "posts.head()"
   ]
  },
  {
   "cell_type": "code",
   "execution_count": 45,
   "metadata": {},
   "outputs": [
    {
     "data": {
      "text/html": [
       "<div>\n",
       "<style scoped>\n",
       "    .dataframe tbody tr th:only-of-type {\n",
       "        vertical-align: middle;\n",
       "    }\n",
       "\n",
       "    .dataframe tbody tr th {\n",
       "        vertical-align: top;\n",
       "    }\n",
       "\n",
       "    .dataframe thead th {\n",
       "        text-align: right;\n",
       "    }\n",
       "</style>\n",
       "<table border=\"1\" class=\"dataframe\">\n",
       "  <thead>\n",
       "    <tr style=\"text-align: right;\">\n",
       "      <th></th>\n",
       "      <th>Id</th>\n",
       "      <th>Reputation</th>\n",
       "      <th>CreationDate</th>\n",
       "      <th>DisplayName</th>\n",
       "      <th>LastAccessDate</th>\n",
       "      <th>WebsiteUrl</th>\n",
       "      <th>Location</th>\n",
       "      <th>AboutMe</th>\n",
       "      <th>Views</th>\n",
       "      <th>UpVotes</th>\n",
       "      <th>DownVotes</th>\n",
       "      <th>ProfileImageUrl</th>\n",
       "      <th>AccountId</th>\n",
       "    </tr>\n",
       "  </thead>\n",
       "  <tbody>\n",
       "    <tr>\n",
       "      <th>0</th>\n",
       "      <td>157607</td>\n",
       "      <td>31</td>\n",
       "      <td>2017-04-17 14:50:42</td>\n",
       "      <td>user157607</td>\n",
       "      <td>2019-07-23 16:44:08</td>\n",
       "      <td>NaN</td>\n",
       "      <td>NaN</td>\n",
       "      <td>NaN</td>\n",
       "      <td>0</td>\n",
       "      <td>0</td>\n",
       "      <td>0</td>\n",
       "      <td>https://www.gravatar.com/avatar/2efb161849efa4...</td>\n",
       "      <td>10705183</td>\n",
       "    </tr>\n",
       "    <tr>\n",
       "      <th>1</th>\n",
       "      <td>157656</td>\n",
       "      <td>101</td>\n",
       "      <td>2017-04-17 20:08:20</td>\n",
       "      <td>user102859</td>\n",
       "      <td>2019-06-26 13:42:13</td>\n",
       "      <td>NaN</td>\n",
       "      <td>NaN</td>\n",
       "      <td>NaN</td>\n",
       "      <td>3</td>\n",
       "      <td>0</td>\n",
       "      <td>0</td>\n",
       "      <td>https://i.stack.imgur.com/eY4ka.jpg?s=128&amp;g=1</td>\n",
       "      <td>10567606</td>\n",
       "    </tr>\n",
       "    <tr>\n",
       "      <th>2</th>\n",
       "      <td>157704</td>\n",
       "      <td>133</td>\n",
       "      <td>2017-04-18 05:10:47</td>\n",
       "      <td>jupiar</td>\n",
       "      <td>2019-11-25 13:32:27</td>\n",
       "      <td>NaN</td>\n",
       "      <td>Shanghai, China</td>\n",
       "      <td>&lt;p&gt;Originally from the U.K, I have an Undergra...</td>\n",
       "      <td>1</td>\n",
       "      <td>1</td>\n",
       "      <td>0</td>\n",
       "      <td>https://www.gravatar.com/avatar/720e20205122c5...</td>\n",
       "      <td>9501631</td>\n",
       "    </tr>\n",
       "    <tr>\n",
       "      <th>3</th>\n",
       "      <td>157709</td>\n",
       "      <td>155</td>\n",
       "      <td>2017-04-18 06:39:18</td>\n",
       "      <td>farmer</td>\n",
       "      <td>2019-02-17 19:44:24</td>\n",
       "      <td>NaN</td>\n",
       "      <td>NaN</td>\n",
       "      <td>NaN</td>\n",
       "      <td>16</td>\n",
       "      <td>0</td>\n",
       "      <td>0</td>\n",
       "      <td>https://www.gravatar.com/avatar/0f8c4bde3d8f25...</td>\n",
       "      <td>10709837</td>\n",
       "    </tr>\n",
       "    <tr>\n",
       "      <th>4</th>\n",
       "      <td>157755</td>\n",
       "      <td>101</td>\n",
       "      <td>2017-04-18 12:56:17</td>\n",
       "      <td>Miki P</td>\n",
       "      <td>2019-08-12 17:02:21</td>\n",
       "      <td>NaN</td>\n",
       "      <td>NaN</td>\n",
       "      <td>NaN</td>\n",
       "      <td>1</td>\n",
       "      <td>9</td>\n",
       "      <td>0</td>\n",
       "      <td>https://www.gravatar.com/avatar/af088558cd81c5...</td>\n",
       "      <td>7969290</td>\n",
       "    </tr>\n",
       "  </tbody>\n",
       "</table>\n",
       "</div>"
      ],
      "text/plain": [
       "       Id  Reputation         CreationDate DisplayName       LastAccessDate  \\\n",
       "0  157607          31  2017-04-17 14:50:42  user157607  2019-07-23 16:44:08   \n",
       "1  157656         101  2017-04-17 20:08:20  user102859  2019-06-26 13:42:13   \n",
       "2  157704         133  2017-04-18 05:10:47      jupiar  2019-11-25 13:32:27   \n",
       "3  157709         155  2017-04-18 06:39:18      farmer  2019-02-17 19:44:24   \n",
       "4  157755         101  2017-04-18 12:56:17      Miki P  2019-08-12 17:02:21   \n",
       "\n",
       "  WebsiteUrl         Location  \\\n",
       "0        NaN              NaN   \n",
       "1        NaN              NaN   \n",
       "2        NaN  Shanghai, China   \n",
       "3        NaN              NaN   \n",
       "4        NaN              NaN   \n",
       "\n",
       "                                             AboutMe  Views  UpVotes  \\\n",
       "0                                                NaN      0        0   \n",
       "1                                                NaN      3        0   \n",
       "2  <p>Originally from the U.K, I have an Undergra...      1        1   \n",
       "3                                                NaN     16        0   \n",
       "4                                                NaN      1        9   \n",
       "\n",
       "   DownVotes                                    ProfileImageUrl  AccountId  \n",
       "0          0  https://www.gravatar.com/avatar/2efb161849efa4...   10705183  \n",
       "1          0      https://i.stack.imgur.com/eY4ka.jpg?s=128&g=1   10567606  \n",
       "2          0  https://www.gravatar.com/avatar/720e20205122c5...    9501631  \n",
       "3          0  https://www.gravatar.com/avatar/0f8c4bde3d8f25...   10709837  \n",
       "4          0  https://www.gravatar.com/avatar/af088558cd81c5...    7969290  "
      ]
     },
     "execution_count": 45,
     "metadata": {},
     "output_type": "execute_result"
    }
   ],
   "source": [
    "users = pd.read_csv('users.csv')\n",
    "users.head()"
   ]
  },
  {
   "cell_type": "code",
   "execution_count": 46,
   "metadata": {},
   "outputs": [
    {
     "data": {
      "text/html": [
       "<div>\n",
       "<style scoped>\n",
       "    .dataframe tbody tr th:only-of-type {\n",
       "        vertical-align: middle;\n",
       "    }\n",
       "\n",
       "    .dataframe tbody tr th {\n",
       "        vertical-align: top;\n",
       "    }\n",
       "\n",
       "    .dataframe thead th {\n",
       "        text-align: right;\n",
       "    }\n",
       "</style>\n",
       "<table border=\"1\" class=\"dataframe\">\n",
       "  <thead>\n",
       "    <tr style=\"text-align: right;\">\n",
       "      <th></th>\n",
       "      <th>Id</th>\n",
       "      <th>Reputation</th>\n",
       "      <th>CreationDate</th>\n",
       "      <th>DisplayName</th>\n",
       "      <th>LastAccessDate</th>\n",
       "      <th>WebsiteUrl</th>\n",
       "      <th>Location</th>\n",
       "      <th>AboutMe</th>\n",
       "      <th>Views</th>\n",
       "      <th>UpVotes</th>\n",
       "      <th>DownVotes</th>\n",
       "      <th>ProfileImageUrl</th>\n",
       "      <th>AccountId</th>\n",
       "    </tr>\n",
       "  </thead>\n",
       "  <tbody>\n",
       "    <tr>\n",
       "      <th>0</th>\n",
       "      <td>157607</td>\n",
       "      <td>31</td>\n",
       "      <td>2017-04-17 14:50:42</td>\n",
       "      <td>user157607</td>\n",
       "      <td>2019-07-23 16:44:08</td>\n",
       "      <td>None</td>\n",
       "      <td>None</td>\n",
       "      <td>None</td>\n",
       "      <td>0</td>\n",
       "      <td>0</td>\n",
       "      <td>0</td>\n",
       "      <td>https://www.gravatar.com/avatar/2efb161849efa4...</td>\n",
       "      <td>10705183</td>\n",
       "    </tr>\n",
       "    <tr>\n",
       "      <th>1</th>\n",
       "      <td>157656</td>\n",
       "      <td>101</td>\n",
       "      <td>2017-04-17 20:08:20</td>\n",
       "      <td>user102859</td>\n",
       "      <td>2019-06-26 13:42:13</td>\n",
       "      <td>None</td>\n",
       "      <td>None</td>\n",
       "      <td>None</td>\n",
       "      <td>3</td>\n",
       "      <td>0</td>\n",
       "      <td>0</td>\n",
       "      <td>https://i.stack.imgur.com/eY4ka.jpg?s=128&amp;g=1</td>\n",
       "      <td>10567606</td>\n",
       "    </tr>\n",
       "    <tr>\n",
       "      <th>2</th>\n",
       "      <td>157704</td>\n",
       "      <td>133</td>\n",
       "      <td>2017-04-18 05:10:47</td>\n",
       "      <td>jupiar</td>\n",
       "      <td>2019-11-25 13:32:27</td>\n",
       "      <td>None</td>\n",
       "      <td>Shanghai, China</td>\n",
       "      <td>&lt;p&gt;Originally from the U.K, I have an Undergra...</td>\n",
       "      <td>1</td>\n",
       "      <td>1</td>\n",
       "      <td>0</td>\n",
       "      <td>https://www.gravatar.com/avatar/720e20205122c5...</td>\n",
       "      <td>9501631</td>\n",
       "    </tr>\n",
       "    <tr>\n",
       "      <th>3</th>\n",
       "      <td>157709</td>\n",
       "      <td>155</td>\n",
       "      <td>2017-04-18 06:39:18</td>\n",
       "      <td>farmer</td>\n",
       "      <td>2019-02-17 19:44:24</td>\n",
       "      <td>None</td>\n",
       "      <td>None</td>\n",
       "      <td>None</td>\n",
       "      <td>16</td>\n",
       "      <td>0</td>\n",
       "      <td>0</td>\n",
       "      <td>https://www.gravatar.com/avatar/0f8c4bde3d8f25...</td>\n",
       "      <td>10709837</td>\n",
       "    </tr>\n",
       "    <tr>\n",
       "      <th>4</th>\n",
       "      <td>157755</td>\n",
       "      <td>101</td>\n",
       "      <td>2017-04-18 12:56:17</td>\n",
       "      <td>Miki P</td>\n",
       "      <td>2019-08-12 17:02:21</td>\n",
       "      <td>None</td>\n",
       "      <td>None</td>\n",
       "      <td>None</td>\n",
       "      <td>1</td>\n",
       "      <td>9</td>\n",
       "      <td>0</td>\n",
       "      <td>https://www.gravatar.com/avatar/af088558cd81c5...</td>\n",
       "      <td>7969290</td>\n",
       "    </tr>\n",
       "  </tbody>\n",
       "</table>\n",
       "</div>"
      ],
      "text/plain": [
       "       Id  Reputation         CreationDate DisplayName       LastAccessDate  \\\n",
       "0  157607          31  2017-04-17 14:50:42  user157607  2019-07-23 16:44:08   \n",
       "1  157656         101  2017-04-17 20:08:20  user102859  2019-06-26 13:42:13   \n",
       "2  157704         133  2017-04-18 05:10:47      jupiar  2019-11-25 13:32:27   \n",
       "3  157709         155  2017-04-18 06:39:18      farmer  2019-02-17 19:44:24   \n",
       "4  157755         101  2017-04-18 12:56:17      Miki P  2019-08-12 17:02:21   \n",
       "\n",
       "  WebsiteUrl         Location  \\\n",
       "0       None             None   \n",
       "1       None             None   \n",
       "2       None  Shanghai, China   \n",
       "3       None             None   \n",
       "4       None             None   \n",
       "\n",
       "                                             AboutMe  Views  UpVotes  \\\n",
       "0                                               None      0        0   \n",
       "1                                               None      3        0   \n",
       "2  <p>Originally from the U.K, I have an Undergra...      1        1   \n",
       "3                                               None     16        0   \n",
       "4                                               None      1        9   \n",
       "\n",
       "   DownVotes                                    ProfileImageUrl  AccountId  \n",
       "0          0  https://www.gravatar.com/avatar/2efb161849efa4...   10705183  \n",
       "1          0      https://i.stack.imgur.com/eY4ka.jpg?s=128&g=1   10567606  \n",
       "2          0  https://www.gravatar.com/avatar/720e20205122c5...    9501631  \n",
       "3          0  https://www.gravatar.com/avatar/0f8c4bde3d8f25...   10709837  \n",
       "4          0  https://www.gravatar.com/avatar/af088558cd81c5...    7969290  "
      ]
     },
     "execution_count": 46,
     "metadata": {},
     "output_type": "execute_result"
    }
   ],
   "source": [
    "# load users into sqlite\n",
    "users.to_sql('users', con, if_exists='replace', index=False)\n",
    "\n",
    "# read back in to prove that it worked\n",
    "sql = 'SELECT * FROM users'\n",
    "users = pd.read_sql(sql, con)\n",
    "users.head()"
   ]
  },
  {
   "cell_type": "markdown",
   "metadata": {},
   "source": [
    "### Drop Duplicates\n"
   ]
  },
  {
   "cell_type": "code",
   "execution_count": 47,
   "metadata": {},
   "outputs": [
    {
     "data": {
      "text/plain": [
       "157607    1\n",
       "35998     1\n",
       "182632    1\n",
       "182594    1\n",
       "182590    1\n",
       "         ..\n",
       "243754    1\n",
       "243759    1\n",
       "243763    1\n",
       "243765    1\n",
       "157592    1\n",
       "Name: Id, Length: 18412, dtype: int64"
      ]
     },
     "execution_count": 47,
     "metadata": {},
     "output_type": "execute_result"
    }
   ],
   "source": [
    "# Find out if we have any duplicates\n",
    "users[\"Id\"].value_counts()"
   ]
  },
  {
   "cell_type": "code",
   "execution_count": 48,
   "metadata": {},
   "outputs": [
    {
     "data": {
      "text/plain": [
       "423497    1\n",
       "420405    1\n",
       "420409    1\n",
       "420410    1\n",
       "420412    1\n",
       "         ..\n",
       "402692    1\n",
       "402693    1\n",
       "402694    1\n",
       "402695    1\n",
       "438743    1\n",
       "Name: Id, Length: 42234, dtype: int64"
      ]
     },
     "execution_count": 48,
     "metadata": {},
     "output_type": "execute_result"
    }
   ],
   "source": [
    "# Find out if we have any duplicates\n",
    "posts[\"Id\"].value_counts()"
   ]
  },
  {
   "cell_type": "code",
   "execution_count": 49,
   "metadata": {},
   "outputs": [
    {
     "data": {
      "text/plain": [
       "723182    1\n",
       "769788    1\n",
       "768879    1\n",
       "768880    1\n",
       "768881    1\n",
       "         ..\n",
       "746468    1\n",
       "746469    1\n",
       "746470    1\n",
       "746472    1\n",
       "791753    1\n",
       "Name: Id, Length: 50000, dtype: int64"
      ]
     },
     "execution_count": 49,
     "metadata": {},
     "output_type": "execute_result"
    }
   ],
   "source": [
    "# Find out if we have any duplicates\n",
    "comments[\"Id\"].value_counts()"
   ]
  },
  {
   "cell_type": "markdown",
   "metadata": {},
   "source": [
    "## Review the Data"
   ]
  },
  {
   "cell_type": "code",
   "execution_count": 50,
   "metadata": {},
   "outputs": [
    {
     "data": {
      "text/plain": [
       "Index(['Id', 'Reputation', 'CreationDate', 'DisplayName', 'LastAccessDate',\n",
       "       'WebsiteUrl', 'Location', 'AboutMe', 'Views', 'UpVotes', 'DownVotes',\n",
       "       'ProfileImageUrl', 'AccountId'],\n",
       "      dtype='object')"
      ]
     },
     "execution_count": 50,
     "metadata": {},
     "output_type": "execute_result"
    }
   ],
   "source": [
    "users.columns"
   ]
  },
  {
   "cell_type": "code",
   "execution_count": 51,
   "metadata": {},
   "outputs": [
    {
     "data": {
      "text/html": [
       "<div>\n",
       "<style scoped>\n",
       "    .dataframe tbody tr th:only-of-type {\n",
       "        vertical-align: middle;\n",
       "    }\n",
       "\n",
       "    .dataframe tbody tr th {\n",
       "        vertical-align: top;\n",
       "    }\n",
       "\n",
       "    .dataframe thead th {\n",
       "        text-align: right;\n",
       "    }\n",
       "</style>\n",
       "<table border=\"1\" class=\"dataframe\">\n",
       "  <thead>\n",
       "    <tr style=\"text-align: right;\">\n",
       "      <th></th>\n",
       "      <th>Id</th>\n",
       "      <th>Reputation</th>\n",
       "      <th>CreationDate</th>\n",
       "      <th>DisplayName</th>\n",
       "      <th>LastAccessDate</th>\n",
       "      <th>WebsiteUrl</th>\n",
       "      <th>Location</th>\n",
       "      <th>AboutMe</th>\n",
       "      <th>Views</th>\n",
       "      <th>UpVotes</th>\n",
       "      <th>DownVotes</th>\n",
       "      <th>ProfileImageUrl</th>\n",
       "      <th>AccountId</th>\n",
       "    </tr>\n",
       "  </thead>\n",
       "  <tbody>\n",
       "    <tr>\n",
       "      <th>0</th>\n",
       "      <td>157607</td>\n",
       "      <td>31</td>\n",
       "      <td>2017-04-17 14:50:42</td>\n",
       "      <td>user157607</td>\n",
       "      <td>2019-07-23 16:44:08</td>\n",
       "      <td>None</td>\n",
       "      <td>None</td>\n",
       "      <td>None</td>\n",
       "      <td>0</td>\n",
       "      <td>0</td>\n",
       "      <td>0</td>\n",
       "      <td>https://www.gravatar.com/avatar/2efb161849efa4...</td>\n",
       "      <td>10705183</td>\n",
       "    </tr>\n",
       "    <tr>\n",
       "      <th>1</th>\n",
       "      <td>157656</td>\n",
       "      <td>101</td>\n",
       "      <td>2017-04-17 20:08:20</td>\n",
       "      <td>user102859</td>\n",
       "      <td>2019-06-26 13:42:13</td>\n",
       "      <td>None</td>\n",
       "      <td>None</td>\n",
       "      <td>None</td>\n",
       "      <td>3</td>\n",
       "      <td>0</td>\n",
       "      <td>0</td>\n",
       "      <td>https://i.stack.imgur.com/eY4ka.jpg?s=128&amp;g=1</td>\n",
       "      <td>10567606</td>\n",
       "    </tr>\n",
       "    <tr>\n",
       "      <th>2</th>\n",
       "      <td>157704</td>\n",
       "      <td>133</td>\n",
       "      <td>2017-04-18 05:10:47</td>\n",
       "      <td>jupiar</td>\n",
       "      <td>2019-11-25 13:32:27</td>\n",
       "      <td>None</td>\n",
       "      <td>Shanghai, China</td>\n",
       "      <td>&lt;p&gt;Originally from the U.K, I have an Undergra...</td>\n",
       "      <td>1</td>\n",
       "      <td>1</td>\n",
       "      <td>0</td>\n",
       "      <td>https://www.gravatar.com/avatar/720e20205122c5...</td>\n",
       "      <td>9501631</td>\n",
       "    </tr>\n",
       "    <tr>\n",
       "      <th>3</th>\n",
       "      <td>157709</td>\n",
       "      <td>155</td>\n",
       "      <td>2017-04-18 06:39:18</td>\n",
       "      <td>farmer</td>\n",
       "      <td>2019-02-17 19:44:24</td>\n",
       "      <td>None</td>\n",
       "      <td>None</td>\n",
       "      <td>None</td>\n",
       "      <td>16</td>\n",
       "      <td>0</td>\n",
       "      <td>0</td>\n",
       "      <td>https://www.gravatar.com/avatar/0f8c4bde3d8f25...</td>\n",
       "      <td>10709837</td>\n",
       "    </tr>\n",
       "    <tr>\n",
       "      <th>4</th>\n",
       "      <td>157755</td>\n",
       "      <td>101</td>\n",
       "      <td>2017-04-18 12:56:17</td>\n",
       "      <td>Miki P</td>\n",
       "      <td>2019-08-12 17:02:21</td>\n",
       "      <td>None</td>\n",
       "      <td>None</td>\n",
       "      <td>None</td>\n",
       "      <td>1</td>\n",
       "      <td>9</td>\n",
       "      <td>0</td>\n",
       "      <td>https://www.gravatar.com/avatar/af088558cd81c5...</td>\n",
       "      <td>7969290</td>\n",
       "    </tr>\n",
       "  </tbody>\n",
       "</table>\n",
       "</div>"
      ],
      "text/plain": [
       "       Id  Reputation         CreationDate DisplayName       LastAccessDate  \\\n",
       "0  157607          31  2017-04-17 14:50:42  user157607  2019-07-23 16:44:08   \n",
       "1  157656         101  2017-04-17 20:08:20  user102859  2019-06-26 13:42:13   \n",
       "2  157704         133  2017-04-18 05:10:47      jupiar  2019-11-25 13:32:27   \n",
       "3  157709         155  2017-04-18 06:39:18      farmer  2019-02-17 19:44:24   \n",
       "4  157755         101  2017-04-18 12:56:17      Miki P  2019-08-12 17:02:21   \n",
       "\n",
       "  WebsiteUrl         Location  \\\n",
       "0       None             None   \n",
       "1       None             None   \n",
       "2       None  Shanghai, China   \n",
       "3       None             None   \n",
       "4       None             None   \n",
       "\n",
       "                                             AboutMe  Views  UpVotes  \\\n",
       "0                                               None      0        0   \n",
       "1                                               None      3        0   \n",
       "2  <p>Originally from the U.K, I have an Undergra...      1        1   \n",
       "3                                               None     16        0   \n",
       "4                                               None      1        9   \n",
       "\n",
       "   DownVotes                                    ProfileImageUrl  AccountId  \n",
       "0          0  https://www.gravatar.com/avatar/2efb161849efa4...   10705183  \n",
       "1          0      https://i.stack.imgur.com/eY4ka.jpg?s=128&g=1   10567606  \n",
       "2          0  https://www.gravatar.com/avatar/720e20205122c5...    9501631  \n",
       "3          0  https://www.gravatar.com/avatar/0f8c4bde3d8f25...   10709837  \n",
       "4          0  https://www.gravatar.com/avatar/af088558cd81c5...    7969290  "
      ]
     },
     "execution_count": 51,
     "metadata": {},
     "output_type": "execute_result"
    }
   ],
   "source": [
    "users.head()"
   ]
  },
  {
   "cell_type": "code",
   "execution_count": 52,
   "metadata": {},
   "outputs": [
    {
     "data": {
      "text/plain": [
       "Index(['Id', 'PostId', 'Score', 'Text', 'CreationDate', 'UserId'], dtype='object')"
      ]
     },
     "execution_count": 52,
     "metadata": {},
     "output_type": "execute_result"
    }
   ],
   "source": [
    "comments.columns"
   ]
  },
  {
   "cell_type": "code",
   "execution_count": 53,
   "metadata": {},
   "outputs": [
    {
     "data": {
      "text/html": [
       "<div>\n",
       "<style scoped>\n",
       "    .dataframe tbody tr th:only-of-type {\n",
       "        vertical-align: middle;\n",
       "    }\n",
       "\n",
       "    .dataframe tbody tr th {\n",
       "        vertical-align: top;\n",
       "    }\n",
       "\n",
       "    .dataframe thead th {\n",
       "        text-align: right;\n",
       "    }\n",
       "</style>\n",
       "<table border=\"1\" class=\"dataframe\">\n",
       "  <thead>\n",
       "    <tr style=\"text-align: right;\">\n",
       "      <th></th>\n",
       "      <th>Id</th>\n",
       "      <th>PostId</th>\n",
       "      <th>Score</th>\n",
       "      <th>Text</th>\n",
       "      <th>CreationDate</th>\n",
       "      <th>UserId</th>\n",
       "    </tr>\n",
       "  </thead>\n",
       "  <tbody>\n",
       "    <tr>\n",
       "      <th>0</th>\n",
       "      <td>723182</td>\n",
       "      <td>385124</td>\n",
       "      <td>0</td>\n",
       "      <td>@BenBolker I don't understand. The fit cannot ...</td>\n",
       "      <td>2019-01-01 00:06:39</td>\n",
       "      <td>78575</td>\n",
       "    </tr>\n",
       "    <tr>\n",
       "      <th>1</th>\n",
       "      <td>723183</td>\n",
       "      <td>385124</td>\n",
       "      <td>3</td>\n",
       "      <td>You can't add *less* than (`-min(y)`), but you...</td>\n",
       "      <td>2019-01-01 00:09:22</td>\n",
       "      <td>2126</td>\n",
       "    </tr>\n",
       "    <tr>\n",
       "      <th>2</th>\n",
       "      <td>723186</td>\n",
       "      <td>385137</td>\n",
       "      <td>0</td>\n",
       "      <td>nice. If you felt like doing the work it would...</td>\n",
       "      <td>2019-01-01 00:32:11</td>\n",
       "      <td>2126</td>\n",
       "    </tr>\n",
       "    <tr>\n",
       "      <th>3</th>\n",
       "      <td>723187</td>\n",
       "      <td>385137</td>\n",
       "      <td>0</td>\n",
       "      <td>i.e. `emdbook::curve3d(-sum(dnbinom(y,mu=mu,si...</td>\n",
       "      <td>2019-01-01 00:40:36</td>\n",
       "      <td>2126</td>\n",
       "    </tr>\n",
       "    <tr>\n",
       "      <th>4</th>\n",
       "      <td>723188</td>\n",
       "      <td>385134</td>\n",
       "      <td>0</td>\n",
       "      <td>Don't you mean \"so variance should be $\\sigma^...</td>\n",
       "      <td>2019-01-01 00:41:28</td>\n",
       "      <td>112141</td>\n",
       "    </tr>\n",
       "  </tbody>\n",
       "</table>\n",
       "</div>"
      ],
      "text/plain": [
       "       Id  PostId  Score                                               Text  \\\n",
       "0  723182  385124      0  @BenBolker I don't understand. The fit cannot ...   \n",
       "1  723183  385124      3  You can't add *less* than (`-min(y)`), but you...   \n",
       "2  723186  385137      0  nice. If you felt like doing the work it would...   \n",
       "3  723187  385137      0  i.e. `emdbook::curve3d(-sum(dnbinom(y,mu=mu,si...   \n",
       "4  723188  385134      0  Don't you mean \"so variance should be $\\sigma^...   \n",
       "\n",
       "          CreationDate  UserId  \n",
       "0  2019-01-01 00:06:39   78575  \n",
       "1  2019-01-01 00:09:22    2126  \n",
       "2  2019-01-01 00:32:11    2126  \n",
       "3  2019-01-01 00:40:36    2126  \n",
       "4  2019-01-01 00:41:28  112141  "
      ]
     },
     "execution_count": 53,
     "metadata": {},
     "output_type": "execute_result"
    }
   ],
   "source": [
    "comments.head()"
   ]
  },
  {
   "cell_type": "code",
   "execution_count": 54,
   "metadata": {},
   "outputs": [
    {
     "data": {
      "text/plain": [
       "Index(['Id', 'PostTypeId', 'AcceptedAnswerId', 'ParentId', 'CreationDate',\n",
       "       'Score', 'ViewCount', 'Body', 'OwnerUserId', 'OwnerDisplayName',\n",
       "       'LastEditorUserId', 'LastEditorDisplayName', 'LastEditDate',\n",
       "       'LastActivityDate', 'Title', 'Tags', 'AnswerCount', 'CommentCount',\n",
       "       'FavoriteCount', 'ClosedDate', 'CommunityOwnedDate'],\n",
       "      dtype='object')"
      ]
     },
     "execution_count": 54,
     "metadata": {},
     "output_type": "execute_result"
    }
   ],
   "source": [
    "posts.columns"
   ]
  },
  {
   "cell_type": "code",
   "execution_count": 171,
   "metadata": {},
   "outputs": [
    {
     "data": {
      "text/html": [
       "<div>\n",
       "<style scoped>\n",
       "    .dataframe tbody tr th:only-of-type {\n",
       "        vertical-align: middle;\n",
       "    }\n",
       "\n",
       "    .dataframe tbody tr th {\n",
       "        vertical-align: top;\n",
       "    }\n",
       "\n",
       "    .dataframe thead th {\n",
       "        text-align: right;\n",
       "    }\n",
       "</style>\n",
       "<table border=\"1\" class=\"dataframe\">\n",
       "  <thead>\n",
       "    <tr style=\"text-align: right;\">\n",
       "      <th></th>\n",
       "      <th>Id</th>\n",
       "      <th>PostTypeId</th>\n",
       "      <th>AcceptedAnswerId</th>\n",
       "      <th>ParentId</th>\n",
       "      <th>CreationDate</th>\n",
       "      <th>Score</th>\n",
       "      <th>ViewCount</th>\n",
       "      <th>Body</th>\n",
       "      <th>OwnerUserId</th>\n",
       "      <th>OwnerDisplayName</th>\n",
       "      <th>...</th>\n",
       "      <th>LastEditorDisplayName</th>\n",
       "      <th>LastEditDate</th>\n",
       "      <th>LastActivityDate</th>\n",
       "      <th>Title</th>\n",
       "      <th>Tags</th>\n",
       "      <th>AnswerCount</th>\n",
       "      <th>CommentCount</th>\n",
       "      <th>FavoriteCount</th>\n",
       "      <th>ClosedDate</th>\n",
       "      <th>CommunityOwnedDate</th>\n",
       "    </tr>\n",
       "  </thead>\n",
       "  <tbody>\n",
       "    <tr>\n",
       "      <th>0</th>\n",
       "      <td>423497</td>\n",
       "      <td>1</td>\n",
       "      <td>423511</td>\n",
       "      <td>0</td>\n",
       "      <td>2019-08-24 09:39:31</td>\n",
       "      <td>2</td>\n",
       "      <td>68</td>\n",
       "      <td>&lt;p&gt;From wikipedia &lt;a href=\"https://en.wikipedi...</td>\n",
       "      <td>64552</td>\n",
       "      <td>None</td>\n",
       "      <td>...</td>\n",
       "      <td>None</td>\n",
       "      <td>None</td>\n",
       "      <td>2019-08-24 11:38:54</td>\n",
       "      <td>When are biased estimators with lower MSE pref...</td>\n",
       "      <td>&lt;bias&gt;&lt;unbiased-estimator&gt;&lt;mse&gt;</td>\n",
       "      <td>1</td>\n",
       "      <td>0</td>\n",
       "      <td>1</td>\n",
       "      <td>2019-08-25 10:25:24</td>\n",
       "      <td>None</td>\n",
       "    </tr>\n",
       "    <tr>\n",
       "      <th>1</th>\n",
       "      <td>423498</td>\n",
       "      <td>1</td>\n",
       "      <td>0</td>\n",
       "      <td>0</td>\n",
       "      <td>2019-08-24 09:47:42</td>\n",
       "      <td>1</td>\n",
       "      <td>24</td>\n",
       "      <td>&lt;p&gt;I am currently doing local sensitivity anal...</td>\n",
       "      <td>87231</td>\n",
       "      <td>None</td>\n",
       "      <td>...</td>\n",
       "      <td>None</td>\n",
       "      <td>2019-09-06 12:52:32</td>\n",
       "      <td>2019-09-06 12:52:32</td>\n",
       "      <td>How to interpret the result from local sensiti...</td>\n",
       "      <td>&lt;sensitivity-analysis&gt;&lt;elasticity&gt;</td>\n",
       "      <td>1</td>\n",
       "      <td>0</td>\n",
       "      <td>0</td>\n",
       "      <td>None</td>\n",
       "      <td>None</td>\n",
       "    </tr>\n",
       "    <tr>\n",
       "      <th>2</th>\n",
       "      <td>423499</td>\n",
       "      <td>1</td>\n",
       "      <td>0</td>\n",
       "      <td>0</td>\n",
       "      <td>2019-08-24 09:48:26</td>\n",
       "      <td>1</td>\n",
       "      <td>56</td>\n",
       "      <td>&lt;p&gt;I'm an honours student in psychology doing ...</td>\n",
       "      <td>257207</td>\n",
       "      <td>None</td>\n",
       "      <td>...</td>\n",
       "      <td>None</td>\n",
       "      <td>None</td>\n",
       "      <td>2019-08-25 08:54:17</td>\n",
       "      <td>Power Analysis in G-Power - Mixed Model Anova</td>\n",
       "      <td>&lt;anova&gt;&lt;gpower&gt;</td>\n",
       "      <td>2</td>\n",
       "      <td>0</td>\n",
       "      <td>0</td>\n",
       "      <td>None</td>\n",
       "      <td>None</td>\n",
       "    </tr>\n",
       "    <tr>\n",
       "      <th>3</th>\n",
       "      <td>423500</td>\n",
       "      <td>2</td>\n",
       "      <td>0</td>\n",
       "      <td>215865</td>\n",
       "      <td>2019-08-24 09:57:01</td>\n",
       "      <td>0</td>\n",
       "      <td>0</td>\n",
       "      <td>&lt;p&gt;Maybe you can look this &lt;a href=\"https://me...</td>\n",
       "      <td>106606</td>\n",
       "      <td>None</td>\n",
       "      <td>...</td>\n",
       "      <td>None</td>\n",
       "      <td>None</td>\n",
       "      <td>2019-08-24 09:57:01</td>\n",
       "      <td>None</td>\n",
       "      <td>None</td>\n",
       "      <td>0</td>\n",
       "      <td>0</td>\n",
       "      <td>0</td>\n",
       "      <td>None</td>\n",
       "      <td>None</td>\n",
       "    </tr>\n",
       "    <tr>\n",
       "      <th>4</th>\n",
       "      <td>423502</td>\n",
       "      <td>2</td>\n",
       "      <td>0</td>\n",
       "      <td>423286</td>\n",
       "      <td>2019-08-24 10:44:52</td>\n",
       "      <td>3</td>\n",
       "      <td>0</td>\n",
       "      <td>&lt;blockquote&gt;\\n  &lt;p&gt;Q1) Is my approach valid?&lt;/...</td>\n",
       "      <td>220643</td>\n",
       "      <td>None</td>\n",
       "      <td>...</td>\n",
       "      <td>None</td>\n",
       "      <td>2019-08-24 12:13:46</td>\n",
       "      <td>2019-08-24 12:13:46</td>\n",
       "      <td>None</td>\n",
       "      <td>None</td>\n",
       "      <td>0</td>\n",
       "      <td>1</td>\n",
       "      <td>0</td>\n",
       "      <td>None</td>\n",
       "      <td>None</td>\n",
       "    </tr>\n",
       "  </tbody>\n",
       "</table>\n",
       "<p>5 rows × 21 columns</p>\n",
       "</div>"
      ],
      "text/plain": [
       "       Id  PostTypeId  AcceptedAnswerId  ParentId         CreationDate  Score  \\\n",
       "0  423497           1            423511         0  2019-08-24 09:39:31      2   \n",
       "1  423498           1                 0         0  2019-08-24 09:47:42      1   \n",
       "2  423499           1                 0         0  2019-08-24 09:48:26      1   \n",
       "3  423500           2                 0    215865  2019-08-24 09:57:01      0   \n",
       "4  423502           2                 0    423286  2019-08-24 10:44:52      3   \n",
       "\n",
       "   ViewCount                                               Body  OwnerUserId  \\\n",
       "0         68  <p>From wikipedia <a href=\"https://en.wikipedi...        64552   \n",
       "1         24  <p>I am currently doing local sensitivity anal...        87231   \n",
       "2         56  <p>I'm an honours student in psychology doing ...       257207   \n",
       "3          0  <p>Maybe you can look this <a href=\"https://me...       106606   \n",
       "4          0  <blockquote>\\n  <p>Q1) Is my approach valid?</...       220643   \n",
       "\n",
       "  OwnerDisplayName  ...  LastEditorDisplayName         LastEditDate  \\\n",
       "0             None  ...                   None                 None   \n",
       "1             None  ...                   None  2019-09-06 12:52:32   \n",
       "2             None  ...                   None                 None   \n",
       "3             None  ...                   None                 None   \n",
       "4             None  ...                   None  2019-08-24 12:13:46   \n",
       "\n",
       "      LastActivityDate                                              Title  \\\n",
       "0  2019-08-24 11:38:54  When are biased estimators with lower MSE pref...   \n",
       "1  2019-09-06 12:52:32  How to interpret the result from local sensiti...   \n",
       "2  2019-08-25 08:54:17      Power Analysis in G-Power - Mixed Model Anova   \n",
       "3  2019-08-24 09:57:01                                               None   \n",
       "4  2019-08-24 12:13:46                                               None   \n",
       "\n",
       "                                 Tags AnswerCount  CommentCount  \\\n",
       "0     <bias><unbiased-estimator><mse>           1             0   \n",
       "1  <sensitivity-analysis><elasticity>           1             0   \n",
       "2                     <anova><gpower>           2             0   \n",
       "3                                None           0             0   \n",
       "4                                None           0             1   \n",
       "\n",
       "   FavoriteCount           ClosedDate CommunityOwnedDate  \n",
       "0              1  2019-08-25 10:25:24               None  \n",
       "1              0                 None               None  \n",
       "2              0                 None               None  \n",
       "3              0                 None               None  \n",
       "4              0                 None               None  \n",
       "\n",
       "[5 rows x 21 columns]"
      ]
     },
     "execution_count": 171,
     "metadata": {},
     "output_type": "execute_result"
    }
   ],
   "source": [
    "posts.head()"
   ]
  },
  {
   "cell_type": "markdown",
   "metadata": {},
   "source": [
    "In Sqlite we need to enable the enforcement of foreign key constraints:"
   ]
  },
  {
   "cell_type": "code",
   "execution_count": 62,
   "metadata": {},
   "outputs": [
    {
     "name": "stdout",
     "output_type": "stream",
     "text": [
      " * sqlite:///chatdata.db\n",
      "Done.\n"
     ]
    },
    {
     "data": {
      "text/plain": [
       "[]"
      ]
     },
     "execution_count": 62,
     "metadata": {},
     "output_type": "execute_result"
    }
   ],
   "source": [
    "%%sql\n",
    "PRAGMA foreign_keys=ON;"
   ]
  },
  {
   "cell_type": "markdown",
   "metadata": {},
   "source": [
    "Now create the users table with a **primary key constraint** "
   ]
  },
  {
   "cell_type": "code",
   "execution_count": 63,
   "metadata": {},
   "outputs": [
    {
     "name": "stdout",
     "output_type": "stream",
     "text": [
      " * sqlite:///chatdata.db\n",
      "Done.\n"
     ]
    },
    {
     "data": {
      "text/plain": [
       "[]"
      ]
     },
     "execution_count": 63,
     "metadata": {},
     "output_type": "execute_result"
    }
   ],
   "source": [
    "%%sql\n",
    "CREATE TABLE \"users\" (\n",
    "\"Id\" INTEGER NOT NULL PRIMARY KEY,\n",
    "\"Reputation\" INTEGER,\n",
    "\"CreationDate\" TEXT,\n",
    "\"DisplayName\" TEXT,\n",
    "\"LastAccessDate\" TEXT,\n",
    "\"WebsiteUrl\" TEXT,\n",
    "\"Location\" TEXT,\n",
    "\"AboutMe\" TEXT,\n",
    "\"Views\" INTEGER,\n",
    "\"UpVotes\" INTEGER,\n",
    "\"DownVotes\" INTEGER,\n",
    "\"ProfileImageUrl\" TEXT,\n",
    "\"AccountId\" INTEGER\n",
    ");\n"
   ]
  },
  {
   "cell_type": "code",
   "execution_count": 64,
   "metadata": {},
   "outputs": [
    {
     "name": "stdout",
     "output_type": "stream",
     "text": [
      " * sqlite:///chatdata.db\n",
      "Done.\n"
     ]
    },
    {
     "data": {
      "text/plain": [
       "[]"
      ]
     },
     "execution_count": 64,
     "metadata": {},
     "output_type": "execute_result"
    }
   ],
   "source": [
    "%%sql\n",
    "CREATE TABLE \"posts\" (\n",
    "\"Id\" INTEGER NOT NULL PRIMARY KEY,\n",
    "\"PostTypeId\" INTEGER,\n",
    "\"AcceptedAnswerId\" INTEGER,\n",
    "\"ParentId\" INTEGER,\n",
    "\"CreationDate\" TEXT,\n",
    "\"Score\" INTEGER,\n",
    "\"ViewCount\" INTEGER,\n",
    "\"Body\" TEXT,\n",
    "\"OwnerUserId\" INTEGER,\n",
    "\"OwnerDisplayName\" TEXT,\n",
    "\"LastEditorUserId\" INTEGER,\n",
    "\"LastEditorDisplayName\" TEXT,\n",
    "\"LastEditDate\" TEXT,\n",
    "\"LastActivityDate\" TEXT,\n",
    "\"Title\" TEXT,\n",
    "\"Tags\" TEXT,\n",
    "\"AnswerCount\" INTEGER,\n",
    "\"CommentCount\" INTEGER,\n",
    "\"FavoriteCount\" INTEGER,\n",
    "\"ClosedDate\" TEXT,\n",
    "\"CommunityOwnedDate\" TEXT\n",
    ");"
   ]
  },
  {
   "cell_type": "code",
   "execution_count": 67,
   "metadata": {},
   "outputs": [
    {
     "name": "stdout",
     "output_type": "stream",
     "text": [
      " * sqlite:///chatdata.db\n",
      "Done.\n"
     ]
    },
    {
     "data": {
      "text/plain": [
       "[]"
      ]
     },
     "execution_count": 67,
     "metadata": {},
     "output_type": "execute_result"
    }
   ],
   "source": [
    "%%sql\n",
    "CREATE TABLE \"comments\" (\n",
    "\"Id\" INTEGER NOT NULL PRIMARY KEY,\n",
    "\"PostId\" INTEGER,\n",
    "\"Score\" INTEGER,\n",
    "\"Text\" TEXT,\n",
    "\"CreationDate\" TEXT,\n",
    "\"UserId\" INTEGER,\n",
    "FOREIGN KEY(PostId) REFERENCES posts(Id),\n",
    "FOREIGN KEY(UserId) REFERENCES users(Id)\n",
    ")"
   ]
  },
  {
   "cell_type": "markdown",
   "metadata": {},
   "source": [
    "Now we can insert the data into these constrained tables.  First users:"
   ]
  },
  {
   "cell_type": "code",
   "execution_count": 68,
   "metadata": {},
   "outputs": [
    {
     "data": {
      "text/plain": [
       "18412"
      ]
     },
     "execution_count": 68,
     "metadata": {},
     "output_type": "execute_result"
    }
   ],
   "source": [
    "# Insert data into the new users table\n",
    "users.to_sql('users', con, if_exists='append', index=False)"
   ]
  },
  {
   "cell_type": "code",
   "execution_count": 69,
   "metadata": {},
   "outputs": [
    {
     "data": {
      "text/plain": [
       "42234"
      ]
     },
     "execution_count": 69,
     "metadata": {},
     "output_type": "execute_result"
    }
   ],
   "source": [
    "# Insert data into the new posts table\n",
    "posts.to_sql('posts', con, if_exists='append', index=False)"
   ]
  },
  {
   "cell_type": "code",
   "execution_count": 70,
   "metadata": {},
   "outputs": [
    {
     "data": {
      "text/plain": [
       "50000"
      ]
     },
     "execution_count": 70,
     "metadata": {},
     "output_type": "execute_result"
    }
   ],
   "source": [
    "# Insert data into the new comments table\n",
    "comments.to_sql('comments', con, if_exists='append', index=False)"
   ]
  },
  {
   "cell_type": "markdown",
   "metadata": {},
   "source": [
    "Now check that we have the 3 new table definitions in Sqlite:"
   ]
  },
  {
   "cell_type": "code",
   "execution_count": 71,
   "metadata": {},
   "outputs": [
    {
     "name": "stdout",
     "output_type": "stream",
     "text": [
      " * sqlite:///chatdata.db\n",
      "Done.\n"
     ]
    },
    {
     "data": {
      "text/html": [
       "<table>\n",
       "    <thead>\n",
       "        <tr>\n",
       "            <th>name</th>\n",
       "        </tr>\n",
       "    </thead>\n",
       "    <tbody>\n",
       "        <tr>\n",
       "            <td>comments</td>\n",
       "        </tr>\n",
       "        <tr>\n",
       "            <td>posts</td>\n",
       "        </tr>\n",
       "        <tr>\n",
       "            <td>users</td>\n",
       "        </tr>\n",
       "    </tbody>\n",
       "</table>"
      ],
      "text/plain": [
       "[('comments',), ('posts',), ('users',)]"
      ]
     },
     "execution_count": 71,
     "metadata": {},
     "output_type": "execute_result"
    }
   ],
   "source": [
    "%%sql\n",
    "SELECT name FROM sqlite_master WHERE type='table'\n",
    "    ORDER BY name"
   ]
  },
  {
   "cell_type": "markdown",
   "metadata": {},
   "source": [
    "We now have all the data in tables in Sqlite and the tables will enforce the referential integrity."
   ]
  },
  {
   "cell_type": "markdown",
   "metadata": {},
   "source": [
    "1. Prepare the Sqlite query to answer the question\n",
    "2. Test it\n",
    "3. Insert it into the `queries` table, so we have a record of it for others.\n",
    "\n",
    "This is the process that we want you to follow for this project while completing it. "
   ]
  },
  {
   "cell_type": "markdown",
   "metadata": {},
   "source": [
    "Let's see an example of this by answering the following question:\n",
    "\n",
    "**Which 5 users have viewed the most times and what is the sum of those views per user?**\n",
    "\n",
    "## Prepare the Sqlite query\n",
    "\n",
    "First, let's write the query:"
   ]
  },
  {
   "cell_type": "code",
   "execution_count": 325,
   "metadata": {},
   "outputs": [
    {
     "data": {
      "text/html": [
       "<div>\n",
       "<style scoped>\n",
       "    .dataframe tbody tr th:only-of-type {\n",
       "        vertical-align: middle;\n",
       "    }\n",
       "\n",
       "    .dataframe tbody tr th {\n",
       "        vertical-align: top;\n",
       "    }\n",
       "\n",
       "    .dataframe thead th {\n",
       "        text-align: right;\n",
       "    }\n",
       "</style>\n",
       "<table border=\"1\" class=\"dataframe\">\n",
       "  <thead>\n",
       "    <tr style=\"text-align: right;\">\n",
       "      <th></th>\n",
       "      <th>Id</th>\n",
       "      <th>TotalViews</th>\n",
       "    </tr>\n",
       "  </thead>\n",
       "  <tbody>\n",
       "    <tr>\n",
       "      <th>0</th>\n",
       "      <td>919</td>\n",
       "      <td>85180</td>\n",
       "    </tr>\n",
       "    <tr>\n",
       "      <th>1</th>\n",
       "      <td>4253</td>\n",
       "      <td>35119</td>\n",
       "    </tr>\n",
       "    <tr>\n",
       "      <th>2</th>\n",
       "      <td>805</td>\n",
       "      <td>34637</td>\n",
       "    </tr>\n",
       "    <tr>\n",
       "      <th>3</th>\n",
       "      <td>7290</td>\n",
       "      <td>32639</td>\n",
       "    </tr>\n",
       "    <tr>\n",
       "      <th>4</th>\n",
       "      <td>3277</td>\n",
       "      <td>29255</td>\n",
       "    </tr>\n",
       "  </tbody>\n",
       "</table>\n",
       "</div>"
      ],
      "text/plain": [
       "     Id  TotalViews\n",
       "0   919       85180\n",
       "1  4253       35119\n",
       "2   805       34637\n",
       "3  7290       32639\n",
       "4  3277       29255"
      ]
     },
     "execution_count": 325,
     "metadata": {},
     "output_type": "execute_result"
    }
   ],
   "source": [
    "sql = \"\"\"\n",
    "SELECT Id, SUM(Views) AS TotalViews\n",
    "    FROM Users\n",
    "        GROUP BY Id\n",
    "            ORDER BY TotalViews DESC\n",
    "                LIMIT 5\n",
    "                \"\"\"\n",
    "result = pd.read_sql(sql, con) # con is the connection to the database\n",
    "result"
   ]
  },
  {
   "cell_type": "markdown",
   "metadata": {},
   "source": [
    "## Test the query\n",
    "You can optionally prove the query worked by performing the same query in Pandas:"
   ]
  },
  {
   "cell_type": "code",
   "execution_count": 73,
   "metadata": {},
   "outputs": [
    {
     "data": {
      "text/plain": [
       "Id\n",
       "919     85180\n",
       "4253    35119\n",
       "805     34637\n",
       "7290    32639\n",
       "3277    29255\n",
       "Name: Views, dtype: int64"
      ]
     },
     "execution_count": 73,
     "metadata": {},
     "output_type": "execute_result"
    }
   ],
   "source": [
    "results = users.groupby(['Id']).sum().sort_values('Views', ascending = False)[:5]\n",
    "results['Views']"
   ]
  },
  {
   "cell_type": "markdown",
   "metadata": {},
   "source": [
    "## Insert the query into the `queries` table\n",
    "Now we need to put this query into the `queries` table in sqlite. Remember we want these queries to be accessible to everybody that should have access to them. We do not want people writing and rewriting the same queires over and over again. The easiest thing to do is create a dictionary with the values and insert these into the queries table.  Note that the values are provided as lists as we are inserting a list of values (i.e. a number of rows) into the table.  In this case the number of rows is 1, so we have lists of 1 item.\n",
    "\n",
    "So here, we have a column called 'task' with a list of values, a column called 'action' with a list of values, etc."
   ]
  },
  {
   "cell_type": "code",
   "execution_count": 631,
   "metadata": {},
   "outputs": [
    {
     "data": {
      "text/plain": [
       "{'task': ['Single Table Queries'],\n",
       " 'action': ['Which 5 users have viewed the most times and what is the sum of those views per user?'],\n",
       " 'query': ['SELECT * FROM queries']}"
      ]
     },
     "execution_count": 631,
     "metadata": {},
     "output_type": "execute_result"
    }
   ],
   "source": [
    "query_dict = {\n",
    "              'task': ['Single Table Queries'],\n",
    "              'action': ['Which 5 users have viewed the most times and what is the sum of those views per user?'],\n",
    "              'query': [sql]\n",
    "             }\n",
    "query_dict"
   ]
  },
  {
   "cell_type": "markdown",
   "metadata": {},
   "source": [
    "Now that you have the data structure (query_dict) containing the data, create a pandas dataframe that holds those values:"
   ]
  },
  {
   "cell_type": "code",
   "execution_count": 632,
   "metadata": {},
   "outputs": [
    {
     "data": {
      "text/html": [
       "<div>\n",
       "<style scoped>\n",
       "    .dataframe tbody tr th:only-of-type {\n",
       "        vertical-align: middle;\n",
       "    }\n",
       "\n",
       "    .dataframe tbody tr th {\n",
       "        vertical-align: top;\n",
       "    }\n",
       "\n",
       "    .dataframe thead th {\n",
       "        text-align: right;\n",
       "    }\n",
       "</style>\n",
       "<table border=\"1\" class=\"dataframe\">\n",
       "  <thead>\n",
       "    <tr style=\"text-align: right;\">\n",
       "      <th></th>\n",
       "      <th>task</th>\n",
       "      <th>action</th>\n",
       "      <th>query</th>\n",
       "    </tr>\n",
       "  </thead>\n",
       "  <tbody>\n",
       "    <tr>\n",
       "      <th>0</th>\n",
       "      <td>Single Table Queries</td>\n",
       "      <td>Which 5 users have viewed the most times and w...</td>\n",
       "      <td>SELECT * FROM queries</td>\n",
       "    </tr>\n",
       "  </tbody>\n",
       "</table>\n",
       "</div>"
      ],
      "text/plain": [
       "                   task                                             action  \\\n",
       "0  Single Table Queries  Which 5 users have viewed the most times and w...   \n",
       "\n",
       "                   query  \n",
       "0  SELECT * FROM queries  "
      ]
     },
     "execution_count": 632,
     "metadata": {},
     "output_type": "execute_result"
    }
   ],
   "source": [
    "queries = pd.DataFrame(query_dict)\n",
    "queries"
   ]
  },
  {
   "cell_type": "markdown",
   "metadata": {},
   "source": [
    "Now load that pandas dataframe (queries) into the sqlite table called queries. In this case, you use append NOT replace. You will be adding to this tables as you go thru this project."
   ]
  },
  {
   "cell_type": "code",
   "execution_count": 633,
   "metadata": {},
   "outputs": [
    {
     "data": {
      "text/html": [
       "<div>\n",
       "<style scoped>\n",
       "    .dataframe tbody tr th:only-of-type {\n",
       "        vertical-align: middle;\n",
       "    }\n",
       "\n",
       "    .dataframe tbody tr th {\n",
       "        vertical-align: top;\n",
       "    }\n",
       "\n",
       "    .dataframe thead th {\n",
       "        text-align: right;\n",
       "    }\n",
       "</style>\n",
       "<table border=\"1\" class=\"dataframe\">\n",
       "  <thead>\n",
       "    <tr style=\"text-align: right;\">\n",
       "      <th></th>\n",
       "      <th>task</th>\n",
       "      <th>action</th>\n",
       "      <th>query</th>\n",
       "    </tr>\n",
       "  </thead>\n",
       "  <tbody>\n",
       "    <tr>\n",
       "      <th>0</th>\n",
       "      <td>Single Table Queries</td>\n",
       "      <td>Which 5 users have viewed the most times and w...</td>\n",
       "      <td>SELECT * FROM queries</td>\n",
       "    </tr>\n",
       "  </tbody>\n",
       "</table>\n",
       "</div>"
      ],
      "text/plain": [
       "                   task                                             action  \\\n",
       "0  Single Table Queries  Which 5 users have viewed the most times and w...   \n",
       "\n",
       "                   query  \n",
       "0  SELECT * FROM queries  "
      ]
     },
     "execution_count": 633,
     "metadata": {},
     "output_type": "execute_result"
    }
   ],
   "source": [
    "# load query into sqlite\n",
    "queries.to_sql('queries', con, if_exists='append', index=False)\n",
    "\n",
    "# read back in to prove that it worked\n",
    "sql = 'SELECT * FROM queries'\n",
    "queries = pd.read_sql(sql, con)\n",
    "queries.head()"
   ]
  },
  {
   "cell_type": "markdown",
   "metadata": {},
   "source": [
    "# Insert the CREATE TABLE Statements into the `queries` Table\n",
    "\n",
    "\n"
   ]
  },
  {
   "cell_type": "code",
   "execution_count": 634,
   "metadata": {},
   "outputs": [],
   "source": [
    "# Define a function that will insert into the queries table\n",
    "def store_query(task, action, query):\n",
    "    query_dict = {\n",
    "                  'task': [task],\n",
    "                  'action': [action],\n",
    "                  'query': [query]\n",
    "                 }\n",
    "\n",
    "    # put query into the query_dict\n",
    "    queries = pd.DataFrame(query_dict)\n",
    "\n",
    "    # load query into sqlite\n",
    "    queries.to_sql('queries', con, if_exists='append', index=False)    "
   ]
  },
  {
   "cell_type": "markdown",
   "metadata": {},
   "source": [
    "Now we can specify the queries and call the above function to store them. "
   ]
  },
  {
   "cell_type": "code",
   "execution_count": 635,
   "metadata": {},
   "outputs": [],
   "source": [
    "sql = \"\"\"\n",
    "    CREATE TABLE \"comments\" (\n",
    "    \"Id\" INTEGER,\n",
    "    \"PostId\" INTEGER,\n",
    "    \"Score\" INTEGER,\n",
    "    \"Text\" TEXT,\n",
    "    \"CreationDate\" TEXT,\n",
    "    \"UserId\" INTEGER\n",
    "    )\n",
    "    \"\"\"\n",
    "store_query(\"Task 1\", \"Create table comments\", sql)"
   ]
  },
  {
   "cell_type": "markdown",
   "metadata": {},
   "source": [
    "Let's prove it works by selecting back from the queries table:"
   ]
  },
  {
   "cell_type": "code",
   "execution_count": 636,
   "metadata": {},
   "outputs": [
    {
     "name": "stdout",
     "output_type": "stream",
     "text": [
      " * sqlite:///chatdata.db\n",
      "Done.\n"
     ]
    },
    {
     "data": {
      "text/html": [
       "<table>\n",
       "    <thead>\n",
       "        <tr>\n",
       "            <th>task</th>\n",
       "            <th>action</th>\n",
       "            <th>query</th>\n",
       "        </tr>\n",
       "    </thead>\n",
       "    <tbody>\n",
       "        <tr>\n",
       "            <td>Single Table Queries</td>\n",
       "            <td>Which 5 users have viewed the most times and what is the sum of those views per user?</td>\n",
       "            <td>SELECT * FROM queries</td>\n",
       "        </tr>\n",
       "        <tr>\n",
       "            <td>Task 1</td>\n",
       "            <td>Create table comments</td>\n",
       "            <td><br>    CREATE TABLE &quot;comments&quot; (<br>    &quot;Id&quot; INTEGER,<br>    &quot;PostId&quot; INTEGER,<br>    &quot;Score&quot; INTEGER,<br>    &quot;Text&quot; TEXT,<br>    &quot;CreationDate&quot; TEXT,<br>    &quot;UserId&quot; INTEGER<br>    )<br>    </td>\n",
       "        </tr>\n",
       "    </tbody>\n",
       "</table>"
      ],
      "text/plain": [
       "[('Single Table Queries', 'Which 5 users have viewed the most times and what is the sum of those views per user?', 'SELECT * FROM queries'),\n",
       " ('Task 1', 'Create table comments', '\\n    CREATE TABLE \"comments\" (\\n    \"Id\" INTEGER,\\n    \"PostId\" INTEGER,\\n    \"Score\" INTEGER,\\n    \"Text\" TEXT,\\n    \"CreationDate\" TEXT,\\n    \"UserId\" INTEGER\\n    )\\n    ')]"
      ]
     },
     "execution_count": 636,
     "metadata": {},
     "output_type": "execute_result"
    }
   ],
   "source": [
    "# Prove it works\n",
    "%sql SELECT * FROM queries"
   ]
  },
  {
   "cell_type": "code",
   "execution_count": 637,
   "metadata": {},
   "outputs": [],
   "source": [
    "# Insert the CREATE TABLE for posts into the queries table\n",
    "sql = \"\"\"\n",
    "    CREATE TABLE \"posts\" (\n",
    "    \"Id\" INTEGER,\n",
    "    \"PostTypeId\" INTEGER,\n",
    "    \"AcceptedAnswerId\" INTEGER,\n",
    "    \"ParentId\" INTEGER,\n",
    "    \"CreationDate\" TEXT,\n",
    "    \"Score\" INTEGER,\n",
    "    \"ViewCount\" INTEGER,\n",
    "    \"Body\" TEXT,\n",
    "    \"OwnerUserId\" INTEGER,\n",
    "    \"OwnerDisplayName\" TEXT,\n",
    "    \"LastEditorUserId\" INTEGER,\n",
    "    \"LastEditorDisplayName\" TEXT,\n",
    "    \"LastEditDate\" TEXT,\n",
    "    \"LastActivityDate\" TEXT,\n",
    "    \"Title\" TEXT,\n",
    "    \"Tags\" TEXT,\n",
    "    \"AnswerCount\" INTEGER,\n",
    "    \"CommentCount\" INTEGER,\n",
    "    \"FavoriteCount\" INTEGER,\n",
    "    \"ClosedDate\" TEXT,\n",
    "    \"CommunityOwnedDate\" TEXT\n",
    "    )\n",
    "    \"\"\"\n",
    "store_query(\"Task 2\", \"Create table post\", sql)"
   ]
  },
  {
   "cell_type": "code",
   "execution_count": 638,
   "metadata": {},
   "outputs": [
    {
     "name": "stdout",
     "output_type": "stream",
     "text": [
      " * sqlite:///chatdata.db\n",
      "Done.\n"
     ]
    },
    {
     "data": {
      "text/html": [
       "<table>\n",
       "    <thead>\n",
       "        <tr>\n",
       "            <th>task</th>\n",
       "            <th>action</th>\n",
       "            <th>query</th>\n",
       "        </tr>\n",
       "    </thead>\n",
       "    <tbody>\n",
       "        <tr>\n",
       "            <td>Single Table Queries</td>\n",
       "            <td>Which 5 users have viewed the most times and what is the sum of those views per user?</td>\n",
       "            <td>SELECT * FROM queries</td>\n",
       "        </tr>\n",
       "        <tr>\n",
       "            <td>Task 1</td>\n",
       "            <td>Create table comments</td>\n",
       "            <td><br>    CREATE TABLE &quot;comments&quot; (<br>    &quot;Id&quot; INTEGER,<br>    &quot;PostId&quot; INTEGER,<br>    &quot;Score&quot; INTEGER,<br>    &quot;Text&quot; TEXT,<br>    &quot;CreationDate&quot; TEXT,<br>    &quot;UserId&quot; INTEGER<br>    )<br>    </td>\n",
       "        </tr>\n",
       "        <tr>\n",
       "            <td>Task 2</td>\n",
       "            <td>Create table post</td>\n",
       "            <td><br>    CREATE TABLE &quot;posts&quot; (<br>    &quot;Id&quot; INTEGER,<br>    &quot;PostTypeId&quot; INTEGER,<br>    &quot;AcceptedAnswerId&quot; INTEGER,<br>    &quot;ParentId&quot; INTEGER,<br>    &quot;CreationDate&quot; TEXT,<br>    &quot;Score&quot; INTEGER,<br>    &quot;ViewCount&quot; INTEGER,<br>    &quot;Body&quot; TEXT,<br>    &quot;OwnerUserId&quot; INTEGER,<br>    &quot;OwnerDisplayName&quot; TEXT,<br>    &quot;LastEditorUserId&quot; INTEGER,<br>    &quot;LastEditorDisplayName&quot; TEXT,<br>    &quot;LastEditDate&quot; TEXT,<br>    &quot;LastActivityDate&quot; TEXT,<br>    &quot;Title&quot; TEXT,<br>    &quot;Tags&quot; TEXT,<br>    &quot;AnswerCount&quot; INTEGER,<br>    &quot;CommentCount&quot; INTEGER,<br>    &quot;FavoriteCount&quot; INTEGER,<br>    &quot;ClosedDate&quot; TEXT,<br>    &quot;CommunityOwnedDate&quot; TEXT<br>    )<br>    </td>\n",
       "        </tr>\n",
       "    </tbody>\n",
       "</table>"
      ],
      "text/plain": [
       "[('Single Table Queries', 'Which 5 users have viewed the most times and what is the sum of those views per user?', 'SELECT * FROM queries'),\n",
       " ('Task 1', 'Create table comments', '\\n    CREATE TABLE \"comments\" (\\n    \"Id\" INTEGER,\\n    \"PostId\" INTEGER,\\n    \"Score\" INTEGER,\\n    \"Text\" TEXT,\\n    \"CreationDate\" TEXT,\\n    \"UserId\" INTEGER\\n    )\\n    '),\n",
       " ('Task 2', 'Create table post', '\\n    CREATE TABLE \"posts\" (\\n    \"Id\" INTEGER,\\n    \"PostTypeId\" INTEGER,\\n    \"AcceptedAnswerId\" INTEGER,\\n    \"ParentId\" INTEGER,\\n    \"CreationDa ... (300 characters truncated) ... \"AnswerCount\" INTEGER,\\n    \"CommentCount\" INTEGER,\\n    \"FavoriteCount\" INTEGER,\\n    \"ClosedDate\" TEXT,\\n    \"CommunityOwnedDate\" TEXT\\n    )\\n    ')]"
      ]
     },
     "execution_count": 638,
     "metadata": {},
     "output_type": "execute_result"
    }
   ],
   "source": [
    "%sql SELECT * FROM queries"
   ]
  },
  {
   "cell_type": "code",
   "execution_count": 639,
   "metadata": {},
   "outputs": [],
   "source": [
    "# Insert the CREATE TABLE for users into the queries table\n",
    "sql = \"\"\"\n",
    "    CREATE TABLE \"users\" (\n",
    "    \"Id\" INTEGER,\n",
    "    \"Reputation\" INTEGER,\n",
    "    \"CreationDate\" TEXT,\n",
    "    \"DisplayName\" TEXT,\n",
    "    \"LastAccessDate\" TEXT,\n",
    "    \"WebsiteUrl\" TEXT,\n",
    "    \"Location\" TEXT,\n",
    "    \"AboutMe\" TEXT,\n",
    "    \"Views\" INTEGER,\n",
    "    \"UpVotes\" INTEGER,\n",
    "    \"DownVotes\" INTEGER,\n",
    "    \"ProfileImageUrl\" TEXT,\n",
    "    \"AccountId\" INTEGER\n",
    "    )\n",
    "    \"\"\"\n",
    "store_query(\"Task 3\", \"Create table users\", sql)"
   ]
  },
  {
   "cell_type": "code",
   "execution_count": 640,
   "metadata": {},
   "outputs": [
    {
     "name": "stdout",
     "output_type": "stream",
     "text": [
      " * sqlite:///chatdata.db\n",
      "Done.\n"
     ]
    },
    {
     "data": {
      "text/html": [
       "<table>\n",
       "    <thead>\n",
       "        <tr>\n",
       "            <th>task</th>\n",
       "            <th>action</th>\n",
       "            <th>query</th>\n",
       "        </tr>\n",
       "    </thead>\n",
       "    <tbody>\n",
       "        <tr>\n",
       "            <td>Single Table Queries</td>\n",
       "            <td>Which 5 users have viewed the most times and what is the sum of those views per user?</td>\n",
       "            <td>SELECT * FROM queries</td>\n",
       "        </tr>\n",
       "        <tr>\n",
       "            <td>Task 1</td>\n",
       "            <td>Create table comments</td>\n",
       "            <td><br>    CREATE TABLE &quot;comments&quot; (<br>    &quot;Id&quot; INTEGER,<br>    &quot;PostId&quot; INTEGER,<br>    &quot;Score&quot; INTEGER,<br>    &quot;Text&quot; TEXT,<br>    &quot;CreationDate&quot; TEXT,<br>    &quot;UserId&quot; INTEGER<br>    )<br>    </td>\n",
       "        </tr>\n",
       "        <tr>\n",
       "            <td>Task 2</td>\n",
       "            <td>Create table post</td>\n",
       "            <td><br>    CREATE TABLE &quot;posts&quot; (<br>    &quot;Id&quot; INTEGER,<br>    &quot;PostTypeId&quot; INTEGER,<br>    &quot;AcceptedAnswerId&quot; INTEGER,<br>    &quot;ParentId&quot; INTEGER,<br>    &quot;CreationDate&quot; TEXT,<br>    &quot;Score&quot; INTEGER,<br>    &quot;ViewCount&quot; INTEGER,<br>    &quot;Body&quot; TEXT,<br>    &quot;OwnerUserId&quot; INTEGER,<br>    &quot;OwnerDisplayName&quot; TEXT,<br>    &quot;LastEditorUserId&quot; INTEGER,<br>    &quot;LastEditorDisplayName&quot; TEXT,<br>    &quot;LastEditDate&quot; TEXT,<br>    &quot;LastActivityDate&quot; TEXT,<br>    &quot;Title&quot; TEXT,<br>    &quot;Tags&quot; TEXT,<br>    &quot;AnswerCount&quot; INTEGER,<br>    &quot;CommentCount&quot; INTEGER,<br>    &quot;FavoriteCount&quot; INTEGER,<br>    &quot;ClosedDate&quot; TEXT,<br>    &quot;CommunityOwnedDate&quot; TEXT<br>    )<br>    </td>\n",
       "        </tr>\n",
       "        <tr>\n",
       "            <td>Task 3</td>\n",
       "            <td>Create table users</td>\n",
       "            <td><br>    CREATE TABLE &quot;users&quot; (<br>    &quot;Id&quot; INTEGER,<br>    &quot;Reputation&quot; INTEGER,<br>    &quot;CreationDate&quot; TEXT,<br>    &quot;DisplayName&quot; TEXT,<br>    &quot;LastAccessDate&quot; TEXT,<br>    &quot;WebsiteUrl&quot; TEXT,<br>    &quot;Location&quot; TEXT,<br>    &quot;AboutMe&quot; TEXT,<br>    &quot;Views&quot; INTEGER,<br>    &quot;UpVotes&quot; INTEGER,<br>    &quot;DownVotes&quot; INTEGER,<br>    &quot;ProfileImageUrl&quot; TEXT,<br>    &quot;AccountId&quot; INTEGER<br>    )<br>    </td>\n",
       "        </tr>\n",
       "    </tbody>\n",
       "</table>"
      ],
      "text/plain": [
       "[('Single Table Queries', 'Which 5 users have viewed the most times and what is the sum of those views per user?', 'SELECT * FROM queries'),\n",
       " ('Task 1', 'Create table comments', '\\n    CREATE TABLE \"comments\" (\\n    \"Id\" INTEGER,\\n    \"PostId\" INTEGER,\\n    \"Score\" INTEGER,\\n    \"Text\" TEXT,\\n    \"CreationDate\" TEXT,\\n    \"UserId\" INTEGER\\n    )\\n    '),\n",
       " ('Task 2', 'Create table post', '\\n    CREATE TABLE \"posts\" (\\n    \"Id\" INTEGER,\\n    \"PostTypeId\" INTEGER,\\n    \"AcceptedAnswerId\" INTEGER,\\n    \"ParentId\" INTEGER,\\n    \"CreationDa ... (300 characters truncated) ... \"AnswerCount\" INTEGER,\\n    \"CommentCount\" INTEGER,\\n    \"FavoriteCount\" INTEGER,\\n    \"ClosedDate\" TEXT,\\n    \"CommunityOwnedDate\" TEXT\\n    )\\n    '),\n",
       " ('Task 3', 'Create table users', '\\n    CREATE TABLE \"users\" (\\n    \"Id\" INTEGER,\\n    \"Reputation\" INTEGER,\\n    \"CreationDate\" TEXT,\\n    \"DisplayName\" TEXT,\\n    \"LastAccessDate\" T ... (61 characters truncated) ... tMe\" TEXT,\\n    \"Views\" INTEGER,\\n    \"UpVotes\" INTEGER,\\n    \"DownVotes\" INTEGER,\\n    \"ProfileImageUrl\" TEXT,\\n    \"AccountId\" INTEGER\\n    )\\n    ')]"
      ]
     },
     "execution_count": 640,
     "metadata": {},
     "output_type": "execute_result"
    }
   ],
   "source": [
    "%sql SELECT * FROM queries"
   ]
  },
  {
   "cell_type": "markdown",
   "metadata": {},
   "source": [
    "## Count the Number of Rows in Each Table\n"
   ]
  },
  {
   "cell_type": "code",
   "execution_count": 641,
   "metadata": {},
   "outputs": [
    {
     "name": "stdout",
     "output_type": "stream",
     "text": [
      " * sqlite:///chatdata.db\n",
      "Done.\n"
     ]
    },
    {
     "data": {
      "text/html": [
       "<table>\n",
       "    <thead>\n",
       "        <tr>\n",
       "            <th>NumberOfRows</th>\n",
       "        </tr>\n",
       "    </thead>\n",
       "    <tbody>\n",
       "        <tr>\n",
       "            <td>50000</td>\n",
       "        </tr>\n",
       "    </tbody>\n",
       "</table>"
      ],
      "text/plain": [
       "[(50000,)]"
      ]
     },
     "execution_count": 641,
     "metadata": {},
     "output_type": "execute_result"
    }
   ],
   "source": [
    "# Count the number of rows in the comments table\n",
    "%sql SELECT Count(*) AS NumberOfRows FROM comments\n"
   ]
  },
  {
   "cell_type": "code",
   "execution_count": 642,
   "metadata": {},
   "outputs": [],
   "source": [
    "# insert the query into the queries table\n",
    "sql = \"\"\"\n",
    "SELECT Count(*) AS NumberOfRows\n",
    "    FROM comments\n",
    "        \"\"\"\n",
    "store_query(\"Task 4\", \"Count the number of rows in the comments table\", sql)"
   ]
  },
  {
   "cell_type": "code",
   "execution_count": 643,
   "metadata": {},
   "outputs": [
    {
     "name": "stdout",
     "output_type": "stream",
     "text": [
      " * sqlite:///chatdata.db\n",
      "Done.\n"
     ]
    },
    {
     "data": {
      "text/html": [
       "<table>\n",
       "    <thead>\n",
       "        <tr>\n",
       "            <th>task</th>\n",
       "            <th>action</th>\n",
       "            <th>query</th>\n",
       "        </tr>\n",
       "    </thead>\n",
       "    <tbody>\n",
       "        <tr>\n",
       "            <td>Single Table Queries</td>\n",
       "            <td>Which 5 users have viewed the most times and what is the sum of those views per user?</td>\n",
       "            <td>SELECT * FROM queries</td>\n",
       "        </tr>\n",
       "        <tr>\n",
       "            <td>Task 1</td>\n",
       "            <td>Create table comments</td>\n",
       "            <td><br>    CREATE TABLE &quot;comments&quot; (<br>    &quot;Id&quot; INTEGER,<br>    &quot;PostId&quot; INTEGER,<br>    &quot;Score&quot; INTEGER,<br>    &quot;Text&quot; TEXT,<br>    &quot;CreationDate&quot; TEXT,<br>    &quot;UserId&quot; INTEGER<br>    )<br>    </td>\n",
       "        </tr>\n",
       "        <tr>\n",
       "            <td>Task 2</td>\n",
       "            <td>Create table post</td>\n",
       "            <td><br>    CREATE TABLE &quot;posts&quot; (<br>    &quot;Id&quot; INTEGER,<br>    &quot;PostTypeId&quot; INTEGER,<br>    &quot;AcceptedAnswerId&quot; INTEGER,<br>    &quot;ParentId&quot; INTEGER,<br>    &quot;CreationDate&quot; TEXT,<br>    &quot;Score&quot; INTEGER,<br>    &quot;ViewCount&quot; INTEGER,<br>    &quot;Body&quot; TEXT,<br>    &quot;OwnerUserId&quot; INTEGER,<br>    &quot;OwnerDisplayName&quot; TEXT,<br>    &quot;LastEditorUserId&quot; INTEGER,<br>    &quot;LastEditorDisplayName&quot; TEXT,<br>    &quot;LastEditDate&quot; TEXT,<br>    &quot;LastActivityDate&quot; TEXT,<br>    &quot;Title&quot; TEXT,<br>    &quot;Tags&quot; TEXT,<br>    &quot;AnswerCount&quot; INTEGER,<br>    &quot;CommentCount&quot; INTEGER,<br>    &quot;FavoriteCount&quot; INTEGER,<br>    &quot;ClosedDate&quot; TEXT,<br>    &quot;CommunityOwnedDate&quot; TEXT<br>    )<br>    </td>\n",
       "        </tr>\n",
       "        <tr>\n",
       "            <td>Task 3</td>\n",
       "            <td>Create table users</td>\n",
       "            <td><br>    CREATE TABLE &quot;users&quot; (<br>    &quot;Id&quot; INTEGER,<br>    &quot;Reputation&quot; INTEGER,<br>    &quot;CreationDate&quot; TEXT,<br>    &quot;DisplayName&quot; TEXT,<br>    &quot;LastAccessDate&quot; TEXT,<br>    &quot;WebsiteUrl&quot; TEXT,<br>    &quot;Location&quot; TEXT,<br>    &quot;AboutMe&quot; TEXT,<br>    &quot;Views&quot; INTEGER,<br>    &quot;UpVotes&quot; INTEGER,<br>    &quot;DownVotes&quot; INTEGER,<br>    &quot;ProfileImageUrl&quot; TEXT,<br>    &quot;AccountId&quot; INTEGER<br>    )<br>    </td>\n",
       "        </tr>\n",
       "        <tr>\n",
       "            <td>Task 4</td>\n",
       "            <td>Count the number of rows in the comments table</td>\n",
       "            <td><br>SELECT Count(*) AS NumberOfRows<br>    FROM comments<br>        </td>\n",
       "        </tr>\n",
       "    </tbody>\n",
       "</table>"
      ],
      "text/plain": [
       "[('Single Table Queries', 'Which 5 users have viewed the most times and what is the sum of those views per user?', 'SELECT * FROM queries'),\n",
       " ('Task 1', 'Create table comments', '\\n    CREATE TABLE \"comments\" (\\n    \"Id\" INTEGER,\\n    \"PostId\" INTEGER,\\n    \"Score\" INTEGER,\\n    \"Text\" TEXT,\\n    \"CreationDate\" TEXT,\\n    \"UserId\" INTEGER\\n    )\\n    '),\n",
       " ('Task 2', 'Create table post', '\\n    CREATE TABLE \"posts\" (\\n    \"Id\" INTEGER,\\n    \"PostTypeId\" INTEGER,\\n    \"AcceptedAnswerId\" INTEGER,\\n    \"ParentId\" INTEGER,\\n    \"CreationDa ... (300 characters truncated) ... \"AnswerCount\" INTEGER,\\n    \"CommentCount\" INTEGER,\\n    \"FavoriteCount\" INTEGER,\\n    \"ClosedDate\" TEXT,\\n    \"CommunityOwnedDate\" TEXT\\n    )\\n    '),\n",
       " ('Task 3', 'Create table users', '\\n    CREATE TABLE \"users\" (\\n    \"Id\" INTEGER,\\n    \"Reputation\" INTEGER,\\n    \"CreationDate\" TEXT,\\n    \"DisplayName\" TEXT,\\n    \"LastAccessDate\" T ... (61 characters truncated) ... tMe\" TEXT,\\n    \"Views\" INTEGER,\\n    \"UpVotes\" INTEGER,\\n    \"DownVotes\" INTEGER,\\n    \"ProfileImageUrl\" TEXT,\\n    \"AccountId\" INTEGER\\n    )\\n    '),\n",
       " ('Task 4', 'Count the number of rows in the comments table', '\\nSELECT Count(*) AS NumberOfRows\\n    FROM comments\\n        ')]"
      ]
     },
     "execution_count": 643,
     "metadata": {},
     "output_type": "execute_result"
    }
   ],
   "source": [
    "%sql SELECT * FROM queries"
   ]
  },
  {
   "cell_type": "code",
   "execution_count": 644,
   "metadata": {},
   "outputs": [
    {
     "name": "stdout",
     "output_type": "stream",
     "text": [
      " * sqlite:///chatdata.db\n",
      "Done.\n"
     ]
    },
    {
     "data": {
      "text/html": [
       "<table>\n",
       "    <thead>\n",
       "        <tr>\n",
       "            <th>NumberOfRows</th>\n",
       "        </tr>\n",
       "    </thead>\n",
       "    <tbody>\n",
       "        <tr>\n",
       "            <td>42234</td>\n",
       "        </tr>\n",
       "    </tbody>\n",
       "</table>"
      ],
      "text/plain": [
       "[(42234,)]"
      ]
     },
     "execution_count": 644,
     "metadata": {},
     "output_type": "execute_result"
    }
   ],
   "source": [
    "# Count the number of rows in the posts table\n",
    "%sql SELECT Count(*) AS NumberOfRows FROM posts"
   ]
  },
  {
   "cell_type": "code",
   "execution_count": 645,
   "metadata": {},
   "outputs": [],
   "source": [
    "# insert the query into the queries table\n",
    "sql = \"\"\"\n",
    "SELECT Count(*) AS NumberOfRows\n",
    "    FROM posts\n",
    "        \"\"\"\n",
    "store_query(\"Task 5\", \"Count the number of rows in the posts table\", sql)"
   ]
  },
  {
   "cell_type": "code",
   "execution_count": 646,
   "metadata": {},
   "outputs": [
    {
     "name": "stdout",
     "output_type": "stream",
     "text": [
      " * sqlite:///chatdata.db\n",
      "Done.\n"
     ]
    },
    {
     "data": {
      "text/html": [
       "<table>\n",
       "    <thead>\n",
       "        <tr>\n",
       "            <th>task</th>\n",
       "            <th>action</th>\n",
       "            <th>query</th>\n",
       "        </tr>\n",
       "    </thead>\n",
       "    <tbody>\n",
       "        <tr>\n",
       "            <td>Single Table Queries</td>\n",
       "            <td>Which 5 users have viewed the most times and what is the sum of those views per user?</td>\n",
       "            <td>SELECT * FROM queries</td>\n",
       "        </tr>\n",
       "        <tr>\n",
       "            <td>Task 1</td>\n",
       "            <td>Create table comments</td>\n",
       "            <td><br>    CREATE TABLE &quot;comments&quot; (<br>    &quot;Id&quot; INTEGER,<br>    &quot;PostId&quot; INTEGER,<br>    &quot;Score&quot; INTEGER,<br>    &quot;Text&quot; TEXT,<br>    &quot;CreationDate&quot; TEXT,<br>    &quot;UserId&quot; INTEGER<br>    )<br>    </td>\n",
       "        </tr>\n",
       "        <tr>\n",
       "            <td>Task 2</td>\n",
       "            <td>Create table post</td>\n",
       "            <td><br>    CREATE TABLE &quot;posts&quot; (<br>    &quot;Id&quot; INTEGER,<br>    &quot;PostTypeId&quot; INTEGER,<br>    &quot;AcceptedAnswerId&quot; INTEGER,<br>    &quot;ParentId&quot; INTEGER,<br>    &quot;CreationDate&quot; TEXT,<br>    &quot;Score&quot; INTEGER,<br>    &quot;ViewCount&quot; INTEGER,<br>    &quot;Body&quot; TEXT,<br>    &quot;OwnerUserId&quot; INTEGER,<br>    &quot;OwnerDisplayName&quot; TEXT,<br>    &quot;LastEditorUserId&quot; INTEGER,<br>    &quot;LastEditorDisplayName&quot; TEXT,<br>    &quot;LastEditDate&quot; TEXT,<br>    &quot;LastActivityDate&quot; TEXT,<br>    &quot;Title&quot; TEXT,<br>    &quot;Tags&quot; TEXT,<br>    &quot;AnswerCount&quot; INTEGER,<br>    &quot;CommentCount&quot; INTEGER,<br>    &quot;FavoriteCount&quot; INTEGER,<br>    &quot;ClosedDate&quot; TEXT,<br>    &quot;CommunityOwnedDate&quot; TEXT<br>    )<br>    </td>\n",
       "        </tr>\n",
       "        <tr>\n",
       "            <td>Task 3</td>\n",
       "            <td>Create table users</td>\n",
       "            <td><br>    CREATE TABLE &quot;users&quot; (<br>    &quot;Id&quot; INTEGER,<br>    &quot;Reputation&quot; INTEGER,<br>    &quot;CreationDate&quot; TEXT,<br>    &quot;DisplayName&quot; TEXT,<br>    &quot;LastAccessDate&quot; TEXT,<br>    &quot;WebsiteUrl&quot; TEXT,<br>    &quot;Location&quot; TEXT,<br>    &quot;AboutMe&quot; TEXT,<br>    &quot;Views&quot; INTEGER,<br>    &quot;UpVotes&quot; INTEGER,<br>    &quot;DownVotes&quot; INTEGER,<br>    &quot;ProfileImageUrl&quot; TEXT,<br>    &quot;AccountId&quot; INTEGER<br>    )<br>    </td>\n",
       "        </tr>\n",
       "        <tr>\n",
       "            <td>Task 4</td>\n",
       "            <td>Count the number of rows in the comments table</td>\n",
       "            <td><br>SELECT Count(*) AS NumberOfRows<br>    FROM comments<br>        </td>\n",
       "        </tr>\n",
       "        <tr>\n",
       "            <td>Task 5</td>\n",
       "            <td>Count the number of rows in the posts table</td>\n",
       "            <td><br>SELECT Count(*) AS NumberOfRows<br>    FROM posts<br>        </td>\n",
       "        </tr>\n",
       "    </tbody>\n",
       "</table>"
      ],
      "text/plain": [
       "[('Single Table Queries', 'Which 5 users have viewed the most times and what is the sum of those views per user?', 'SELECT * FROM queries'),\n",
       " ('Task 1', 'Create table comments', '\\n    CREATE TABLE \"comments\" (\\n    \"Id\" INTEGER,\\n    \"PostId\" INTEGER,\\n    \"Score\" INTEGER,\\n    \"Text\" TEXT,\\n    \"CreationDate\" TEXT,\\n    \"UserId\" INTEGER\\n    )\\n    '),\n",
       " ('Task 2', 'Create table post', '\\n    CREATE TABLE \"posts\" (\\n    \"Id\" INTEGER,\\n    \"PostTypeId\" INTEGER,\\n    \"AcceptedAnswerId\" INTEGER,\\n    \"ParentId\" INTEGER,\\n    \"CreationDa ... (300 characters truncated) ... \"AnswerCount\" INTEGER,\\n    \"CommentCount\" INTEGER,\\n    \"FavoriteCount\" INTEGER,\\n    \"ClosedDate\" TEXT,\\n    \"CommunityOwnedDate\" TEXT\\n    )\\n    '),\n",
       " ('Task 3', 'Create table users', '\\n    CREATE TABLE \"users\" (\\n    \"Id\" INTEGER,\\n    \"Reputation\" INTEGER,\\n    \"CreationDate\" TEXT,\\n    \"DisplayName\" TEXT,\\n    \"LastAccessDate\" T ... (61 characters truncated) ... tMe\" TEXT,\\n    \"Views\" INTEGER,\\n    \"UpVotes\" INTEGER,\\n    \"DownVotes\" INTEGER,\\n    \"ProfileImageUrl\" TEXT,\\n    \"AccountId\" INTEGER\\n    )\\n    '),\n",
       " ('Task 4', 'Count the number of rows in the comments table', '\\nSELECT Count(*) AS NumberOfRows\\n    FROM comments\\n        '),\n",
       " ('Task 5', 'Count the number of rows in the posts table', '\\nSELECT Count(*) AS NumberOfRows\\n    FROM posts\\n        ')]"
      ]
     },
     "execution_count": 646,
     "metadata": {},
     "output_type": "execute_result"
    }
   ],
   "source": [
    "%sql SELECT * FROM queries"
   ]
  },
  {
   "cell_type": "code",
   "execution_count": 647,
   "metadata": {},
   "outputs": [
    {
     "name": "stdout",
     "output_type": "stream",
     "text": [
      " * sqlite:///chatdata.db\n",
      "Done.\n"
     ]
    },
    {
     "data": {
      "text/html": [
       "<table>\n",
       "    <thead>\n",
       "        <tr>\n",
       "            <th>NumberOfRows</th>\n",
       "        </tr>\n",
       "    </thead>\n",
       "    <tbody>\n",
       "        <tr>\n",
       "            <td>18412</td>\n",
       "        </tr>\n",
       "    </tbody>\n",
       "</table>"
      ],
      "text/plain": [
       "[(18412,)]"
      ]
     },
     "execution_count": 647,
     "metadata": {},
     "output_type": "execute_result"
    }
   ],
   "source": [
    "# Count the number of rows in the users table\n",
    "%sql SELECT Count(*) AS NumberOfRows FROM users"
   ]
  },
  {
   "cell_type": "code",
   "execution_count": 648,
   "metadata": {},
   "outputs": [],
   "source": [
    "# insert the query into the queries table\n",
    "sql = \"\"\"\n",
    "SELECT Count(*) AS NumberOfRows\n",
    "    FROM users\n",
    "        \"\"\"\n",
    "store_query(\"Task 6\", \"Count the number of rows in the users table\", sql)"
   ]
  },
  {
   "cell_type": "code",
   "execution_count": 649,
   "metadata": {},
   "outputs": [
    {
     "name": "stdout",
     "output_type": "stream",
     "text": [
      " * sqlite:///chatdata.db\n",
      "Done.\n"
     ]
    },
    {
     "data": {
      "text/html": [
       "<table>\n",
       "    <thead>\n",
       "        <tr>\n",
       "            <th>task</th>\n",
       "            <th>action</th>\n",
       "            <th>query</th>\n",
       "        </tr>\n",
       "    </thead>\n",
       "    <tbody>\n",
       "        <tr>\n",
       "            <td>Single Table Queries</td>\n",
       "            <td>Which 5 users have viewed the most times and what is the sum of those views per user?</td>\n",
       "            <td>SELECT * FROM queries</td>\n",
       "        </tr>\n",
       "        <tr>\n",
       "            <td>Task 1</td>\n",
       "            <td>Create table comments</td>\n",
       "            <td><br>    CREATE TABLE &quot;comments&quot; (<br>    &quot;Id&quot; INTEGER,<br>    &quot;PostId&quot; INTEGER,<br>    &quot;Score&quot; INTEGER,<br>    &quot;Text&quot; TEXT,<br>    &quot;CreationDate&quot; TEXT,<br>    &quot;UserId&quot; INTEGER<br>    )<br>    </td>\n",
       "        </tr>\n",
       "        <tr>\n",
       "            <td>Task 2</td>\n",
       "            <td>Create table post</td>\n",
       "            <td><br>    CREATE TABLE &quot;posts&quot; (<br>    &quot;Id&quot; INTEGER,<br>    &quot;PostTypeId&quot; INTEGER,<br>    &quot;AcceptedAnswerId&quot; INTEGER,<br>    &quot;ParentId&quot; INTEGER,<br>    &quot;CreationDate&quot; TEXT,<br>    &quot;Score&quot; INTEGER,<br>    &quot;ViewCount&quot; INTEGER,<br>    &quot;Body&quot; TEXT,<br>    &quot;OwnerUserId&quot; INTEGER,<br>    &quot;OwnerDisplayName&quot; TEXT,<br>    &quot;LastEditorUserId&quot; INTEGER,<br>    &quot;LastEditorDisplayName&quot; TEXT,<br>    &quot;LastEditDate&quot; TEXT,<br>    &quot;LastActivityDate&quot; TEXT,<br>    &quot;Title&quot; TEXT,<br>    &quot;Tags&quot; TEXT,<br>    &quot;AnswerCount&quot; INTEGER,<br>    &quot;CommentCount&quot; INTEGER,<br>    &quot;FavoriteCount&quot; INTEGER,<br>    &quot;ClosedDate&quot; TEXT,<br>    &quot;CommunityOwnedDate&quot; TEXT<br>    )<br>    </td>\n",
       "        </tr>\n",
       "        <tr>\n",
       "            <td>Task 3</td>\n",
       "            <td>Create table users</td>\n",
       "            <td><br>    CREATE TABLE &quot;users&quot; (<br>    &quot;Id&quot; INTEGER,<br>    &quot;Reputation&quot; INTEGER,<br>    &quot;CreationDate&quot; TEXT,<br>    &quot;DisplayName&quot; TEXT,<br>    &quot;LastAccessDate&quot; TEXT,<br>    &quot;WebsiteUrl&quot; TEXT,<br>    &quot;Location&quot; TEXT,<br>    &quot;AboutMe&quot; TEXT,<br>    &quot;Views&quot; INTEGER,<br>    &quot;UpVotes&quot; INTEGER,<br>    &quot;DownVotes&quot; INTEGER,<br>    &quot;ProfileImageUrl&quot; TEXT,<br>    &quot;AccountId&quot; INTEGER<br>    )<br>    </td>\n",
       "        </tr>\n",
       "        <tr>\n",
       "            <td>Task 4</td>\n",
       "            <td>Count the number of rows in the comments table</td>\n",
       "            <td><br>SELECT Count(*) AS NumberOfRows<br>    FROM comments<br>        </td>\n",
       "        </tr>\n",
       "        <tr>\n",
       "            <td>Task 5</td>\n",
       "            <td>Count the number of rows in the posts table</td>\n",
       "            <td><br>SELECT Count(*) AS NumberOfRows<br>    FROM posts<br>        </td>\n",
       "        </tr>\n",
       "        <tr>\n",
       "            <td>Task 6</td>\n",
       "            <td>Count the number of rows in the users table</td>\n",
       "            <td><br>SELECT Count(*) AS NumberOfRows<br>    FROM users<br>        </td>\n",
       "        </tr>\n",
       "    </tbody>\n",
       "</table>"
      ],
      "text/plain": [
       "[('Single Table Queries', 'Which 5 users have viewed the most times and what is the sum of those views per user?', 'SELECT * FROM queries'),\n",
       " ('Task 1', 'Create table comments', '\\n    CREATE TABLE \"comments\" (\\n    \"Id\" INTEGER,\\n    \"PostId\" INTEGER,\\n    \"Score\" INTEGER,\\n    \"Text\" TEXT,\\n    \"CreationDate\" TEXT,\\n    \"UserId\" INTEGER\\n    )\\n    '),\n",
       " ('Task 2', 'Create table post', '\\n    CREATE TABLE \"posts\" (\\n    \"Id\" INTEGER,\\n    \"PostTypeId\" INTEGER,\\n    \"AcceptedAnswerId\" INTEGER,\\n    \"ParentId\" INTEGER,\\n    \"CreationDa ... (300 characters truncated) ... \"AnswerCount\" INTEGER,\\n    \"CommentCount\" INTEGER,\\n    \"FavoriteCount\" INTEGER,\\n    \"ClosedDate\" TEXT,\\n    \"CommunityOwnedDate\" TEXT\\n    )\\n    '),\n",
       " ('Task 3', 'Create table users', '\\n    CREATE TABLE \"users\" (\\n    \"Id\" INTEGER,\\n    \"Reputation\" INTEGER,\\n    \"CreationDate\" TEXT,\\n    \"DisplayName\" TEXT,\\n    \"LastAccessDate\" T ... (61 characters truncated) ... tMe\" TEXT,\\n    \"Views\" INTEGER,\\n    \"UpVotes\" INTEGER,\\n    \"DownVotes\" INTEGER,\\n    \"ProfileImageUrl\" TEXT,\\n    \"AccountId\" INTEGER\\n    )\\n    '),\n",
       " ('Task 4', 'Count the number of rows in the comments table', '\\nSELECT Count(*) AS NumberOfRows\\n    FROM comments\\n        '),\n",
       " ('Task 5', 'Count the number of rows in the posts table', '\\nSELECT Count(*) AS NumberOfRows\\n    FROM posts\\n        '),\n",
       " ('Task 6', 'Count the number of rows in the users table', '\\nSELECT Count(*) AS NumberOfRows\\n    FROM users\\n        ')]"
      ]
     },
     "execution_count": 649,
     "metadata": {},
     "output_type": "execute_result"
    }
   ],
   "source": [
    "%sql SELECT * FROM queries"
   ]
  },
  {
   "cell_type": "markdown",
   "metadata": {},
   "source": [
    "## Do some Random Checks on the Data\n",
    "Let's write some queries that select 5 random rows from each table.  The queries are provided here:\n",
    "\n",
    "    select * from Comments order by random() limit 5;\n",
    "    select * from Users order by random() limit 5;\n",
    "    select * from Posts order by random() limit 5;\n",
    "\n"
   ]
  },
  {
   "cell_type": "code",
   "execution_count": 650,
   "metadata": {},
   "outputs": [
    {
     "name": "stdout",
     "output_type": "stream",
     "text": [
      " * sqlite:///chatdata.db\n",
      "Done.\n"
     ]
    },
    {
     "data": {
      "text/html": [
       "<table>\n",
       "    <thead>\n",
       "        <tr>\n",
       "            <th>Id</th>\n",
       "            <th>PostTypeId</th>\n",
       "            <th>AcceptedAnswerId</th>\n",
       "            <th>ParentId</th>\n",
       "            <th>CreationDate</th>\n",
       "            <th>Score</th>\n",
       "            <th>ViewCount</th>\n",
       "            <th>Body</th>\n",
       "            <th>OwnerUserId</th>\n",
       "            <th>OwnerDisplayName</th>\n",
       "            <th>LastEditorUserId</th>\n",
       "            <th>LastEditorDisplayName</th>\n",
       "            <th>LastEditDate</th>\n",
       "            <th>LastActivityDate</th>\n",
       "            <th>Title</th>\n",
       "            <th>Tags</th>\n",
       "            <th>AnswerCount</th>\n",
       "            <th>CommentCount</th>\n",
       "            <th>FavoriteCount</th>\n",
       "            <th>ClosedDate</th>\n",
       "            <th>CommunityOwnedDate</th>\n",
       "            <th>LEN_BODY</th>\n",
       "        </tr>\n",
       "    </thead>\n",
       "    <tbody>\n",
       "        <tr>\n",
       "            <td>415727</td>\n",
       "            <td>1</td>\n",
       "            <td>0</td>\n",
       "            <td>0</td>\n",
       "            <td>2019-07-02 16:34:54</td>\n",
       "            <td>6</td>\n",
       "            <td>125</td>\n",
       "            <td>&lt;p&gt;In &lt;a href=&quot;https://wmbriggs.com/post/18995/&quot; rel=&quot;noreferrer&quot;&gt;this blog&lt;/a&gt; by William Briggs, who seems to be  a prolific lecturer/writer on pop-statistics, he condemns the &quot;Bayesian Metaphor&quot; which is essentially referring to Bayesian probability as belief. &lt;/p&gt;<br><br>&lt;blockquote&gt;<br>  &lt;p&gt;Quoting from a post on vampires, “In Bayesian inference, you start<br>  with some initial beliefs (called ‘Bayesian priors’ or just ‘priors’),<br>  and then you ‘update’ them as you receive new evidence.”&lt;/p&gt;<br>  <br>  &lt;p&gt;This is the standard metaphor, and it’s not so much wrong as<br>  unhelpful, misleading, and restricting. The metaphor derives from<br>  Bayes’s rule (details which can be looked up anywhere) and which gives<br>  a formula which on the right-hand-side is supposed to be an element<br>  representing “prior beliefs.” The formula itself is correct, as most<br>  math is. But because math is correct does not mean that it means what<br>  you think it means.&lt;/p&gt;<br>&lt;/blockquote&gt;<br><br>&lt;p&gt;In my opinion, the prior being a &quot;belief&quot; is not a metaphor, but it is a veritable reflection of Bayesian probability. For instance, Bayesians can probabilistically quantify events that frequentists cannot such as the location of a quantum particle. I understand the distinction between Bayes&#x27; Rule and Bayesian Statistics: the former is a probabilistic law that applies to frequentist as well as Bayesian inference as well; the latter deals with a Bayesian interpretation of probability. He goes on to say:&lt;/p&gt;<br><br>&lt;blockquote&gt;<br>  &lt;p&gt;This is wrong because there is no such thing as “Pr(Y)” or “Pr(X)”.<br>  These objects do not exist. Numbers can be put in their place and the<br>  equation can be made to work out, but it is the step of putting<br>  numbers in that is wrong. There is no such thing as an unconditional<br>  probability, so we can never write without error “Pr(Y)” or “Pr(X)”.<br>  Instead, we should write e.g. Pr(Y|W) or Pr(X|W), where W is the<br>  knowledge we start with, i.e. our real prior (knowledge).&lt;/p&gt;<br>&lt;/blockquote&gt;<br><br>&lt;p&gt;And I think at this point--that this post doesn&#x27;t seem to have anything to do with Bayesian statistics at all. Like a frequentist putting uncertainty bounds on uncertainty bounds, it seems the Bayesian analogue is conditioning on conditioning. &lt;/p&gt;<br><br>&lt;p&gt;Is this blog sound reasoning? Is there actually a distinction between &quot;belief&quot; and &quot;knowledge&quot; when specifying a prior? If a conditional density exists, such as &lt;span class=&quot;math-container&quot;&gt;$Pr(Y|W)$&lt;/span&gt; then a marginal density exists as well &lt;span class=&quot;math-container&quot;&gt;$Pr(Y) = \\int Pr(Y|W)Pr(W)$&lt;/span&gt;?&lt;/p&gt;<br></td>\n",
       "            <td>8013</td>\n",
       "            <td>None</td>\n",
       "            <td>0</td>\n",
       "            <td>None</td>\n",
       "            <td>None</td>\n",
       "            <td>2019-07-03 00:39:18</td>\n",
       "            <td>If the Bayesian probability is not a belief, what is it?</td>\n",
       "            <td>&lt;probability&gt;&lt;bayesian&gt;</td>\n",
       "            <td>3</td>\n",
       "            <td>3</td>\n",
       "            <td>3</td>\n",
       "            <td>None</td>\n",
       "            <td>None</td>\n",
       "            <td>2554</td>\n",
       "        </tr>\n",
       "        <tr>\n",
       "            <td>393742</td>\n",
       "            <td>2</td>\n",
       "            <td>0</td>\n",
       "            <td>393721</td>\n",
       "            <td>2019-02-21 21:24:03</td>\n",
       "            <td>1</td>\n",
       "            <td>0</td>\n",
       "            <td>&lt;p&gt;The advantage of a Cox PH model is that it is designed to handle censoring, so long as the censoring is &lt;a href=&quot;https://stats.stackexchange.com/q/65202/28500&quot;&gt;non-informative&lt;/a&gt;.* For example, the presence of censoring should contain no information about the actual time to event except that the event occurred later than the censoring time. Beyond that requirement there is no &quot;acceptable limit&quot; on censoring. For example, in a disease with low recurrence or mortality there will necessarily be a large fraction of censored cases in analysis of disease-specific survival. The power of your analysis will essentially be set by the number of events; with 200 events you should be able to evaluate a reasonably complex survival model with a dozen or so predictors.&lt;/p&gt;<br><br>&lt;p&gt;What might be useful to allay your fears and those of your reviewers or readers would be to display the distributions of censoring and event times in a way that they can be compared, say as superimposed separate density plots. That, for example, could rule out a situation where most censoring times are earlier than most event times, a situation that might raise questions about whether censoring was really non-informative.&lt;/p&gt;<br><br>&lt;hr&gt;<br><br>&lt;p&gt;*It&#x27;s not clear what test you used to determine that &quot;censoring occurred at random,&quot; but non-informative censoring is not necessarily the same as random, as noted on the linked page. For example, say that everyone entered the study at the same time and the study was terminated at a fixed date, with those still in the study censored at that end date. That might not be found to be &quot;random&quot; censoring but it could still well be non-informative. &lt;/p&gt;<br></td>\n",
       "            <td>28500</td>\n",
       "            <td>None</td>\n",
       "            <td>0</td>\n",
       "            <td>None</td>\n",
       "            <td>None</td>\n",
       "            <td>2019-02-21 21:24:03</td>\n",
       "            <td>None</td>\n",
       "            <td>None</td>\n",
       "            <td>0</td>\n",
       "            <td>1</td>\n",
       "            <td>0</td>\n",
       "            <td>None</td>\n",
       "            <td>None</td>\n",
       "            <td>1666</td>\n",
       "        </tr>\n",
       "        <tr>\n",
       "            <td>390838</td>\n",
       "            <td>1</td>\n",
       "            <td>0</td>\n",
       "            <td>0</td>\n",
       "            <td>2019-02-05 05:05:48</td>\n",
       "            <td>0</td>\n",
       "            <td>17</td>\n",
       "            <td>&lt;p&gt;The Question I Have Involves the possible change in chance based on a changing sample size, if that sounds correct.&lt;/p&gt;<br><br>&lt;p&gt;The Example is, you have 100 tiles, with 5 players, each grabbing 8 tiles each. Lets use this example for each player grabbing 8 at a time, or 8 one by one, turn by turn.&lt;/p&gt;<br><br>&lt;p&gt;Does the Chance of getting particular tiles change as you go around for each person, with the first person with high odds of getting good tiles and the last the worst odds for getting good tiles? Or do you consider the bag of tiles as a whole for all players with equal odds of getting any tile?&lt;/p&gt;<br></td>\n",
       "            <td>236538</td>\n",
       "            <td>None</td>\n",
       "            <td>0</td>\n",
       "            <td>None</td>\n",
       "            <td>None</td>\n",
       "            <td>2019-02-05 05:46:18</td>\n",
       "            <td>The Scrabble Letter Odds Question</td>\n",
       "            <td>&lt;games&gt;</td>\n",
       "            <td>1</td>\n",
       "            <td>0</td>\n",
       "            <td>0</td>\n",
       "            <td>2019-02-05 11:39:42</td>\n",
       "            <td>None</td>\n",
       "            <td>606</td>\n",
       "        </tr>\n",
       "        <tr>\n",
       "            <td>420087</td>\n",
       "            <td>2</td>\n",
       "            <td>0</td>\n",
       "            <td>419970</td>\n",
       "            <td>2019-07-31 22:52:11</td>\n",
       "            <td>1</td>\n",
       "            <td>0</td>\n",
       "            <td>&lt;p&gt;&quot;99% true negative results&quot; = &lt;span class=&quot;math-container&quot;&gt;$P({\\text{-}}\\mid {\\text{Non-user}})$&lt;/span&gt;&lt;/p&gt;<br><br>&lt;p&gt;So &lt;span class=&quot;math-container&quot;&gt;$P({\\text{+}}\\mid {\\text{Non-user}}) = 1 - P({\\text{-}}\\mid {\\text{Non-user}}) 1 - 0.99 = 0.01$&lt;/span&gt;&lt;/p&gt;<br></td>\n",
       "            <td>158565</td>\n",
       "            <td>None</td>\n",
       "            <td>0</td>\n",
       "            <td>None</td>\n",
       "            <td>None</td>\n",
       "            <td>2019-07-31 22:52:11</td>\n",
       "            <td>None</td>\n",
       "            <td>None</td>\n",
       "            <td>0</td>\n",
       "            <td>0</td>\n",
       "            <td>0</td>\n",
       "            <td>None</td>\n",
       "            <td>None</td>\n",
       "            <td>254</td>\n",
       "        </tr>\n",
       "        <tr>\n",
       "            <td>396166</td>\n",
       "            <td>2</td>\n",
       "            <td>0</td>\n",
       "            <td>396110</td>\n",
       "            <td>2019-03-07 15:14:14</td>\n",
       "            <td>0</td>\n",
       "            <td>0</td>\n",
       "            <td>&lt;p&gt;The sample data also worked with me, however try running this to see where in the loop the problem is happening, this way if you encounter any errors, R throws the error and the loop keeps going   &lt;/p&gt;<br><br>&lt;pre&gt;&lt;code&gt;# the loop<br>ns &amp;lt;- ncol(df_new2)<br>h &amp;lt;- 12<br>fcast2 &amp;lt;- matrix(NA,nrow=h,ncol=ns)<br><br>for(i in 1:ncol(df_new2)){<br>  print(i)<br>  fcast2[,i] &amp;lt;- try(forecast(df_new2[,i], h=12, robust = TRUE, lambda = &quot;auto&quot;, biasadj = TRUE)$mean)<br>}<br>&lt;/code&gt;&lt;/pre&gt;<br></td>\n",
       "            <td>240270</td>\n",
       "            <td>None</td>\n",
       "            <td>240270</td>\n",
       "            <td>None</td>\n",
       "            <td>2019-03-08 13:29:59</td>\n",
       "            <td>2019-03-08 13:29:59</td>\n",
       "            <td>None</td>\n",
       "            <td>None</td>\n",
       "            <td>0</td>\n",
       "            <td>3</td>\n",
       "            <td>0</td>\n",
       "            <td>None</td>\n",
       "            <td>None</td>\n",
       "            <td>461</td>\n",
       "        </tr>\n",
       "    </tbody>\n",
       "</table>"
      ],
      "text/plain": [
       "[(415727, 1, 0, 0, '2019-07-02 16:34:54', 6, 125, '<p>In <a href=\"https://wmbriggs.com/post/18995/\" rel=\"noreferrer\">this blog</a> by William Briggs, who seems to be  a prolific lecturer/writer on pop ... (2290 characters truncated) ... lass=\"math-container\">$Pr(Y|W)$</span> then a marginal density exists as well <span class=\"math-container\">$Pr(Y) = \\\\int Pr(Y|W)Pr(W)$</span>?</p>\\n', 8013, None, 0, None, None, '2019-07-03 00:39:18', 'If the Bayesian probability is not a belief, what is it?', '<probability><bayesian>', 3, 3, 3, None, None, 2554),\n",
       " (393742, 2, 0, 393721, '2019-02-21 21:24:03', 1, 0, '<p>The advantage of a Cox PH model is that it is designed to handle censoring, so long as the censoring is <a href=\"https://stats.stackexchange.com/q ... (1376 characters truncated) ... ose still in the study censored at that end date. That might not be found to be \"random\" censoring but it could still well be non-informative. </p>\\n', 28500, None, 0, None, None, '2019-02-21 21:24:03', None, None, 0, 1, 0, None, None, 1666),\n",
       " (390838, 1, 0, 0, '2019-02-05 05:05:48', 0, 17, '<p>The Question I Have Involves the possible change in chance based on a changing sample size, if that sounds correct.</p>\\n\\n<p>The Example is, you  ... (313 characters truncated) ... last the worst odds for getting good tiles? Or do you consider the bag of tiles as a whole for all players with equal odds of getting any tile?</p>\\n', 236538, None, 0, None, None, '2019-02-05 05:46:18', 'The Scrabble Letter Odds Question', '<games>', 1, 0, 0, '2019-02-05 11:39:42', None, 606),\n",
       " (420087, 2, 0, 419970, '2019-07-31 22:52:11', 1, 0, '<p>\"99% true negative results\" = <span class=\"math-container\">$P({\\\\text{-}}\\\\mid {\\\\text{Non-user}})$</span></p>\\n\\n<p>So <span class=\"math-container\">$P({\\\\text{+}}\\\\mid {\\\\text{Non-user}}) = 1 - P({\\\\text{-}}\\\\mid {\\\\text{Non-user}}) 1 - 0.99 = 0.01$</span></p>\\n', 158565, None, 0, None, None, '2019-07-31 22:52:11', None, None, 0, 0, 0, None, None, 254),\n",
       " (396166, 2, 0, 396110, '2019-03-07 15:14:14', 0, 0, '<p>The sample data also worked with me, however try running this to see where in the loop the problem is happening, this way if you encounter any err ... (175 characters truncated) ... (df_new2)){\\n  print(i)\\n  fcast2[,i] &lt;- try(forecast(df_new2[,i], h=12, robust = TRUE, lambda = \"auto\", biasadj = TRUE)$mean)\\n}\\n</code></pre>\\n', 240270, None, 240270, None, '2019-03-08 13:29:59', '2019-03-08 13:29:59', None, None, 0, 3, 0, None, None, 461)]"
      ]
     },
     "execution_count": 650,
     "metadata": {},
     "output_type": "execute_result"
    }
   ],
   "source": [
    "# Run the query to select 5 random rows from the posts table\n",
    "%sql SELECT * FROM posts ORDER BY random() LIMIT 5;"
   ]
  },
  {
   "cell_type": "code",
   "execution_count": 651,
   "metadata": {},
   "outputs": [],
   "source": [
    "# insert the query into the queries table\n",
    "sql = \"\"\"\n",
    "    SELECT * \n",
    "    FROM posts \n",
    "    ORDER BY random() \n",
    "    LIMIT 5\n",
    "        \"\"\"\n",
    "store_query(\"Task 7\", \"select 5 random rows from posts table\", sql)"
   ]
  },
  {
   "cell_type": "code",
   "execution_count": 652,
   "metadata": {},
   "outputs": [
    {
     "name": "stdout",
     "output_type": "stream",
     "text": [
      " * sqlite:///chatdata.db\n",
      "Done.\n"
     ]
    },
    {
     "data": {
      "text/html": [
       "<table>\n",
       "    <thead>\n",
       "        <tr>\n",
       "            <th>task</th>\n",
       "            <th>action</th>\n",
       "            <th>query</th>\n",
       "        </tr>\n",
       "    </thead>\n",
       "    <tbody>\n",
       "        <tr>\n",
       "            <td>Single Table Queries</td>\n",
       "            <td>Which 5 users have viewed the most times and what is the sum of those views per user?</td>\n",
       "            <td>SELECT * FROM queries</td>\n",
       "        </tr>\n",
       "        <tr>\n",
       "            <td>Task 1</td>\n",
       "            <td>Create table comments</td>\n",
       "            <td><br>    CREATE TABLE &quot;comments&quot; (<br>    &quot;Id&quot; INTEGER,<br>    &quot;PostId&quot; INTEGER,<br>    &quot;Score&quot; INTEGER,<br>    &quot;Text&quot; TEXT,<br>    &quot;CreationDate&quot; TEXT,<br>    &quot;UserId&quot; INTEGER<br>    )<br>    </td>\n",
       "        </tr>\n",
       "        <tr>\n",
       "            <td>Task 2</td>\n",
       "            <td>Create table post</td>\n",
       "            <td><br>    CREATE TABLE &quot;posts&quot; (<br>    &quot;Id&quot; INTEGER,<br>    &quot;PostTypeId&quot; INTEGER,<br>    &quot;AcceptedAnswerId&quot; INTEGER,<br>    &quot;ParentId&quot; INTEGER,<br>    &quot;CreationDate&quot; TEXT,<br>    &quot;Score&quot; INTEGER,<br>    &quot;ViewCount&quot; INTEGER,<br>    &quot;Body&quot; TEXT,<br>    &quot;OwnerUserId&quot; INTEGER,<br>    &quot;OwnerDisplayName&quot; TEXT,<br>    &quot;LastEditorUserId&quot; INTEGER,<br>    &quot;LastEditorDisplayName&quot; TEXT,<br>    &quot;LastEditDate&quot; TEXT,<br>    &quot;LastActivityDate&quot; TEXT,<br>    &quot;Title&quot; TEXT,<br>    &quot;Tags&quot; TEXT,<br>    &quot;AnswerCount&quot; INTEGER,<br>    &quot;CommentCount&quot; INTEGER,<br>    &quot;FavoriteCount&quot; INTEGER,<br>    &quot;ClosedDate&quot; TEXT,<br>    &quot;CommunityOwnedDate&quot; TEXT<br>    )<br>    </td>\n",
       "        </tr>\n",
       "        <tr>\n",
       "            <td>Task 3</td>\n",
       "            <td>Create table users</td>\n",
       "            <td><br>    CREATE TABLE &quot;users&quot; (<br>    &quot;Id&quot; INTEGER,<br>    &quot;Reputation&quot; INTEGER,<br>    &quot;CreationDate&quot; TEXT,<br>    &quot;DisplayName&quot; TEXT,<br>    &quot;LastAccessDate&quot; TEXT,<br>    &quot;WebsiteUrl&quot; TEXT,<br>    &quot;Location&quot; TEXT,<br>    &quot;AboutMe&quot; TEXT,<br>    &quot;Views&quot; INTEGER,<br>    &quot;UpVotes&quot; INTEGER,<br>    &quot;DownVotes&quot; INTEGER,<br>    &quot;ProfileImageUrl&quot; TEXT,<br>    &quot;AccountId&quot; INTEGER<br>    )<br>    </td>\n",
       "        </tr>\n",
       "        <tr>\n",
       "            <td>Task 4</td>\n",
       "            <td>Count the number of rows in the comments table</td>\n",
       "            <td><br>SELECT Count(*) AS NumberOfRows<br>    FROM comments<br>        </td>\n",
       "        </tr>\n",
       "        <tr>\n",
       "            <td>Task 5</td>\n",
       "            <td>Count the number of rows in the posts table</td>\n",
       "            <td><br>SELECT Count(*) AS NumberOfRows<br>    FROM posts<br>        </td>\n",
       "        </tr>\n",
       "        <tr>\n",
       "            <td>Task 6</td>\n",
       "            <td>Count the number of rows in the users table</td>\n",
       "            <td><br>SELECT Count(*) AS NumberOfRows<br>    FROM users<br>        </td>\n",
       "        </tr>\n",
       "        <tr>\n",
       "            <td>Task 7</td>\n",
       "            <td>select 5 random rows from posts table</td>\n",
       "            <td><br>    SELECT * <br>    FROM posts <br>    ORDER BY random() <br>    LIMIT 5<br>        </td>\n",
       "        </tr>\n",
       "    </tbody>\n",
       "</table>"
      ],
      "text/plain": [
       "[('Single Table Queries', 'Which 5 users have viewed the most times and what is the sum of those views per user?', 'SELECT * FROM queries'),\n",
       " ('Task 1', 'Create table comments', '\\n    CREATE TABLE \"comments\" (\\n    \"Id\" INTEGER,\\n    \"PostId\" INTEGER,\\n    \"Score\" INTEGER,\\n    \"Text\" TEXT,\\n    \"CreationDate\" TEXT,\\n    \"UserId\" INTEGER\\n    )\\n    '),\n",
       " ('Task 2', 'Create table post', '\\n    CREATE TABLE \"posts\" (\\n    \"Id\" INTEGER,\\n    \"PostTypeId\" INTEGER,\\n    \"AcceptedAnswerId\" INTEGER,\\n    \"ParentId\" INTEGER,\\n    \"CreationDa ... (300 characters truncated) ... \"AnswerCount\" INTEGER,\\n    \"CommentCount\" INTEGER,\\n    \"FavoriteCount\" INTEGER,\\n    \"ClosedDate\" TEXT,\\n    \"CommunityOwnedDate\" TEXT\\n    )\\n    '),\n",
       " ('Task 3', 'Create table users', '\\n    CREATE TABLE \"users\" (\\n    \"Id\" INTEGER,\\n    \"Reputation\" INTEGER,\\n    \"CreationDate\" TEXT,\\n    \"DisplayName\" TEXT,\\n    \"LastAccessDate\" T ... (61 characters truncated) ... tMe\" TEXT,\\n    \"Views\" INTEGER,\\n    \"UpVotes\" INTEGER,\\n    \"DownVotes\" INTEGER,\\n    \"ProfileImageUrl\" TEXT,\\n    \"AccountId\" INTEGER\\n    )\\n    '),\n",
       " ('Task 4', 'Count the number of rows in the comments table', '\\nSELECT Count(*) AS NumberOfRows\\n    FROM comments\\n        '),\n",
       " ('Task 5', 'Count the number of rows in the posts table', '\\nSELECT Count(*) AS NumberOfRows\\n    FROM posts\\n        '),\n",
       " ('Task 6', 'Count the number of rows in the users table', '\\nSELECT Count(*) AS NumberOfRows\\n    FROM users\\n        '),\n",
       " ('Task 7', 'select 5 random rows from posts table', '\\n    SELECT * \\n    FROM posts \\n    ORDER BY random() \\n    LIMIT 5\\n        ')]"
      ]
     },
     "execution_count": 652,
     "metadata": {},
     "output_type": "execute_result"
    }
   ],
   "source": [
    "%sql SELECT * FROM queries"
   ]
  },
  {
   "cell_type": "code",
   "execution_count": 653,
   "metadata": {},
   "outputs": [
    {
     "name": "stdout",
     "output_type": "stream",
     "text": [
      " * sqlite:///chatdata.db\n",
      "Done.\n"
     ]
    },
    {
     "data": {
      "text/html": [
       "<table>\n",
       "    <thead>\n",
       "        <tr>\n",
       "            <th>Id</th>\n",
       "            <th>PostId</th>\n",
       "            <th>Score</th>\n",
       "            <th>Text</th>\n",
       "            <th>CreationDate</th>\n",
       "            <th>UserId</th>\n",
       "        </tr>\n",
       "    </thead>\n",
       "    <tbody>\n",
       "        <tr>\n",
       "            <td>753672</td>\n",
       "            <td>402245</td>\n",
       "            <td>0</td>\n",
       "            <td>Thank you for your further comment. In my case-control data, case and control samples were collected from different cohorts. The case samples were collected from a hospital-based cohort. The control samples were collected from a population-based cohort. In that case, is it appropriate that a correlation analysis is performed using the case-control study based data?</td>\n",
       "            <td>2019-04-13 04:59:12</td>\n",
       "            <td>161341</td>\n",
       "        </tr>\n",
       "        <tr>\n",
       "            <td>766029</td>\n",
       "            <td>410120</td>\n",
       "            <td>3</td>\n",
       "            <td>@naveganteX, example: 100 samples, 50-25-25 train/validation/test split.  With CV, the first 75 of that are used for training+validation and every sample of that 75 is used for both training and validation (that&#x27;s what CV is).  The remaining 25 of the test data is there no matter what.</td>\n",
       "            <td>2019-05-26 06:17:10</td>\n",
       "            <td>241093</td>\n",
       "        </tr>\n",
       "        <tr>\n",
       "            <td>784321</td>\n",
       "            <td>420394</td>\n",
       "            <td>0</td>\n",
       "            <td>With $\\nu$ = N-1 = sample size - 1, try overplotting with $\\Gamma(\\nu/2 , 2\\sigma^2 /\\nu)$. So for N = 7, use $\\Gamma(3, 8.3333)$ and for N = 30, use $\\Gamma(14.5, 1.72414)$. There is a nice answer at this site that shows how the gamma distribution is related to the chi square distribution. As promised: https://stats.stackexchange.com/q/118676/247352</td>\n",
       "            <td>2019-08-03 00:17:35</td>\n",
       "            <td>247352</td>\n",
       "        </tr>\n",
       "        <tr>\n",
       "            <td>768152</td>\n",
       "            <td>411368</td>\n",
       "            <td>0</td>\n",
       "            <td>You don&#x27;t need to fit a function in order simulate from the distribution--as I suggested earlier, fitting the function has its uses, but simulation is not one of the better ones when you have so much data.</td>\n",
       "            <td>2019-06-03 19:26:51</td>\n",
       "            <td>919</td>\n",
       "        </tr>\n",
       "        <tr>\n",
       "            <td>768006</td>\n",
       "            <td>129849</td>\n",
       "            <td>1</td>\n",
       "            <td>Please keep in mind that the package seems to rely on factor orderings. The package does not seem to give sensible results for unordered variables.</td>\n",
       "            <td>2019-06-03 11:44:34</td>\n",
       "            <td>106454</td>\n",
       "        </tr>\n",
       "    </tbody>\n",
       "</table>"
      ],
      "text/plain": [
       "[(753672, 402245, 0, 'Thank you for your further comment. In my case-control data, case and control samples were collected from different cohorts. The case samples were co ... (69 characters truncated) ... ted from a population-based cohort. In that case, is it appropriate that a correlation analysis is performed using the case-control study based data?', '2019-04-13 04:59:12', 161341),\n",
       " (766029, 410120, 3, \"@naveganteX, example: 100 samples, 50-25-25 train/validation/test split.  With CV, the first 75 of that are used for training+validation and every sample of that 75 is used for both training and validation (that's what CV is).  The remaining 25 of the test data is there no matter what.\", '2019-05-26 06:17:10', 241093),\n",
       " (784321, 420394, 0, 'With $\\\\nu$ = N-1 = sample size - 1, try overplotting with $\\\\Gamma(\\\\nu/2 , 2\\\\sigma^2 /\\\\nu)$. So for N = 7, use $\\\\Gamma(3, 8.3333)$ and for N = 3 ... (61 characters truncated) ... is site that shows how the gamma distribution is related to the chi square distribution. As promised: https://stats.stackexchange.com/q/118676/247352', '2019-08-03 00:17:35', 247352),\n",
       " (768152, 411368, 0, \"You don't need to fit a function in order simulate from the distribution--as I suggested earlier, fitting the function has its uses, but simulation is not one of the better ones when you have so much data.\", '2019-06-03 19:26:51', 919),\n",
       " (768006, 129849, 1, 'Please keep in mind that the package seems to rely on factor orderings. The package does not seem to give sensible results for unordered variables.', '2019-06-03 11:44:34', 106454)]"
      ]
     },
     "execution_count": 653,
     "metadata": {},
     "output_type": "execute_result"
    }
   ],
   "source": [
    "# Run the query to select 5 random rows from the posts comments\n",
    "%sql SELECT * FROM comments ORDER BY random() LIMIT 5;"
   ]
  },
  {
   "cell_type": "code",
   "execution_count": 654,
   "metadata": {},
   "outputs": [],
   "source": [
    "# insert the query into the queries table\n",
    "sql = \"\"\"\n",
    "    SELECT * \n",
    "    FROM comments \n",
    "    ORDER BY random() \n",
    "    LIMIT 5\n",
    "        \"\"\"\n",
    "store_query(\"Task 8\", \"select 5 random rows from comments table\", sql)"
   ]
  },
  {
   "cell_type": "code",
   "execution_count": 107,
   "metadata": {},
   "outputs": [
    {
     "name": "stdout",
     "output_type": "stream",
     "text": [
      " * sqlite:///chatdata.db\n",
      "Done.\n"
     ]
    },
    {
     "data": {
      "text/html": [
       "<table>\n",
       "    <thead>\n",
       "        <tr>\n",
       "            <th>task</th>\n",
       "            <th>action</th>\n",
       "            <th>query</th>\n",
       "        </tr>\n",
       "    </thead>\n",
       "    <tbody>\n",
       "        <tr>\n",
       "            <td>Single Table Queries</td>\n",
       "            <td>Which 5 users have viewed the most times and what is the sum of those views per user?</td>\n",
       "            <td><br>SELECT Id, SUM(Views) AS TotalViews<br>    FROM Users<br>        GROUP BY Id<br>            ORDER BY TotalViews DESC<br>                LIMIT 5<br>                </td>\n",
       "        </tr>\n",
       "        <tr>\n",
       "            <td>Task 1</td>\n",
       "            <td>Create table comments</td>\n",
       "            <td><br>    CREATE TABLE &quot;comments&quot; (<br>    &quot;Id&quot; INTEGER,<br>    &quot;PostId&quot; INTEGER,<br>    &quot;Score&quot; INTEGER,<br>    &quot;Text&quot; TEXT,<br>    &quot;CreationDate&quot; TEXT,<br>    &quot;UserId&quot; INTEGER<br>    )<br>    </td>\n",
       "        </tr>\n",
       "        <tr>\n",
       "            <td>Task 2</td>\n",
       "            <td>Create table post</td>\n",
       "            <td><br>    CREATE TABLE &quot;posts&quot; (<br>    &quot;Id&quot; INTEGER,<br>    &quot;PostTypeId&quot; INTEGER,<br>    &quot;AcceptedAnswerId&quot; INTEGER,<br>    &quot;ParentId&quot; INTEGER,<br>    &quot;CreationDate&quot; TEXT,<br>    &quot;Score&quot; INTEGER,<br>    &quot;ViewCount&quot; INTEGER,<br>    &quot;Body&quot; TEXT,<br>    &quot;OwnerUserId&quot; INTEGER,<br>    &quot;OwnerDisplayName&quot; TEXT,<br>    &quot;LastEditorUserId&quot; INTEGER,<br>    &quot;LastEditorDisplayName&quot; TEXT,<br>    &quot;LastEditDate&quot; TEXT,<br>    &quot;LastActivityDate&quot; TEXT,<br>    &quot;Title&quot; TEXT,<br>    &quot;Tags&quot; TEXT,<br>    &quot;AnswerCount&quot; INTEGER,<br>    &quot;CommentCount&quot; INTEGER,<br>    &quot;FavoriteCount&quot; INTEGER,<br>    &quot;ClosedDate&quot; TEXT,<br>    &quot;CommunityOwnedDate&quot; TEXT<br>    )<br>    </td>\n",
       "        </tr>\n",
       "        <tr>\n",
       "            <td>Task 3</td>\n",
       "            <td>Create table users</td>\n",
       "            <td><br>    CREATE TABLE &quot;users&quot; (<br>    &quot;Id&quot; INTEGER,<br>    &quot;Reputation&quot; INTEGER,<br>    &quot;CreationDate&quot; TEXT,<br>    &quot;DisplayName&quot; TEXT,<br>    &quot;LastAccessDate&quot; TEXT,<br>    &quot;WebsiteUrl&quot; TEXT,<br>    &quot;Location&quot; TEXT,<br>    &quot;AboutMe&quot; TEXT,<br>    &quot;Views&quot; INTEGER,<br>    &quot;UpVotes&quot; INTEGER,<br>    &quot;DownVotes&quot; INTEGER,<br>    &quot;ProfileImageUrl&quot; TEXT,<br>    &quot;AccountId&quot; INTEGER<br>    )<br>    </td>\n",
       "        </tr>\n",
       "        <tr>\n",
       "            <td>Task 4</td>\n",
       "            <td>Count the number of rows in the comments table</td>\n",
       "            <td><br>SELECT Count(*) AS NumberOfRows<br>    FROM comments<br>        </td>\n",
       "        </tr>\n",
       "        <tr>\n",
       "            <td>Task 5</td>\n",
       "            <td>Count the number of rows in the posts table</td>\n",
       "            <td><br>SELECT Count(*) AS NumberOfRows<br>    FROM posts<br>        </td>\n",
       "        </tr>\n",
       "        <tr>\n",
       "            <td>Task 6</td>\n",
       "            <td>Count the number of rows in the users table</td>\n",
       "            <td><br>SELECT Count(*) AS NumberOfRows<br>    FROM users<br>        </td>\n",
       "        </tr>\n",
       "        <tr>\n",
       "            <td>Task 7</td>\n",
       "            <td>select 5 random rows from posts table</td>\n",
       "            <td><br>    SELECT * <br>    FROM posts <br>    ORDER BY random() <br>    LIMIT 5<br>        </td>\n",
       "        </tr>\n",
       "        <tr>\n",
       "            <td>Task 8</td>\n",
       "            <td>select 5 random rows from comments table</td>\n",
       "            <td><br>    SELECT * <br>    FROM comments <br>    ORDER BY random() <br>    LIMIT 5<br>        </td>\n",
       "        </tr>\n",
       "    </tbody>\n",
       "</table>"
      ],
      "text/plain": [
       "[('Single Table Queries', 'Which 5 users have viewed the most times and what is the sum of those views per user?', '\\nSELECT Id, SUM(Views) AS TotalViews\\n    FROM Users\\n        GROUP BY Id\\n            ORDER BY TotalViews DESC\\n                LIMIT 5\\n                '),\n",
       " ('Task 1', 'Create table comments', '\\n    CREATE TABLE \"comments\" (\\n    \"Id\" INTEGER,\\n    \"PostId\" INTEGER,\\n    \"Score\" INTEGER,\\n    \"Text\" TEXT,\\n    \"CreationDate\" TEXT,\\n    \"UserId\" INTEGER\\n    )\\n    '),\n",
       " ('Task 2', 'Create table post', '\\n    CREATE TABLE \"posts\" (\\n    \"Id\" INTEGER,\\n    \"PostTypeId\" INTEGER,\\n    \"AcceptedAnswerId\" INTEGER,\\n    \"ParentId\" INTEGER,\\n    \"CreationDa ... (300 characters truncated) ... \"AnswerCount\" INTEGER,\\n    \"CommentCount\" INTEGER,\\n    \"FavoriteCount\" INTEGER,\\n    \"ClosedDate\" TEXT,\\n    \"CommunityOwnedDate\" TEXT\\n    )\\n    '),\n",
       " ('Task 3', 'Create table users', '\\n    CREATE TABLE \"users\" (\\n    \"Id\" INTEGER,\\n    \"Reputation\" INTEGER,\\n    \"CreationDate\" TEXT,\\n    \"DisplayName\" TEXT,\\n    \"LastAccessDate\" T ... (61 characters truncated) ... tMe\" TEXT,\\n    \"Views\" INTEGER,\\n    \"UpVotes\" INTEGER,\\n    \"DownVotes\" INTEGER,\\n    \"ProfileImageUrl\" TEXT,\\n    \"AccountId\" INTEGER\\n    )\\n    '),\n",
       " ('Task 4', 'Count the number of rows in the comments table', '\\nSELECT Count(*) AS NumberOfRows\\n    FROM comments\\n        '),\n",
       " ('Task 5', 'Count the number of rows in the posts table', '\\nSELECT Count(*) AS NumberOfRows\\n    FROM posts\\n        '),\n",
       " ('Task 6', 'Count the number of rows in the users table', '\\nSELECT Count(*) AS NumberOfRows\\n    FROM users\\n        '),\n",
       " ('Task 7', 'select 5 random rows from posts table', '\\n    SELECT * \\n    FROM posts \\n    ORDER BY random() \\n    LIMIT 5\\n        '),\n",
       " ('Task 8', 'select 5 random rows from comments table', '\\n    SELECT * \\n    FROM comments \\n    ORDER BY random() \\n    LIMIT 5\\n        ')]"
      ]
     },
     "execution_count": 107,
     "metadata": {},
     "output_type": "execute_result"
    }
   ],
   "source": [
    "%sql SELECT * FROM queries"
   ]
  },
  {
   "cell_type": "code",
   "execution_count": 655,
   "metadata": {},
   "outputs": [
    {
     "name": "stdout",
     "output_type": "stream",
     "text": [
      " * sqlite:///chatdata.db\n",
      "Done.\n"
     ]
    },
    {
     "data": {
      "text/html": [
       "<table>\n",
       "    <thead>\n",
       "        <tr>\n",
       "            <th>Id</th>\n",
       "            <th>Reputation</th>\n",
       "            <th>CreationDate</th>\n",
       "            <th>DisplayName</th>\n",
       "            <th>LastAccessDate</th>\n",
       "            <th>WebsiteUrl</th>\n",
       "            <th>Location</th>\n",
       "            <th>AboutMe</th>\n",
       "            <th>Views</th>\n",
       "            <th>UpVotes</th>\n",
       "            <th>DownVotes</th>\n",
       "            <th>ProfileImageUrl</th>\n",
       "            <th>AccountId</th>\n",
       "        </tr>\n",
       "    </thead>\n",
       "    <tbody>\n",
       "        <tr>\n",
       "            <td>250992</td>\n",
       "            <td>23</td>\n",
       "            <td>2019-06-15 05:13:50</td>\n",
       "            <td>user677216</td>\n",
       "            <td>2019-08-11 23:59:11</td>\n",
       "            <td>None</td>\n",
       "            <td>None</td>\n",
       "            <td>None</td>\n",
       "            <td>2</td>\n",
       "            <td>0</td>\n",
       "            <td>0</td>\n",
       "            <td>https://www.gravatar.com/avatar/eb5d1368672795e12587ad9a65b5865f?s=128&amp;d=identicon&amp;r=PG&amp;f=1</td>\n",
       "            <td>16012774</td>\n",
       "        </tr>\n",
       "        <tr>\n",
       "            <td>124277</td>\n",
       "            <td>33</td>\n",
       "            <td>2016-07-23 20:35:26</td>\n",
       "            <td>R_user123</td>\n",
       "            <td>2019-09-07 01:47:18</td>\n",
       "            <td>None</td>\n",
       "            <td>None</td>\n",
       "            <td>None</td>\n",
       "            <td>12</td>\n",
       "            <td>6</td>\n",
       "            <td>0</td>\n",
       "            <td>https://www.gravatar.com/avatar/b3fb69e171f312d8cde4f1245fe15645?s=128&amp;d=identicon&amp;r=PG&amp;f=1</td>\n",
       "            <td>7062891</td>\n",
       "        </tr>\n",
       "        <tr>\n",
       "            <td>254291</td>\n",
       "            <td>303</td>\n",
       "            <td>2019-07-21 13:32:44</td>\n",
       "            <td>davo.biainili</td>\n",
       "            <td>2019-11-15 04:12:43</td>\n",
       "            <td>None</td>\n",
       "            <td>Boston, MA, USA</td>\n",
       "            <td>&lt;p&gt;One humid, brown dusk -<br>The rain is emanating:<br>Smell of the asphalt.&lt;/p&gt;<br><br>&lt;p&gt;Just an enthusiast.&lt;/p&gt;<br></td>\n",
       "            <td>18</td>\n",
       "            <td>10</td>\n",
       "            <td>0</td>\n",
       "            <td>https://i.stack.imgur.com/EegOH.jpg</td>\n",
       "            <td>14743720</td>\n",
       "        </tr>\n",
       "        <tr>\n",
       "            <td>41561</td>\n",
       "            <td>390</td>\n",
       "            <td>2014-03-08 20:06:32</td>\n",
       "            <td>Kam Sen</td>\n",
       "            <td>2019-11-26 12:37:53</td>\n",
       "            <td>None</td>\n",
       "            <td>None</td>\n",
       "            <td>None</td>\n",
       "            <td>19</td>\n",
       "            <td>1</td>\n",
       "            <td>0</td>\n",
       "            <td>https://www.gravatar.com/avatar/fb1933c8a098b769968a3d63f021709e?s=128&amp;d=identicon&amp;r=PG</td>\n",
       "            <td>2343614</td>\n",
       "        </tr>\n",
       "        <tr>\n",
       "            <td>252101</td>\n",
       "            <td>53</td>\n",
       "            <td>2019-06-27 09:36:38</td>\n",
       "            <td>amars96</td>\n",
       "            <td>2019-08-27 12:39:29</td>\n",
       "            <td>None</td>\n",
       "            <td>None</td>\n",
       "            <td>None</td>\n",
       "            <td>8</td>\n",
       "            <td>1</td>\n",
       "            <td>0</td>\n",
       "            <td>https://www.gravatar.com/avatar/9ba13abbb738e4ae672620eec8ddd6a6?s=128&amp;d=identicon&amp;r=PG&amp;f=1</td>\n",
       "            <td>16214615</td>\n",
       "        </tr>\n",
       "    </tbody>\n",
       "</table>"
      ],
      "text/plain": [
       "[(250992, 23, '2019-06-15 05:13:50', 'user677216', '2019-08-11 23:59:11', None, None, None, 2, 0, 0, 'https://www.gravatar.com/avatar/eb5d1368672795e12587ad9a65b5865f?s=128&d=identicon&r=PG&f=1', 16012774),\n",
       " (124277, 33, '2016-07-23 20:35:26', 'R_user123', '2019-09-07 01:47:18', None, None, None, 12, 6, 0, 'https://www.gravatar.com/avatar/b3fb69e171f312d8cde4f1245fe15645?s=128&d=identicon&r=PG&f=1', 7062891),\n",
       " (254291, 303, '2019-07-21 13:32:44', 'davo.biainili', '2019-11-15 04:12:43', None, 'Boston, MA, USA', '<p>One humid, brown dusk -\\nThe rain is emanating:\\nSmell of the asphalt.</p>\\n\\n<p>Just an enthusiast.</p>\\n', 18, 10, 0, 'https://i.stack.imgur.com/EegOH.jpg', 14743720),\n",
       " (41561, 390, '2014-03-08 20:06:32', 'Kam Sen', '2019-11-26 12:37:53', None, None, None, 19, 1, 0, 'https://www.gravatar.com/avatar/fb1933c8a098b769968a3d63f021709e?s=128&d=identicon&r=PG', 2343614),\n",
       " (252101, 53, '2019-06-27 09:36:38', 'amars96', '2019-08-27 12:39:29', None, None, None, 8, 1, 0, 'https://www.gravatar.com/avatar/9ba13abbb738e4ae672620eec8ddd6a6?s=128&d=identicon&r=PG&f=1', 16214615)]"
      ]
     },
     "execution_count": 655,
     "metadata": {},
     "output_type": "execute_result"
    }
   ],
   "source": [
    "# Run the query to select 5 random rows from the users table\n",
    "%sql SELECT * FROM users ORDER BY random() LIMIT 5;"
   ]
  },
  {
   "cell_type": "code",
   "execution_count": 656,
   "metadata": {},
   "outputs": [],
   "source": [
    "# insert the query into the queries table\n",
    "sql = \"\"\"\n",
    "    SELECT * \n",
    "    FROM users \n",
    "    ORDER BY random() \n",
    "    LIMIT 5\n",
    "        \"\"\"\n",
    "store_query(\"Task 9\", \"select 5 random rows from users table\", sql)"
   ]
  },
  {
   "cell_type": "code",
   "execution_count": 657,
   "metadata": {},
   "outputs": [
    {
     "name": "stdout",
     "output_type": "stream",
     "text": [
      " * sqlite:///chatdata.db\n",
      "Done.\n"
     ]
    },
    {
     "data": {
      "text/html": [
       "<table>\n",
       "    <thead>\n",
       "        <tr>\n",
       "            <th>task</th>\n",
       "            <th>action</th>\n",
       "            <th>query</th>\n",
       "        </tr>\n",
       "    </thead>\n",
       "    <tbody>\n",
       "        <tr>\n",
       "            <td>Single Table Queries</td>\n",
       "            <td>Which 5 users have viewed the most times and what is the sum of those views per user?</td>\n",
       "            <td>SELECT * FROM queries</td>\n",
       "        </tr>\n",
       "        <tr>\n",
       "            <td>Task 1</td>\n",
       "            <td>Create table comments</td>\n",
       "            <td><br>    CREATE TABLE &quot;comments&quot; (<br>    &quot;Id&quot; INTEGER,<br>    &quot;PostId&quot; INTEGER,<br>    &quot;Score&quot; INTEGER,<br>    &quot;Text&quot; TEXT,<br>    &quot;CreationDate&quot; TEXT,<br>    &quot;UserId&quot; INTEGER<br>    )<br>    </td>\n",
       "        </tr>\n",
       "        <tr>\n",
       "            <td>Task 2</td>\n",
       "            <td>Create table post</td>\n",
       "            <td><br>    CREATE TABLE &quot;posts&quot; (<br>    &quot;Id&quot; INTEGER,<br>    &quot;PostTypeId&quot; INTEGER,<br>    &quot;AcceptedAnswerId&quot; INTEGER,<br>    &quot;ParentId&quot; INTEGER,<br>    &quot;CreationDate&quot; TEXT,<br>    &quot;Score&quot; INTEGER,<br>    &quot;ViewCount&quot; INTEGER,<br>    &quot;Body&quot; TEXT,<br>    &quot;OwnerUserId&quot; INTEGER,<br>    &quot;OwnerDisplayName&quot; TEXT,<br>    &quot;LastEditorUserId&quot; INTEGER,<br>    &quot;LastEditorDisplayName&quot; TEXT,<br>    &quot;LastEditDate&quot; TEXT,<br>    &quot;LastActivityDate&quot; TEXT,<br>    &quot;Title&quot; TEXT,<br>    &quot;Tags&quot; TEXT,<br>    &quot;AnswerCount&quot; INTEGER,<br>    &quot;CommentCount&quot; INTEGER,<br>    &quot;FavoriteCount&quot; INTEGER,<br>    &quot;ClosedDate&quot; TEXT,<br>    &quot;CommunityOwnedDate&quot; TEXT<br>    )<br>    </td>\n",
       "        </tr>\n",
       "        <tr>\n",
       "            <td>Task 3</td>\n",
       "            <td>Create table users</td>\n",
       "            <td><br>    CREATE TABLE &quot;users&quot; (<br>    &quot;Id&quot; INTEGER,<br>    &quot;Reputation&quot; INTEGER,<br>    &quot;CreationDate&quot; TEXT,<br>    &quot;DisplayName&quot; TEXT,<br>    &quot;LastAccessDate&quot; TEXT,<br>    &quot;WebsiteUrl&quot; TEXT,<br>    &quot;Location&quot; TEXT,<br>    &quot;AboutMe&quot; TEXT,<br>    &quot;Views&quot; INTEGER,<br>    &quot;UpVotes&quot; INTEGER,<br>    &quot;DownVotes&quot; INTEGER,<br>    &quot;ProfileImageUrl&quot; TEXT,<br>    &quot;AccountId&quot; INTEGER<br>    )<br>    </td>\n",
       "        </tr>\n",
       "        <tr>\n",
       "            <td>Task 4</td>\n",
       "            <td>Count the number of rows in the comments table</td>\n",
       "            <td><br>SELECT Count(*) AS NumberOfRows<br>    FROM comments<br>        </td>\n",
       "        </tr>\n",
       "        <tr>\n",
       "            <td>Task 5</td>\n",
       "            <td>Count the number of rows in the posts table</td>\n",
       "            <td><br>SELECT Count(*) AS NumberOfRows<br>    FROM posts<br>        </td>\n",
       "        </tr>\n",
       "        <tr>\n",
       "            <td>Task 6</td>\n",
       "            <td>Count the number of rows in the users table</td>\n",
       "            <td><br>SELECT Count(*) AS NumberOfRows<br>    FROM users<br>        </td>\n",
       "        </tr>\n",
       "        <tr>\n",
       "            <td>Task 7</td>\n",
       "            <td>select 5 random rows from posts table</td>\n",
       "            <td><br>    SELECT * <br>    FROM posts <br>    ORDER BY random() <br>    LIMIT 5<br>        </td>\n",
       "        </tr>\n",
       "        <tr>\n",
       "            <td>Task 8</td>\n",
       "            <td>select 5 random rows from comments table</td>\n",
       "            <td><br>    SELECT * <br>    FROM comments <br>    ORDER BY random() <br>    LIMIT 5<br>        </td>\n",
       "        </tr>\n",
       "        <tr>\n",
       "            <td>Task 9</td>\n",
       "            <td>select 5 random rows from users table</td>\n",
       "            <td><br>    SELECT * <br>    FROM users <br>    ORDER BY random() <br>    LIMIT 5<br>        </td>\n",
       "        </tr>\n",
       "    </tbody>\n",
       "</table>"
      ],
      "text/plain": [
       "[('Single Table Queries', 'Which 5 users have viewed the most times and what is the sum of those views per user?', 'SELECT * FROM queries'),\n",
       " ('Task 1', 'Create table comments', '\\n    CREATE TABLE \"comments\" (\\n    \"Id\" INTEGER,\\n    \"PostId\" INTEGER,\\n    \"Score\" INTEGER,\\n    \"Text\" TEXT,\\n    \"CreationDate\" TEXT,\\n    \"UserId\" INTEGER\\n    )\\n    '),\n",
       " ('Task 2', 'Create table post', '\\n    CREATE TABLE \"posts\" (\\n    \"Id\" INTEGER,\\n    \"PostTypeId\" INTEGER,\\n    \"AcceptedAnswerId\" INTEGER,\\n    \"ParentId\" INTEGER,\\n    \"CreationDa ... (300 characters truncated) ... \"AnswerCount\" INTEGER,\\n    \"CommentCount\" INTEGER,\\n    \"FavoriteCount\" INTEGER,\\n    \"ClosedDate\" TEXT,\\n    \"CommunityOwnedDate\" TEXT\\n    )\\n    '),\n",
       " ('Task 3', 'Create table users', '\\n    CREATE TABLE \"users\" (\\n    \"Id\" INTEGER,\\n    \"Reputation\" INTEGER,\\n    \"CreationDate\" TEXT,\\n    \"DisplayName\" TEXT,\\n    \"LastAccessDate\" T ... (61 characters truncated) ... tMe\" TEXT,\\n    \"Views\" INTEGER,\\n    \"UpVotes\" INTEGER,\\n    \"DownVotes\" INTEGER,\\n    \"ProfileImageUrl\" TEXT,\\n    \"AccountId\" INTEGER\\n    )\\n    '),\n",
       " ('Task 4', 'Count the number of rows in the comments table', '\\nSELECT Count(*) AS NumberOfRows\\n    FROM comments\\n        '),\n",
       " ('Task 5', 'Count the number of rows in the posts table', '\\nSELECT Count(*) AS NumberOfRows\\n    FROM posts\\n        '),\n",
       " ('Task 6', 'Count the number of rows in the users table', '\\nSELECT Count(*) AS NumberOfRows\\n    FROM users\\n        '),\n",
       " ('Task 7', 'select 5 random rows from posts table', '\\n    SELECT * \\n    FROM posts \\n    ORDER BY random() \\n    LIMIT 5\\n        '),\n",
       " ('Task 8', 'select 5 random rows from comments table', '\\n    SELECT * \\n    FROM comments \\n    ORDER BY random() \\n    LIMIT 5\\n        '),\n",
       " ('Task 9', 'select 5 random rows from users table', '\\n    SELECT * \\n    FROM users \\n    ORDER BY random() \\n    LIMIT 5\\n        ')]"
      ]
     },
     "execution_count": 657,
     "metadata": {},
     "output_type": "execute_result"
    }
   ],
   "source": [
    "%sql SELECT * FROM queries"
   ]
  },
  {
   "cell_type": "markdown",
   "metadata": {},
   "source": [
    "# Create Single Table Queries\n"
   ]
  },
  {
   "cell_type": "markdown",
   "metadata": {},
   "source": [
    "## Lifecycle Stage: Analyze\n",
    "We can now start the analysis with our single-table queries.  First we need to create a new computed column to help with one of the queries.  The code below creates a column called LEN_BODY which is the length of the BODY text:\n"
   ]
  },
  {
   "cell_type": "code",
   "execution_count": 658,
   "metadata": {},
   "outputs": [
    {
     "name": "stdout",
     "output_type": "stream",
     "text": [
      " * sqlite:///chatdata.db\n",
      "(sqlite3.OperationalError) duplicate column name: LEN_BODY\n",
      "[SQL: ALTER TABLE POSTS ADD COLUMN LEN_BODY INT]\n",
      "(Background on this error at: https://sqlalche.me/e/14/e3q8)\n"
     ]
    }
   ],
   "source": [
    "%%sql\n",
    "ALTER TABLE POSTS ADD COLUMN LEN_BODY INT"
   ]
  },
  {
   "cell_type": "code",
   "execution_count": 111,
   "metadata": {},
   "outputs": [
    {
     "name": "stdout",
     "output_type": "stream",
     "text": [
      " * sqlite:///chatdata.db\n",
      "42234 rows affected.\n"
     ]
    },
    {
     "data": {
      "text/plain": [
       "[]"
      ]
     },
     "execution_count": 111,
     "metadata": {},
     "output_type": "execute_result"
    }
   ],
   "source": [
    "%%sql\n",
    "UPDATE POSTS SET LEN_BODY = LENGTH(BODY)"
   ]
  },
  {
   "cell_type": "markdown",
   "metadata": {},
   "source": [
    "### Single Table Queries\n"
   ]
  },
  {
   "cell_type": "markdown",
   "metadata": {},
   "source": [
    "<div style=\"background-color:lemonchiffon; border:1px solid; padding:5px; margin:5px; font-weight:bold\"><font color=\"black\">\n",
    "How many posts have 0 comments?\n",
    "    </font></div>"
   ]
  },
  {
   "cell_type": "code",
   "execution_count": 666,
   "metadata": {},
   "outputs": [
    {
     "name": "stdout",
     "output_type": "stream",
     "text": [
      " * sqlite:///chatdata.db\n",
      "Done.\n"
     ]
    },
    {
     "data": {
      "text/html": [
       "<table>\n",
       "    <thead>\n",
       "        <tr>\n",
       "            <th>Number of Comments</th>\n",
       "        </tr>\n",
       "    </thead>\n",
       "    <tbody>\n",
       "        <tr>\n",
       "            <td>21713</td>\n",
       "        </tr>\n",
       "    </tbody>\n",
       "</table>"
      ],
      "text/plain": [
       "[(21713,)]"
      ]
     },
     "execution_count": 666,
     "metadata": {},
     "output_type": "execute_result"
    }
   ],
   "source": [
    "%%sql\n",
    "SELECT COUNT(*) \"Number of Comments\"\n",
    "FROM posts\n",
    "WHERE CommentCount = 0"
   ]
  },
  {
   "cell_type": "code",
   "execution_count": 667,
   "metadata": {},
   "outputs": [],
   "source": [
    "# insert the query into the queries table\n",
    "sql = \"\"\"\n",
    "    SELECT COUNT(*) \"Number of Comments\"\n",
    "    FROM posts\n",
    "    WHERE CommentCount = 0\n",
    "        \"\"\"\n",
    "store_query(\"Task 10\", \"How many posts have 0 comments?\", sql)"
   ]
  },
  {
   "cell_type": "markdown",
   "metadata": {},
   "source": [
    "<div style=\"background-color:lemonchiffon; border:1px solid; padding:5px; margin:5px; font-weight:bold\"><font color=\"black\">\n",
    "How many posts have 1 comments?\n",
    "    </font></div>"
   ]
  },
  {
   "cell_type": "code",
   "execution_count": 668,
   "metadata": {},
   "outputs": [
    {
     "name": "stdout",
     "output_type": "stream",
     "text": [
      " * sqlite:///chatdata.db\n",
      "Done.\n"
     ]
    },
    {
     "data": {
      "text/html": [
       "<table>\n",
       "    <thead>\n",
       "        <tr>\n",
       "            <th>Number of Comments</th>\n",
       "        </tr>\n",
       "    </thead>\n",
       "    <tbody>\n",
       "        <tr>\n",
       "            <td>6460</td>\n",
       "        </tr>\n",
       "    </tbody>\n",
       "</table>"
      ],
      "text/plain": [
       "[(6460,)]"
      ]
     },
     "execution_count": 668,
     "metadata": {},
     "output_type": "execute_result"
    }
   ],
   "source": [
    "%%sql\n",
    "SELECT COUNT(*) \"Number of Comments\"\n",
    "FROM posts\n",
    "WHERE CommentCount = 1"
   ]
  },
  {
   "cell_type": "code",
   "execution_count": 669,
   "metadata": {},
   "outputs": [],
   "source": [
    "# insert the query into the queries table\n",
    "sql = \"\"\"\n",
    "    SELECT COUNT(*) \"Number of Comments\"\n",
    "    FROM posts\n",
    "    WHERE CommentCount = 1\n",
    "        \"\"\"\n",
    "store_query(\"Task 11\", \"How many posts have 1 comments?\", sql)"
   ]
  },
  {
   "cell_type": "markdown",
   "metadata": {},
   "source": [
    "<div style=\"background-color:lemonchiffon; border:1px solid; padding:5px; margin:5px; font-weight:bold\"><font color=\"black\">\n",
    "How many posts have 2 comments or more?\n",
    "    </font></div>"
   ]
  },
  {
   "cell_type": "code",
   "execution_count": 670,
   "metadata": {},
   "outputs": [
    {
     "name": "stdout",
     "output_type": "stream",
     "text": [
      " * sqlite:///chatdata.db\n",
      "Done.\n"
     ]
    },
    {
     "data": {
      "text/html": [
       "<table>\n",
       "    <thead>\n",
       "        <tr>\n",
       "            <th>Number of Comments</th>\n",
       "        </tr>\n",
       "    </thead>\n",
       "    <tbody>\n",
       "        <tr>\n",
       "            <td>14061</td>\n",
       "        </tr>\n",
       "    </tbody>\n",
       "</table>"
      ],
      "text/plain": [
       "[(14061,)]"
      ]
     },
     "execution_count": 670,
     "metadata": {},
     "output_type": "execute_result"
    }
   ],
   "source": [
    "%%sql\n",
    "SELECT COUNT(*) \"Number of Comments\"\n",
    "FROM posts\n",
    "WHERE CommentCount >= 2"
   ]
  },
  {
   "cell_type": "code",
   "execution_count": 671,
   "metadata": {},
   "outputs": [],
   "source": [
    "# insert the query into the queries table\n",
    "sql = \"\"\"\n",
    "    SELECT COUNT(*) \"Number of Comments\"\n",
    "    FROM posts\n",
    "    WHERE CommentCount >= 2\n",
    "        \"\"\"\n",
    "store_query(\"Task 12\", \"How many posts have 2 comments or more?\", sql)"
   ]
  },
  {
   "cell_type": "markdown",
   "metadata": {},
   "source": [
    "<div style=\"background-color:lemonchiffon; border:1px solid; padding:5px; margin:5px; font-weight:bold\"><font color=\"black\">\n",
    "Find the 5 posts with the highest viewcount\n",
    "    </font></div>"
   ]
  },
  {
   "cell_type": "code",
   "execution_count": 672,
   "metadata": {},
   "outputs": [
    {
     "name": "stdout",
     "output_type": "stream",
     "text": [
      " * sqlite:///chatdata.db\n",
      "Done.\n"
     ]
    },
    {
     "data": {
      "text/html": [
       "<table>\n",
       "    <thead>\n",
       "        <tr>\n",
       "            <th>Post Id</th>\n",
       "            <th>Total Views</th>\n",
       "        </tr>\n",
       "    </thead>\n",
       "    <tbody>\n",
       "        <tr>\n",
       "            <td>388566</td>\n",
       "            <td>19542</td>\n",
       "        </tr>\n",
       "        <tr>\n",
       "            <td>394118</td>\n",
       "            <td>16317</td>\n",
       "        </tr>\n",
       "        <tr>\n",
       "            <td>431370</td>\n",
       "            <td>11723</td>\n",
       "        </tr>\n",
       "        <tr>\n",
       "            <td>398646</td>\n",
       "            <td>9850</td>\n",
       "        </tr>\n",
       "        <tr>\n",
       "            <td>434128</td>\n",
       "            <td>6718</td>\n",
       "        </tr>\n",
       "    </tbody>\n",
       "</table>"
      ],
      "text/plain": [
       "[(388566, 19542),\n",
       " (394118, 16317),\n",
       " (431370, 11723),\n",
       " (398646, 9850),\n",
       " (434128, 6718)]"
      ]
     },
     "execution_count": 672,
     "metadata": {},
     "output_type": "execute_result"
    }
   ],
   "source": [
    "%%sql \n",
    "SELECT Id \"Post Id\", SUM(ViewCount) \"Total Views\"\n",
    "FROM posts\n",
    "GROUP BY Id\n",
    "ORDER BY 2 DESC\n",
    "LIMIT 5"
   ]
  },
  {
   "cell_type": "code",
   "execution_count": 673,
   "metadata": {},
   "outputs": [],
   "source": [
    "# insert the query into the queries table\n",
    "sql = \"\"\"\n",
    "    SELECT Id \"Post Id\", SUM(ViewCount) \"Total Views\"\n",
    "    FROM posts\n",
    "    GROUP BY Id\n",
    "    ORDER BY 2 DESC\n",
    "    LIMIT 5\n",
    "        \"\"\"\n",
    "store_query(\"Task 13\", \"Find the 5 posts with the highest viewcount\", sql)"
   ]
  },
  {
   "cell_type": "markdown",
   "metadata": {},
   "source": [
    "<div style=\"background-color:lemonchiffon; border:1px solid; padding:5px; margin:5px; font-weight:bold\"><font color=\"black\">\n",
    "Find the top 5 posts with the highest scores\n",
    "    </font></div>"
   ]
  },
  {
   "cell_type": "code",
   "execution_count": 674,
   "metadata": {},
   "outputs": [
    {
     "name": "stdout",
     "output_type": "stream",
     "text": [
      " * sqlite:///chatdata.db\n",
      "Done.\n"
     ]
    },
    {
     "data": {
      "text/html": [
       "<table>\n",
       "    <thead>\n",
       "        <tr>\n",
       "            <th>Post Id</th>\n",
       "            <th>Total Score</th>\n",
       "        </tr>\n",
       "    </thead>\n",
       "    <tbody>\n",
       "        <tr>\n",
       "            <td>431397</td>\n",
       "            <td>101</td>\n",
       "        </tr>\n",
       "        <tr>\n",
       "            <td>394128</td>\n",
       "            <td>100</td>\n",
       "        </tr>\n",
       "        <tr>\n",
       "            <td>426878</td>\n",
       "            <td>93</td>\n",
       "        </tr>\n",
       "        <tr>\n",
       "            <td>388578</td>\n",
       "            <td>80</td>\n",
       "        </tr>\n",
       "        <tr>\n",
       "            <td>431370</td>\n",
       "            <td>77</td>\n",
       "        </tr>\n",
       "    </tbody>\n",
       "</table>"
      ],
      "text/plain": [
       "[(431397, 101), (394128, 100), (426878, 93), (388578, 80), (431370, 77)]"
      ]
     },
     "execution_count": 674,
     "metadata": {},
     "output_type": "execute_result"
    }
   ],
   "source": [
    "%%sql \n",
    "SELECT Id \"Post Id\", SUM(Score) \"Total Score\"\n",
    "FROM posts\n",
    "GROUP BY Id\n",
    "ORDER BY 2 DESC\n",
    "LIMIT 5"
   ]
  },
  {
   "cell_type": "code",
   "execution_count": 675,
   "metadata": {},
   "outputs": [],
   "source": [
    "# insert the query into the queries table\n",
    "sql = \"\"\"\n",
    "    SELECT Id \"Post Id\", SUM(Score) \"Total Score\"\n",
    "    FROM posts\n",
    "    GROUP BY Id\n",
    "    ORDER BY 2 DESC\n",
    "    LIMIT 5\n",
    "        \"\"\"\n",
    "store_query(\"Task 14\", \"Find the top 5 posts with the highest scores\", sql)"
   ]
  },
  {
   "cell_type": "markdown",
   "metadata": {},
   "source": [
    "<div style=\"background-color:lemonchiffon; border:1px solid; padding:5px; margin:5px; font-weight:bold\"><font color=\"black\">\n",
    "What are the 5 most frequent scores on posts? \n",
    "    </font></div>"
   ]
  },
  {
   "cell_type": "code",
   "execution_count": 677,
   "metadata": {},
   "outputs": [
    {
     "name": "stdout",
     "output_type": "stream",
     "text": [
      " * sqlite:///chatdata.db\n",
      "Done.\n"
     ]
    },
    {
     "data": {
      "text/html": [
       "<table>\n",
       "    <thead>\n",
       "        <tr>\n",
       "            <th>Score</th>\n",
       "            <th>Frequent Scores on Posts</th>\n",
       "        </tr>\n",
       "    </thead>\n",
       "    <tbody>\n",
       "        <tr>\n",
       "            <td>0</td>\n",
       "            <td>19888</td>\n",
       "        </tr>\n",
       "        <tr>\n",
       "            <td>1</td>\n",
       "            <td>11867</td>\n",
       "        </tr>\n",
       "        <tr>\n",
       "            <td>2</td>\n",
       "            <td>5094</td>\n",
       "        </tr>\n",
       "        <tr>\n",
       "            <td>3</td>\n",
       "            <td>2228</td>\n",
       "        </tr>\n",
       "        <tr>\n",
       "            <td>4</td>\n",
       "            <td>1059</td>\n",
       "        </tr>\n",
       "    </tbody>\n",
       "</table>"
      ],
      "text/plain": [
       "[(0, 19888), (1, 11867), (2, 5094), (3, 2228), (4, 1059)]"
      ]
     },
     "execution_count": 677,
     "metadata": {},
     "output_type": "execute_result"
    }
   ],
   "source": [
    "%%sql \n",
    "SELECT Score, COUNT(Score) \"Frequent Scores on Posts\"\n",
    "FROM posts\n",
    "GROUP BY Score\n",
    "ORDER BY 2 DESC\n",
    "LIMIT 5"
   ]
  },
  {
   "cell_type": "code",
   "execution_count": 678,
   "metadata": {},
   "outputs": [],
   "source": [
    "# insert the query into the queries table\n",
    "sql = \"\"\"\n",
    "    SELECT Score, COUNT(Score) \"Frequent Scores on Posts\"\n",
    "    FROM posts\n",
    "    GROUP BY Score\n",
    "    ORDER BY 2 DESC\n",
    "    LIMIT 5\n",
    "        \"\"\"\n",
    "store_query(\"Task 15\", \"What are the 5 most frequent scores on posts?\", sql)"
   ]
  },
  {
   "cell_type": "markdown",
   "metadata": {},
   "source": [
    "<div style=\"background-color:lemonchiffon; border:1px solid; padding:5px; margin:5px; font-weight:bold\"><font color=\"black\">\n",
    "How many posts have the keyword \"data\" in their tags?\n",
    "    </font></div>"
   ]
  },
  {
   "cell_type": "code",
   "execution_count": 679,
   "metadata": {
    "scrolled": false
   },
   "outputs": [
    {
     "name": "stdout",
     "output_type": "stream",
     "text": [
      " * sqlite:///chatdata.db\n",
      "Done.\n"
     ]
    },
    {
     "data": {
      "text/html": [
       "<table>\n",
       "    <thead>\n",
       "        <tr>\n",
       "            <th>Number of Posts</th>\n",
       "        </tr>\n",
       "    </thead>\n",
       "    <tbody>\n",
       "        <tr>\n",
       "            <td>2242</td>\n",
       "        </tr>\n",
       "    </tbody>\n",
       "</table>"
      ],
      "text/plain": [
       "[(2242,)]"
      ]
     },
     "execution_count": 679,
     "metadata": {},
     "output_type": "execute_result"
    }
   ],
   "source": [
    "%%sql\n",
    "SELECT Count(*) \"Number of Posts\"\n",
    "FROM posts\n",
    "WHERE Tags LIKE '%data%' "
   ]
  },
  {
   "cell_type": "code",
   "execution_count": 680,
   "metadata": {},
   "outputs": [],
   "source": [
    "# insert the query into the queries table\n",
    "sql = \"\"\"\n",
    "    SELECT Count(*) \"Number of Posts\"\n",
    "    FROM posts\n",
    "    WHERE Tags LIKE '%data%' \n",
    "        \"\"\"\n",
    "store_query(\"Task 16\", \"How many posts have the keyword data in their tags?\", sql)"
   ]
  },
  {
   "cell_type": "markdown",
   "metadata": {},
   "source": [
    "<div style=\"background-color:lemonchiffon; border:1px solid; padding:5px; margin:5px; font-weight:bold\"><font color=\"black\">\n",
    "What are the 5 most frequent commentcount for posts? REVIEW\n",
    "    </font></div>"
   ]
  },
  {
   "cell_type": "code",
   "execution_count": 681,
   "metadata": {},
   "outputs": [
    {
     "name": "stdout",
     "output_type": "stream",
     "text": [
      " * sqlite:///chatdata.db\n",
      "Done.\n"
     ]
    },
    {
     "data": {
      "text/html": [
       "<table>\n",
       "    <thead>\n",
       "        <tr>\n",
       "            <th>CommentCount</th>\n",
       "            <th>Frequent Comment Count</th>\n",
       "        </tr>\n",
       "    </thead>\n",
       "    <tbody>\n",
       "        <tr>\n",
       "            <td>0</td>\n",
       "            <td>21713</td>\n",
       "        </tr>\n",
       "        <tr>\n",
       "            <td>1</td>\n",
       "            <td>6460</td>\n",
       "        </tr>\n",
       "        <tr>\n",
       "            <td>2</td>\n",
       "            <td>4966</td>\n",
       "        </tr>\n",
       "        <tr>\n",
       "            <td>3</td>\n",
       "            <td>3063</td>\n",
       "        </tr>\n",
       "        <tr>\n",
       "            <td>4</td>\n",
       "            <td>2026</td>\n",
       "        </tr>\n",
       "    </tbody>\n",
       "</table>"
      ],
      "text/plain": [
       "[(0, 21713), (1, 6460), (2, 4966), (3, 3063), (4, 2026)]"
      ]
     },
     "execution_count": 681,
     "metadata": {},
     "output_type": "execute_result"
    }
   ],
   "source": [
    "%%sql \n",
    "SELECT CommentCount, COUNT(CommentCount) \"Frequent Comment Count\"\n",
    "FROM posts\n",
    "GROUP BY CommentCount\n",
    "ORDER BY 2 DESC\n",
    "LIMIT 5"
   ]
  },
  {
   "cell_type": "code",
   "execution_count": 682,
   "metadata": {},
   "outputs": [],
   "source": [
    "# insert the query into the queries table\n",
    "sql = \"\"\"\n",
    "    SELECT CommentCount, COUNT(CommentCount) \"Frequent Comment Count\"\n",
    "    FROM posts\n",
    "    GROUP BY CommentCount\n",
    "    ORDER BY 2 DESC\n",
    "    LIMIT 5\n",
    "        \"\"\"\n",
    "store_query(\"Task 17\", \"What are the 5 most frequent commentcount for posts?\", sql)"
   ]
  },
  {
   "cell_type": "markdown",
   "metadata": {},
   "source": [
    "<div style=\"background-color:lemonchiffon; border:1px solid; padding:5px; margin:5px; font-weight:bold\"><font color=\"black\">\n",
    "How many posts have an accepted answer?\n",
    "    </font></div>"
   ]
  },
  {
   "cell_type": "code",
   "execution_count": 683,
   "metadata": {},
   "outputs": [
    {
     "name": "stdout",
     "output_type": "stream",
     "text": [
      " * sqlite:///chatdata.db\n",
      "Done.\n"
     ]
    },
    {
     "data": {
      "text/html": [
       "<table>\n",
       "    <thead>\n",
       "        <tr>\n",
       "            <th>Number of accepted answer</th>\n",
       "        </tr>\n",
       "    </thead>\n",
       "    <tbody>\n",
       "        <tr>\n",
       "            <td>5341</td>\n",
       "        </tr>\n",
       "    </tbody>\n",
       "</table>"
      ],
      "text/plain": [
       "[(5341,)]"
      ]
     },
     "execution_count": 683,
     "metadata": {},
     "output_type": "execute_result"
    }
   ],
   "source": [
    "%%sql \n",
    "SELECT COUNT(*) \"Number of accepted answer\"\n",
    "FROM posts\n",
    "WHERE AcceptedAnswerId <> 0 "
   ]
  },
  {
   "cell_type": "code",
   "execution_count": 684,
   "metadata": {},
   "outputs": [],
   "source": [
    "# insert the query into the queries table\n",
    "sql = \"\"\"\n",
    "    SELECT COUNT(*) \"Number of accepted answer\"\n",
    "    FROM posts\n",
    "    WHERE AcceptedAnswerId <> 0\n",
    "        \"\"\"\n",
    "store_query(\"Task 18\", \"How many posts have an accepted answer?\", sql)"
   ]
  },
  {
   "cell_type": "markdown",
   "metadata": {},
   "source": [
    "<div style=\"background-color:lemonchiffon; border:1px solid; padding:5px; margin:5px; font-weight:bold\"><font color=\"black\">\n",
    "What is the average reputation of table users?\n",
    "    </font></div>"
   ]
  },
  {
   "cell_type": "code",
   "execution_count": 685,
   "metadata": {},
   "outputs": [
    {
     "name": "stdout",
     "output_type": "stream",
     "text": [
      " * sqlite:///chatdata.db\n",
      "Done.\n"
     ]
    },
    {
     "data": {
      "text/html": [
       "<table>\n",
       "    <thead>\n",
       "        <tr>\n",
       "            <th>User Reputation AVG</th>\n",
       "        </tr>\n",
       "    </thead>\n",
       "    <tbody>\n",
       "        <tr>\n",
       "            <td>312.35</td>\n",
       "        </tr>\n",
       "    </tbody>\n",
       "</table>"
      ],
      "text/plain": [
       "[(312.35,)]"
      ]
     },
     "execution_count": 685,
     "metadata": {},
     "output_type": "execute_result"
    }
   ],
   "source": [
    "%%sql\n",
    "SELECT ROUND(AVG(Reputation),2) \"User Reputation AVG\"\n",
    "FROM users"
   ]
  },
  {
   "cell_type": "code",
   "execution_count": 686,
   "metadata": {},
   "outputs": [],
   "source": [
    "# insert the query into the queries table\n",
    "sql = \"\"\"\n",
    "    SELECT ROUND(AVG(Reputation),2) \"User Reputation AVG\"\n",
    "    FROM users\n",
    "        \"\"\"\n",
    "store_query(\"Task 19\", \"What is the average reputation of table users?\", sql)"
   ]
  },
  {
   "cell_type": "markdown",
   "metadata": {},
   "source": [
    "<div style=\"background-color:lemonchiffon; border:1px solid; padding:5px; margin:5px; font-weight:bold\"><font color=\"black\">\n",
    "What are the min and max reputation of users?\n",
    "    </font></div>"
   ]
  },
  {
   "cell_type": "code",
   "execution_count": 687,
   "metadata": {},
   "outputs": [
    {
     "name": "stdout",
     "output_type": "stream",
     "text": [
      " * sqlite:///chatdata.db\n",
      "Done.\n"
     ]
    },
    {
     "data": {
      "text/html": [
       "<table>\n",
       "    <thead>\n",
       "        <tr>\n",
       "            <th>Min Reputation</th>\n",
       "            <th>Max Reputation</th>\n",
       "        </tr>\n",
       "    </thead>\n",
       "    <tbody>\n",
       "        <tr>\n",
       "            <td>1</td>\n",
       "            <td>228662</td>\n",
       "        </tr>\n",
       "    </tbody>\n",
       "</table>"
      ],
      "text/plain": [
       "[(1, 228662)]"
      ]
     },
     "execution_count": 687,
     "metadata": {},
     "output_type": "execute_result"
    }
   ],
   "source": [
    "%%sql\n",
    "SELECT MIN(Reputation) \"Min Reputation\", MAX(Reputation) \"Max Reputation\"\n",
    "FROM users"
   ]
  },
  {
   "cell_type": "code",
   "execution_count": 688,
   "metadata": {},
   "outputs": [],
   "source": [
    "# insert the query into the queries table\n",
    "sql = \"\"\"\n",
    "    SELECT MIN(Reputation) \"Min Reputation\", MAX(Reputation) \"Max Reputation\"\n",
    "    FROM users\n",
    "        \"\"\"\n",
    "store_query(\"Task 20\", \"What are the min and max reputation of users?\", sql)"
   ]
  },
  {
   "cell_type": "markdown",
   "metadata": {},
   "source": [
    "<div style=\"background-color:lemonchiffon; border:1px solid; padding:5px; margin:5px; font-weight:bold\"><font color=\"black\">\n",
    "What is the length of the body of 5 most viewed posts?\n",
    "    </font></div>"
   ]
  },
  {
   "cell_type": "code",
   "execution_count": 689,
   "metadata": {},
   "outputs": [
    {
     "name": "stdout",
     "output_type": "stream",
     "text": [
      " * sqlite:///chatdata.db\n",
      "Done.\n"
     ]
    },
    {
     "data": {
      "text/html": [
       "<table>\n",
       "    <thead>\n",
       "        <tr>\n",
       "            <th>Post Id</th>\n",
       "            <th>Total Views</th>\n",
       "            <th>Length</th>\n",
       "        </tr>\n",
       "    </thead>\n",
       "    <tbody>\n",
       "        <tr>\n",
       "            <td>388566</td>\n",
       "            <td>19542</td>\n",
       "            <td>2270</td>\n",
       "        </tr>\n",
       "        <tr>\n",
       "            <td>394118</td>\n",
       "            <td>16317</td>\n",
       "            <td>512</td>\n",
       "        </tr>\n",
       "        <tr>\n",
       "            <td>431370</td>\n",
       "            <td>11723</td>\n",
       "            <td>811</td>\n",
       "        </tr>\n",
       "        <tr>\n",
       "            <td>398646</td>\n",
       "            <td>9850</td>\n",
       "            <td>2148</td>\n",
       "        </tr>\n",
       "        <tr>\n",
       "            <td>434128</td>\n",
       "            <td>6718</td>\n",
       "            <td>1172</td>\n",
       "        </tr>\n",
       "    </tbody>\n",
       "</table>"
      ],
      "text/plain": [
       "[(388566, 19542, 2270),\n",
       " (394118, 16317, 512),\n",
       " (431370, 11723, 811),\n",
       " (398646, 9850, 2148),\n",
       " (434128, 6718, 1172)]"
      ]
     },
     "execution_count": 689,
     "metadata": {},
     "output_type": "execute_result"
    }
   ],
   "source": [
    "%%sql \n",
    "SELECT Id \"Post Id\", SUM(ViewCount) \"Total Views\", LEN_BODY \"Length\"\n",
    "FROM posts\n",
    "GROUP BY Id\n",
    "ORDER BY 2 DESC\n",
    "LIMIT 5"
   ]
  },
  {
   "cell_type": "code",
   "execution_count": 690,
   "metadata": {},
   "outputs": [],
   "source": [
    "# insert the query into the queries table\n",
    "sql = \"\"\"\n",
    "    SELECT Id \"Post Id\", SUM(ViewCount) \"Total Views\", LEN_BODY \"Length\"\n",
    "    FROM posts\n",
    "    GROUP BY Id\n",
    "    ORDER BY 2 DESC\n",
    "    LIMIT 5\n",
    "        \"\"\"\n",
    "store_query(\"Task 21\", \"What is the length of the body of 5 most viewed posts?\", sql)"
   ]
  },
  {
   "cell_type": "markdown",
   "metadata": {},
   "source": [
    "<div style=\"background-color:lemonchiffon; border:1px solid; padding:5px; margin:5px; font-weight:bold\"><font color=\"black\">\n",
    "How many different locations are there in the users table?\n",
    "    </font></div>"
   ]
  },
  {
   "cell_type": "code",
   "execution_count": 691,
   "metadata": {},
   "outputs": [
    {
     "name": "stdout",
     "output_type": "stream",
     "text": [
      " * sqlite:///chatdata.db\n",
      "Done.\n"
     ]
    },
    {
     "data": {
      "text/html": [
       "<table>\n",
       "    <thead>\n",
       "        <tr>\n",
       "            <th>Different Locations</th>\n",
       "        </tr>\n",
       "    </thead>\n",
       "    <tbody>\n",
       "        <tr>\n",
       "            <td>1900</td>\n",
       "        </tr>\n",
       "    </tbody>\n",
       "</table>"
      ],
      "text/plain": [
       "[(1900,)]"
      ]
     },
     "execution_count": 691,
     "metadata": {},
     "output_type": "execute_result"
    }
   ],
   "source": [
    "%%sql\n",
    "SELECT COUNT(DISTINCT(Location)) \"Different Locations\"\n",
    "FROM users "
   ]
  },
  {
   "cell_type": "code",
   "execution_count": 692,
   "metadata": {},
   "outputs": [],
   "source": [
    "# insert the query into the queries table\n",
    "sql = \"\"\"\n",
    "    SELECT COUNT(DISTINCT(Location)) \"Different Locations\"\n",
    "    FROM users  \n",
    "        \"\"\"\n",
    "store_query(\"Task 22\", \"How many different locations are there in the users table?\", sql)"
   ]
  },
  {
   "cell_type": "markdown",
   "metadata": {},
   "source": [
    "<div style=\"background-color:lemonchiffon; border:1px solid; padding:5px; margin:5px; font-weight:bold\"><font color=\"black\">\n",
    "What are the top 5 locations of users?\n",
    "    </font></div>"
   ]
  },
  {
   "cell_type": "code",
   "execution_count": 694,
   "metadata": {},
   "outputs": [
    {
     "name": "stdout",
     "output_type": "stream",
     "text": [
      " * sqlite:///chatdata.db\n",
      "Done.\n"
     ]
    },
    {
     "data": {
      "text/html": [
       "<table>\n",
       "    <thead>\n",
       "        <tr>\n",
       "            <th>Location</th>\n",
       "            <th>Users</th>\n",
       "        </tr>\n",
       "    </thead>\n",
       "    <tbody>\n",
       "        <tr>\n",
       "            <td>Germany</td>\n",
       "            <td>117</td>\n",
       "        </tr>\n",
       "        <tr>\n",
       "            <td>India</td>\n",
       "            <td>100</td>\n",
       "        </tr>\n",
       "        <tr>\n",
       "            <td>United States</td>\n",
       "            <td>69</td>\n",
       "        </tr>\n",
       "        <tr>\n",
       "            <td>Paris, France</td>\n",
       "            <td>66</td>\n",
       "        </tr>\n",
       "        <tr>\n",
       "            <td>London, United Kingdom</td>\n",
       "            <td>63</td>\n",
       "        </tr>\n",
       "    </tbody>\n",
       "</table>"
      ],
      "text/plain": [
       "[('Germany', 117),\n",
       " ('India', 100),\n",
       " ('United States', 69),\n",
       " ('Paris, France', 66),\n",
       " ('London, United Kingdom', 63)]"
      ]
     },
     "execution_count": 694,
     "metadata": {},
     "output_type": "execute_result"
    }
   ],
   "source": [
    "%%sql \n",
    "SELECT Location, COUNT(Location) \"Users\"\n",
    "FROM users\n",
    "GROUP BY Location\n",
    "ORDER BY 2 DESC\n",
    "LIMIT 5"
   ]
  },
  {
   "cell_type": "code",
   "execution_count": 695,
   "metadata": {},
   "outputs": [],
   "source": [
    "# insert the query into the queries table\n",
    "sql = \"\"\"\n",
    "    SELECT Location, COUNT(Location) \"Users\"\n",
    "    FROM users\n",
    "    GROUP BY Location\n",
    "    ORDER BY 2 DESC\n",
    "    LIMIT 5\n",
    "        \"\"\"\n",
    "store_query(\"Task 23\", \"What are the top 5 locations of users?\", sql)"
   ]
  },
  {
   "cell_type": "markdown",
   "metadata": {},
   "source": [
    "<div style=\"background-color:lemonchiffon; border:1px solid; padding:5px; margin:5px; font-weight:bold\"><font color=\"black\">\n",
    "Rank the days of the week from highest to lowest in terms of the volume of ViewCount as a percentage. \n",
    "    </font></div>"
   ]
  },
  {
   "cell_type": "code",
   "execution_count": 700,
   "metadata": {},
   "outputs": [
    {
     "name": "stdout",
     "output_type": "stream",
     "text": [
      " * sqlite:///chatdata.db\n",
      "Done.\n"
     ]
    },
    {
     "data": {
      "text/html": [
       "<table>\n",
       "    <thead>\n",
       "        <tr>\n",
       "            <th>Day</th>\n",
       "            <th>SumViewCountPercent</th>\n",
       "        </tr>\n",
       "    </thead>\n",
       "    <tbody>\n",
       "        <tr>\n",
       "            <td>Thursday</td>\n",
       "            <td>16.82</td>\n",
       "        </tr>\n",
       "        <tr>\n",
       "            <td>Wednesday</td>\n",
       "            <td>16.77</td>\n",
       "        </tr>\n",
       "        <tr>\n",
       "            <td>Tuesday</td>\n",
       "            <td>16.26</td>\n",
       "        </tr>\n",
       "        <tr>\n",
       "            <td>Monday</td>\n",
       "            <td>15.81</td>\n",
       "        </tr>\n",
       "        <tr>\n",
       "            <td>Friday</td>\n",
       "            <td>13.56</td>\n",
       "        </tr>\n",
       "        <tr>\n",
       "            <td>Sunday</td>\n",
       "            <td>11.9</td>\n",
       "        </tr>\n",
       "        <tr>\n",
       "            <td>Saturday</td>\n",
       "            <td>8.89</td>\n",
       "        </tr>\n",
       "    </tbody>\n",
       "</table>"
      ],
      "text/plain": [
       "[('Thursday', 16.82),\n",
       " ('Wednesday', 16.77),\n",
       " ('Tuesday', 16.26),\n",
       " ('Monday', 15.81),\n",
       " ('Friday', 13.56),\n",
       " ('Sunday', 11.9),\n",
       " ('Saturday', 8.89)]"
      ]
     },
     "execution_count": 700,
     "metadata": {},
     "output_type": "execute_result"
    }
   ],
   "source": [
    "%%sql\n",
    "  select case cast (strftime('%w', CreationDate) as integer)\n",
    "  when 0 then 'Sunday'\n",
    "  when 1 then 'Monday'\n",
    "  when 2 then 'Tuesday'\n",
    "  when 3 then 'Wednesday'\n",
    "  when 4 then 'Thursday'\n",
    "  when 5 then 'Friday'\n",
    "  else 'Saturday' end as Day, ROUND(SUM(ViewCount)*100.0/(select SUM(ViewCount) from posts),2) as SumViewCountPercent\n",
    "    FROM posts  \n",
    "    GROUP BY Day\n",
    "    ORDER BY 2 DESC"
   ]
  },
  {
   "cell_type": "code",
   "execution_count": 701,
   "metadata": {},
   "outputs": [],
   "source": [
    "# insert the query into the queries table\n",
    "sql = \"\"\"\n",
    "  select case cast (strftime('%w', CreationDate) as integer)\n",
    "  when 0 then 'Sunday'\n",
    "  when 1 then 'Monday'\n",
    "  when 2 then 'Tuesday'\n",
    "  when 3 then 'Wednesday'\n",
    "  when 4 then 'Thursday'\n",
    "  when 5 then 'Friday'\n",
    "  else 'Saturday' end as Day, ROUND(SUM(ViewCount)*100.0/(select SUM(ViewCount) from posts),2) as SumViewCountPercent\n",
    "    FROM posts  \n",
    "    GROUP BY Day\n",
    "    ORDER BY 2 DESC\n",
    "        \"\"\"\n",
    "store_query(\"Task 24\", \"Rank the days of the week from highest to lowest in terms of the volume of ViewCount as a percentage.\", sql)"
   ]
  },
  {
   "cell_type": "markdown",
   "metadata": {},
   "source": [
    "# 3: Cross Table Queries"
   ]
  },
  {
   "cell_type": "markdown",
   "metadata": {},
   "source": [
    "## Lifecycle Stage: Analyze\n",
    "Let's continue the analysis with our multi-table queries.  "
   ]
  },
  {
   "cell_type": "markdown",
   "metadata": {},
   "source": [
    "### Cross Table Queries\n",
    "\n",
    "\n",
    "\n"
   ]
  },
  {
   "cell_type": "markdown",
   "metadata": {},
   "source": [
    "<div style=\"background-color:lemonchiffon; border:1px solid; padding:5px; margin:5px; font-weight:bold\"><font color=\"black\">\n",
    "How many posts have been created by a user that has a filled out the \"AboutMe\" section? \n",
    "    </font></div>"
   ]
  },
  {
   "cell_type": "code",
   "execution_count": 702,
   "metadata": {},
   "outputs": [
    {
     "name": "stdout",
     "output_type": "stream",
     "text": [
      " * sqlite:///chatdata.db\n",
      "Done.\n"
     ]
    },
    {
     "data": {
      "text/html": [
       "<table>\n",
       "    <thead>\n",
       "        <tr>\n",
       "            <th>Posts</th>\n",
       "        </tr>\n",
       "    </thead>\n",
       "    <tbody>\n",
       "        <tr>\n",
       "            <td>17189</td>\n",
       "        </tr>\n",
       "    </tbody>\n",
       "</table>"
      ],
      "text/plain": [
       "[(17189,)]"
      ]
     },
     "execution_count": 702,
     "metadata": {},
     "output_type": "execute_result"
    }
   ],
   "source": [
    "%%sql\n",
    "SELECT COUNT(*) \"Posts\"\n",
    "    FROM users u INNER JOIN posts p ON u.Id = p.OwnerUserId\n",
    "    WHERE u.AboutMe <> '';"
   ]
  },
  {
   "cell_type": "code",
   "execution_count": 703,
   "metadata": {},
   "outputs": [],
   "source": [
    "# insert the query into the queries table\n",
    "sql = \"\"\"\n",
    "    SELECT COUNT(*) \"Posts\"\n",
    "    FROM users u INNER JOIN posts p ON u.Id = p.OwnerUserId\n",
    "    WHERE u.AboutMe <> '';\n",
    "        \"\"\"\n",
    "store_query(\"Task 25\", \"How many posts have been created by a user that has a filled out the AboutMe section?\", sql)"
   ]
  },
  {
   "cell_type": "markdown",
   "metadata": {},
   "source": [
    "<div style=\"background-color:lemonchiffon; border:1px solid; padding:5px; margin:5px; font-weight:bold\"><font color=\"black\">\n",
    "Considering only the users with an \"AboutMe,\" how many posts are there per user? count all divide by subquery\n",
    "    </font></div>"
   ]
  },
  {
   "cell_type": "code",
   "execution_count": 704,
   "metadata": {},
   "outputs": [
    {
     "name": "stdout",
     "output_type": "stream",
     "text": [
      " * sqlite:///chatdata.db\n",
      "Done.\n"
     ]
    },
    {
     "data": {
      "text/html": [
       "<table>\n",
       "    <thead>\n",
       "        <tr>\n",
       "            <th>Post per Users</th>\n",
       "        </tr>\n",
       "    </thead>\n",
       "    <tbody>\n",
       "        <tr>\n",
       "            <td>4.27</td>\n",
       "        </tr>\n",
       "    </tbody>\n",
       "</table>"
      ],
      "text/plain": [
       "[(4.27,)]"
      ]
     },
     "execution_count": 704,
     "metadata": {},
     "output_type": "execute_result"
    }
   ],
   "source": [
    "%%sql\n",
    "WITH \n",
    "T1 AS (SELECT COUNT(*) AS Posts FROM users u INNER JOIN posts p ON u.Id = p.OwnerUserId WHERE u.AboutMe !=''),\n",
    "T2 AS (SELECT CAST(COUNT(*) AS FLOAT) AS Users FROM users WHERE AboutMe !='') \n",
    "\n",
    "SELECT ROUND(CAST(T1.Posts/T2.Users AS FLOAT),2) \"Post per Users\"\n",
    "FROM T1, T2"
   ]
  },
  {
   "cell_type": "code",
   "execution_count": 699,
   "metadata": {},
   "outputs": [
    {
     "name": "stdout",
     "output_type": "stream",
     "text": [
      " * sqlite:///chatdata.db\n",
      "Done.\n"
     ]
    },
    {
     "data": {
      "text/html": [
       "<table>\n",
       "    <thead>\n",
       "        <tr>\n",
       "            <th>posts_per_user</th>\n",
       "        </tr>\n",
       "    </thead>\n",
       "    <tbody>\n",
       "        <tr>\n",
       "            <td>4.27</td>\n",
       "        </tr>\n",
       "    </tbody>\n",
       "</table>"
      ],
      "text/plain": [
       "[(4.27,)]"
      ]
     },
     "execution_count": 699,
     "metadata": {},
     "output_type": "execute_result"
    }
   ],
   "source": [
    "%%sql\n",
    "SELECT ROUND(COUNT(*)/(SELECT CAST(COUNT(*) AS FLOAT) FROM USERS WHERE ABOUTME !=''),2) AS posts_per_user\n",
    "    FROM USERS U\n",
    "    JOIN POSTS P ON U.ID = P.OWNERUSERID  \n",
    "    WHERE U.ABOUTME !=''"
   ]
  },
  {
   "cell_type": "code",
   "execution_count": 705,
   "metadata": {},
   "outputs": [],
   "source": [
    "# insert the query into the queries table\n",
    "sql = \"\"\"\n",
    "    SELECT ROUND(COUNT(*)/(SELECT CAST(COUNT(*) AS FLOAT) FROM USERS WHERE ABOUTME !=''),2) AS posts_per_user\n",
    "    FROM USERS U\n",
    "    JOIN POSTS P ON U.ID = P.OWNERUSERID  \n",
    "    WHERE U.ABOUTME !=''\n",
    "        \"\"\"\n",
    "store_query(\"Task 26\", \"Considering only the users with an AboutMe, how many posts are there per user?\", sql)"
   ]
  },
  {
   "cell_type": "markdown",
   "metadata": {},
   "source": [
    "<div style=\"background-color:lemonchiffon; border:1px solid; padding:5px; margin:5px; font-weight:bold\"><font color=\"black\">\n",
    "Not taking into account the commentcount field in the table posts, what are the Top 10 posts in terms of number of comments?\n",
    "    </font></div>"
   ]
  },
  {
   "cell_type": "code",
   "execution_count": 706,
   "metadata": {},
   "outputs": [
    {
     "name": "stdout",
     "output_type": "stream",
     "text": [
      " * sqlite:///chatdata.db\n",
      "Done.\n"
     ]
    },
    {
     "data": {
      "text/html": [
       "<table>\n",
       "    <thead>\n",
       "        <tr>\n",
       "            <th>Id</th>\n",
       "            <th>Comments</th>\n",
       "        </tr>\n",
       "    </thead>\n",
       "    <tbody>\n",
       "        <tr>\n",
       "            <td>386853</td>\n",
       "            <td>66</td>\n",
       "        </tr>\n",
       "        <tr>\n",
       "            <td>386556</td>\n",
       "            <td>34</td>\n",
       "        </tr>\n",
       "        <tr>\n",
       "            <td>418910</td>\n",
       "            <td>31</td>\n",
       "        </tr>\n",
       "        <tr>\n",
       "            <td>395232</td>\n",
       "            <td>31</td>\n",
       "        </tr>\n",
       "        <tr>\n",
       "            <td>402987</td>\n",
       "            <td>27</td>\n",
       "        </tr>\n",
       "        <tr>\n",
       "            <td>386075</td>\n",
       "            <td>26</td>\n",
       "        </tr>\n",
       "        <tr>\n",
       "            <td>394118</td>\n",
       "            <td>24</td>\n",
       "        </tr>\n",
       "        <tr>\n",
       "            <td>402950</td>\n",
       "            <td>23</td>\n",
       "        </tr>\n",
       "        <tr>\n",
       "            <td>398828</td>\n",
       "            <td>23</td>\n",
       "        </tr>\n",
       "        <tr>\n",
       "            <td>396111</td>\n",
       "            <td>22</td>\n",
       "        </tr>\n",
       "    </tbody>\n",
       "</table>"
      ],
      "text/plain": [
       "[(386853, 66),\n",
       " (386556, 34),\n",
       " (418910, 31),\n",
       " (395232, 31),\n",
       " (402987, 27),\n",
       " (386075, 26),\n",
       " (394118, 24),\n",
       " (402950, 23),\n",
       " (398828, 23),\n",
       " (396111, 22)]"
      ]
     },
     "execution_count": 706,
     "metadata": {},
     "output_type": "execute_result"
    }
   ],
   "source": [
    "%%sql\n",
    "SELECT p.Id, COUNT(*) \"Comments\"\n",
    "FROM posts p INNER JOIN comments c ON p.Id = c.PostId\n",
    "GROUP BY p.Id\n",
    "ORDER BY 2 DESC\n",
    "LIMIT 10"
   ]
  },
  {
   "cell_type": "code",
   "execution_count": 707,
   "metadata": {},
   "outputs": [],
   "source": [
    "# insert the query into the queries table\n",
    "sql = \"\"\"\n",
    "    SELECT p.Id, COUNT(*) \"Comments\"\n",
    "    FROM posts p INNER JOIN comments c ON p.Id = c.PostId\n",
    "    GROUP BY p.Id\n",
    "    ORDER BY 2 DESC\n",
    "    LIMIT 10\n",
    "        \"\"\"\n",
    "store_query(\"Task 27\", \"Not taking into account the commentcount field in the table posts, what are the Top 10 posts in terms of number of comments?\", sql)"
   ]
  },
  {
   "cell_type": "markdown",
   "metadata": {},
   "source": [
    "<div style=\"background-color:lemonchiffon; border:1px solid; padding:5px; margin:5px; font-weight:bold\"><font color=\"black\">\n",
    "What are the Top 10 posts which have the highest cummulative (post score + comment score) score? \n",
    "    </font></div>"
   ]
  },
  {
   "cell_type": "code",
   "execution_count": 708,
   "metadata": {},
   "outputs": [
    {
     "name": "stdout",
     "output_type": "stream",
     "text": [
      " * sqlite:///chatdata.db\n",
      "Done.\n"
     ]
    },
    {
     "data": {
      "text/html": [
       "<table>\n",
       "    <thead>\n",
       "        <tr>\n",
       "            <th>Id</th>\n",
       "            <th>p.Score + SUM(c.Score)</th>\n",
       "        </tr>\n",
       "    </thead>\n",
       "    <tbody>\n",
       "        <tr>\n",
       "            <td>394118</td>\n",
       "            <td>306</td>\n",
       "        </tr>\n",
       "        <tr>\n",
       "            <td>394128</td>\n",
       "            <td>169</td>\n",
       "        </tr>\n",
       "        <tr>\n",
       "            <td>388578</td>\n",
       "            <td>141</td>\n",
       "        </tr>\n",
       "        <tr>\n",
       "            <td>398653</td>\n",
       "            <td>111</td>\n",
       "        </tr>\n",
       "        <tr>\n",
       "            <td>388566</td>\n",
       "            <td>101</td>\n",
       "        </tr>\n",
       "        <tr>\n",
       "            <td>398646</td>\n",
       "            <td>99</td>\n",
       "        </tr>\n",
       "        <tr>\n",
       "            <td>421677</td>\n",
       "            <td>96</td>\n",
       "        </tr>\n",
       "        <tr>\n",
       "            <td>420526</td>\n",
       "            <td>92</td>\n",
       "        </tr>\n",
       "        <tr>\n",
       "            <td>400317</td>\n",
       "            <td>72</td>\n",
       "        </tr>\n",
       "        <tr>\n",
       "            <td>388582</td>\n",
       "            <td>69</td>\n",
       "        </tr>\n",
       "    </tbody>\n",
       "</table>"
      ],
      "text/plain": [
       "[(394118, 306),\n",
       " (394128, 169),\n",
       " (388578, 141),\n",
       " (398653, 111),\n",
       " (388566, 101),\n",
       " (398646, 99),\n",
       " (421677, 96),\n",
       " (420526, 92),\n",
       " (400317, 72),\n",
       " (388582, 69)]"
      ]
     },
     "execution_count": 708,
     "metadata": {},
     "output_type": "execute_result"
    }
   ],
   "source": [
    "%%sql\n",
    "SELECT p.Id, p.Score + SUM(c.Score)\n",
    "FROM posts p INNER JOIN comments c ON p.Id = c.PostId\n",
    "GROUP BY p.Id\n",
    "ORDER BY 2 DESC\n",
    "LIMIT 10"
   ]
  },
  {
   "cell_type": "code",
   "execution_count": 709,
   "metadata": {},
   "outputs": [],
   "source": [
    "# insert the query into the queries table\n",
    "sql = \"\"\"\n",
    "    SELECT p.Id, p.Score + SUM(c.Score)\n",
    "    FROM posts p INNER JOIN comments c ON p.Id = c.PostId\n",
    "    GROUP BY p.Id\n",
    "    ORDER BY 2 DESC\n",
    "    LIMIT 10\n",
    "        \"\"\"\n",
    "store_query(\"Task 28\", \"What are the Top 10 posts which have the highest cummulative (post score + comment score) score?\", sql)"
   ]
  },
  {
   "cell_type": "markdown",
   "metadata": {},
   "source": [
    "<div style=\"background-color:lemonchiffon; border:1px solid; padding:5px; margin:5px; font-weight:bold\"><font color=\"black\">\n",
    "Who are the top 10 users who comment the most?\n",
    "    </font></div>"
   ]
  },
  {
   "cell_type": "code",
   "execution_count": 711,
   "metadata": {},
   "outputs": [
    {
     "name": "stdout",
     "output_type": "stream",
     "text": [
      " * sqlite:///chatdata.db\n",
      "Done.\n"
     ]
    },
    {
     "data": {
      "text/html": [
       "<table>\n",
       "    <thead>\n",
       "        <tr>\n",
       "            <th>User Id</th>\n",
       "            <th>Number of Comments</th>\n",
       "            <th>Reputation</th>\n",
       "        </tr>\n",
       "    </thead>\n",
       "    <tbody>\n",
       "        <tr>\n",
       "            <td>805</td>\n",
       "            <td>1153</td>\n",
       "            <td>228662</td>\n",
       "        </tr>\n",
       "        <tr>\n",
       "            <td>919</td>\n",
       "            <td>3301</td>\n",
       "            <td>223056</td>\n",
       "        </tr>\n",
       "        <tr>\n",
       "            <td>7290</td>\n",
       "            <td>370</td>\n",
       "            <td>115531</td>\n",
       "        </tr>\n",
       "        <tr>\n",
       "            <td>686</td>\n",
       "            <td>349</td>\n",
       "            <td>85077</td>\n",
       "        </tr>\n",
       "        <tr>\n",
       "            <td>28666</td>\n",
       "            <td>158</td>\n",
       "            <td>75024</td>\n",
       "        </tr>\n",
       "        <tr>\n",
       "            <td>35989</td>\n",
       "            <td>470</td>\n",
       "            <td>71548</td>\n",
       "        </tr>\n",
       "        <tr>\n",
       "            <td>7224</td>\n",
       "            <td>424</td>\n",
       "            <td>65999</td>\n",
       "        </tr>\n",
       "        <tr>\n",
       "            <td>4253</td>\n",
       "            <td>255</td>\n",
       "            <td>59952</td>\n",
       "        </tr>\n",
       "        <tr>\n",
       "            <td>1352</td>\n",
       "            <td>422</td>\n",
       "            <td>59160</td>\n",
       "        </tr>\n",
       "        <tr>\n",
       "            <td>22311</td>\n",
       "            <td>467</td>\n",
       "            <td>51155</td>\n",
       "        </tr>\n",
       "    </tbody>\n",
       "</table>"
      ],
      "text/plain": [
       "[(805, 1153, 228662),\n",
       " (919, 3301, 223056),\n",
       " (7290, 370, 115531),\n",
       " (686, 349, 85077),\n",
       " (28666, 158, 75024),\n",
       " (35989, 470, 71548),\n",
       " (7224, 424, 65999),\n",
       " (4253, 255, 59952),\n",
       " (1352, 422, 59160),\n",
       " (22311, 467, 51155)]"
      ]
     },
     "execution_count": 711,
     "metadata": {},
     "output_type": "execute_result"
    }
   ],
   "source": [
    "%%sql\n",
    "SELECT u.Id \"User Id\", COUNT(*) \"Number of Comments\", u.Reputation\n",
    "FROM users u INNER JOIN comments c ON u.Id = c.UserId\n",
    "GROUP BY c.UserId, u.Reputation\n",
    "ORDER BY 3 DESC\n",
    "LIMIT 10"
   ]
  },
  {
   "cell_type": "code",
   "execution_count": 712,
   "metadata": {},
   "outputs": [],
   "source": [
    "# insert the query into the queries table\n",
    "sql = \"\"\"\n",
    "    SELECT u.Id \"User Id\", COUNT(*) \"Number of Comments\", u.Reputation\n",
    "    FROM users u INNER JOIN comments c ON u.Id = c.UserId\n",
    "    GROUP BY c.UserId, u.Reputation\n",
    "    ORDER BY 3 DESC\n",
    "    LIMIT 10\n",
    "        \"\"\"\n",
    "store_query(\"Task 29\", \"Who are the top 10 users who comment the most?\", sql)"
   ]
  },
  {
   "cell_type": "markdown",
   "metadata": {},
   "source": [
    "<div style=\"background-color:lemonchiffon; border:1px solid; padding:5px; margin:5px; font-weight:bold\"><font color=\"black\">\n",
    "Who are the top 10 users who post the most? review\n",
    "    </font></div>"
   ]
  },
  {
   "cell_type": "code",
   "execution_count": 713,
   "metadata": {},
   "outputs": [
    {
     "name": "stdout",
     "output_type": "stream",
     "text": [
      " * sqlite:///chatdata.db\n",
      "Done.\n"
     ]
    },
    {
     "data": {
      "text/html": [
       "<table>\n",
       "    <thead>\n",
       "        <tr>\n",
       "            <th>User Id</th>\n",
       "            <th>Number of Post</th>\n",
       "            <th>Reputation</th>\n",
       "        </tr>\n",
       "    </thead>\n",
       "    <tbody>\n",
       "        <tr>\n",
       "            <td>805</td>\n",
       "            <td>230</td>\n",
       "            <td>228662</td>\n",
       "        </tr>\n",
       "        <tr>\n",
       "            <td>919</td>\n",
       "            <td>203</td>\n",
       "            <td>223056</td>\n",
       "        </tr>\n",
       "        <tr>\n",
       "            <td>7290</td>\n",
       "            <td>35</td>\n",
       "            <td>115531</td>\n",
       "        </tr>\n",
       "        <tr>\n",
       "            <td>686</td>\n",
       "            <td>386</td>\n",
       "            <td>85077</td>\n",
       "        </tr>\n",
       "        <tr>\n",
       "            <td>28666</td>\n",
       "            <td>8</td>\n",
       "            <td>75024</td>\n",
       "        </tr>\n",
       "        <tr>\n",
       "            <td>35989</td>\n",
       "            <td>230</td>\n",
       "            <td>71548</td>\n",
       "        </tr>\n",
       "        <tr>\n",
       "            <td>7224</td>\n",
       "            <td>233</td>\n",
       "            <td>65999</td>\n",
       "        </tr>\n",
       "        <tr>\n",
       "            <td>4253</td>\n",
       "            <td>71</td>\n",
       "            <td>59952</td>\n",
       "        </tr>\n",
       "        <tr>\n",
       "            <td>1352</td>\n",
       "            <td>285</td>\n",
       "            <td>59160</td>\n",
       "        </tr>\n",
       "        <tr>\n",
       "            <td>22311</td>\n",
       "            <td>140</td>\n",
       "            <td>51155</td>\n",
       "        </tr>\n",
       "    </tbody>\n",
       "</table>"
      ],
      "text/plain": [
       "[(805, 230, 228662),\n",
       " (919, 203, 223056),\n",
       " (7290, 35, 115531),\n",
       " (686, 386, 85077),\n",
       " (28666, 8, 75024),\n",
       " (35989, 230, 71548),\n",
       " (7224, 233, 65999),\n",
       " (4253, 71, 59952),\n",
       " (1352, 285, 59160),\n",
       " (22311, 140, 51155)]"
      ]
     },
     "execution_count": 713,
     "metadata": {},
     "output_type": "execute_result"
    }
   ],
   "source": [
    "%%sql\n",
    "SELECT u.Id \"User Id\", COUNT(*) \"Number of Post\", u.Reputation\n",
    "FROM users u INNER JOIN posts p ON u.Id = p.OwnerUserId\n",
    "GROUP BY u.Id, u.Reputation\n",
    "ORDER BY 3 DESC\n",
    "LIMIT 10"
   ]
  },
  {
   "cell_type": "code",
   "execution_count": 714,
   "metadata": {},
   "outputs": [],
   "source": [
    "# insert the query into the queries table\n",
    "sql = \"\"\"\n",
    "    SELECT u.Id \"User Id\", COUNT(*) \"Number of Post\", u.Reputation\n",
    "    FROM users u INNER JOIN posts p ON u.Id = p.OwnerUserId\n",
    "    GROUP BY u.Id, u.Reputation\n",
    "    ORDER BY 3 DESC\n",
    "    LIMIT 10\n",
    "        \"\"\"\n",
    "store_query(\"Task 30\", \"Who are the top 10 users who post the most?\", sql)"
   ]
  },
  {
   "cell_type": "markdown",
   "metadata": {},
   "source": [
    "# 4: Check the Queries Table\n",
    "\n",
    "Now let's tidy up and check the queries table.\n",
    "\n",
    "First let's check it's contents:"
   ]
  },
  {
   "cell_type": "code",
   "execution_count": 715,
   "metadata": {},
   "outputs": [
    {
     "name": "stdout",
     "output_type": "stream",
     "text": [
      " * sqlite:///chatdata.db\n",
      "Done.\n"
     ]
    },
    {
     "data": {
      "text/html": [
       "<table>\n",
       "    <thead>\n",
       "        <tr>\n",
       "            <th>task</th>\n",
       "            <th>action</th>\n",
       "            <th>query</th>\n",
       "        </tr>\n",
       "    </thead>\n",
       "    <tbody>\n",
       "        <tr>\n",
       "            <td>Single Table Queries</td>\n",
       "            <td>Which 5 users have viewed the most times and what is the sum of those views per user?</td>\n",
       "            <td>SELECT * FROM queries</td>\n",
       "        </tr>\n",
       "        <tr>\n",
       "            <td>Task 1</td>\n",
       "            <td>Create table comments</td>\n",
       "            <td><br>    CREATE TABLE &quot;comments&quot; (<br>    &quot;Id&quot; INTEGER,<br>    &quot;PostId&quot; INTEGER,<br>    &quot;Score&quot; INTEGER,<br>    &quot;Text&quot; TEXT,<br>    &quot;CreationDate&quot; TEXT,<br>    &quot;UserId&quot; INTEGER<br>    )<br>    </td>\n",
       "        </tr>\n",
       "        <tr>\n",
       "            <td>Task 2</td>\n",
       "            <td>Create table post</td>\n",
       "            <td><br>    CREATE TABLE &quot;posts&quot; (<br>    &quot;Id&quot; INTEGER,<br>    &quot;PostTypeId&quot; INTEGER,<br>    &quot;AcceptedAnswerId&quot; INTEGER,<br>    &quot;ParentId&quot; INTEGER,<br>    &quot;CreationDate&quot; TEXT,<br>    &quot;Score&quot; INTEGER,<br>    &quot;ViewCount&quot; INTEGER,<br>    &quot;Body&quot; TEXT,<br>    &quot;OwnerUserId&quot; INTEGER,<br>    &quot;OwnerDisplayName&quot; TEXT,<br>    &quot;LastEditorUserId&quot; INTEGER,<br>    &quot;LastEditorDisplayName&quot; TEXT,<br>    &quot;LastEditDate&quot; TEXT,<br>    &quot;LastActivityDate&quot; TEXT,<br>    &quot;Title&quot; TEXT,<br>    &quot;Tags&quot; TEXT,<br>    &quot;AnswerCount&quot; INTEGER,<br>    &quot;CommentCount&quot; INTEGER,<br>    &quot;FavoriteCount&quot; INTEGER,<br>    &quot;ClosedDate&quot; TEXT,<br>    &quot;CommunityOwnedDate&quot; TEXT<br>    )<br>    </td>\n",
       "        </tr>\n",
       "        <tr>\n",
       "            <td>Task 3</td>\n",
       "            <td>Create table users</td>\n",
       "            <td><br>    CREATE TABLE &quot;users&quot; (<br>    &quot;Id&quot; INTEGER,<br>    &quot;Reputation&quot; INTEGER,<br>    &quot;CreationDate&quot; TEXT,<br>    &quot;DisplayName&quot; TEXT,<br>    &quot;LastAccessDate&quot; TEXT,<br>    &quot;WebsiteUrl&quot; TEXT,<br>    &quot;Location&quot; TEXT,<br>    &quot;AboutMe&quot; TEXT,<br>    &quot;Views&quot; INTEGER,<br>    &quot;UpVotes&quot; INTEGER,<br>    &quot;DownVotes&quot; INTEGER,<br>    &quot;ProfileImageUrl&quot; TEXT,<br>    &quot;AccountId&quot; INTEGER<br>    )<br>    </td>\n",
       "        </tr>\n",
       "        <tr>\n",
       "            <td>Task 4</td>\n",
       "            <td>Count the number of rows in the comments table</td>\n",
       "            <td><br>SELECT Count(*) AS NumberOfRows<br>    FROM comments<br>        </td>\n",
       "        </tr>\n",
       "        <tr>\n",
       "            <td>Task 5</td>\n",
       "            <td>Count the number of rows in the posts table</td>\n",
       "            <td><br>SELECT Count(*) AS NumberOfRows<br>    FROM posts<br>        </td>\n",
       "        </tr>\n",
       "        <tr>\n",
       "            <td>Task 6</td>\n",
       "            <td>Count the number of rows in the users table</td>\n",
       "            <td><br>SELECT Count(*) AS NumberOfRows<br>    FROM users<br>        </td>\n",
       "        </tr>\n",
       "        <tr>\n",
       "            <td>Task 7</td>\n",
       "            <td>select 5 random rows from posts table</td>\n",
       "            <td><br>    SELECT * <br>    FROM posts <br>    ORDER BY random() <br>    LIMIT 5<br>        </td>\n",
       "        </tr>\n",
       "        <tr>\n",
       "            <td>Task 8</td>\n",
       "            <td>select 5 random rows from comments table</td>\n",
       "            <td><br>    SELECT * <br>    FROM comments <br>    ORDER BY random() <br>    LIMIT 5<br>        </td>\n",
       "        </tr>\n",
       "        <tr>\n",
       "            <td>Task 9</td>\n",
       "            <td>select 5 random rows from users table</td>\n",
       "            <td><br>    SELECT * <br>    FROM users <br>    ORDER BY random() <br>    LIMIT 5<br>        </td>\n",
       "        </tr>\n",
       "        <tr>\n",
       "            <td>Task 10</td>\n",
       "            <td>How many posts have 0 comments?</td>\n",
       "            <td><br>    SELECT COUNT(*) &quot;Number of Comments&quot;<br>    FROM posts<br>    WHERE CommentCount = 0<br>        </td>\n",
       "        </tr>\n",
       "        <tr>\n",
       "            <td>Task 11</td>\n",
       "            <td>How many posts have 1 comments?</td>\n",
       "            <td><br>    SELECT COUNT(*) &quot;Number of Comments&quot;<br>    FROM posts<br>    WHERE CommentCount = 1<br>        </td>\n",
       "        </tr>\n",
       "        <tr>\n",
       "            <td>Task 12</td>\n",
       "            <td>How many posts have 2 comments or more?</td>\n",
       "            <td><br>    SELECT COUNT(*) &quot;Number of Comments&quot;<br>    FROM posts<br>    WHERE CommentCount &gt;= 2<br>        </td>\n",
       "        </tr>\n",
       "        <tr>\n",
       "            <td>Task 13</td>\n",
       "            <td>Find the 5 posts with the highest viewcount</td>\n",
       "            <td><br>    SELECT Id &quot;Post Id&quot;, SUM(ViewCount) &quot;Total Views&quot;<br>    FROM posts<br>    GROUP BY Id<br>    ORDER BY 2 DESC<br>    LIMIT 5<br>        </td>\n",
       "        </tr>\n",
       "        <tr>\n",
       "            <td>Task 14</td>\n",
       "            <td>Find the top 5 posts with the highest scores</td>\n",
       "            <td><br>    SELECT Id &quot;Post Id&quot;, SUM(Score) &quot;Total Score&quot;<br>    FROM posts<br>    GROUP BY Id<br>    ORDER BY 2 DESC<br>    LIMIT 5<br>        </td>\n",
       "        </tr>\n",
       "        <tr>\n",
       "            <td>Task 15</td>\n",
       "            <td>What are the 5 most frequent scores on posts?</td>\n",
       "            <td><br>    SELECT Score, COUNT(Score) &quot;Frequent Scores on Posts&quot;<br>    FROM posts<br>    GROUP BY Score<br>    ORDER BY 2 DESC<br>    LIMIT 5<br>        </td>\n",
       "        </tr>\n",
       "        <tr>\n",
       "            <td>Task 16</td>\n",
       "            <td>How many posts have the keyword data in their tags?</td>\n",
       "            <td><br>    SELECT Count(*) &quot;Number of Posts&quot;<br>    FROM posts<br>    WHERE Tags LIKE &#x27;%data%&#x27; <br>        </td>\n",
       "        </tr>\n",
       "        <tr>\n",
       "            <td>Task 17</td>\n",
       "            <td>What are the 5 most frequent commentcount for posts?</td>\n",
       "            <td><br>    SELECT CommentCount, COUNT(CommentCount) &quot;Frequent Comment Count&quot;<br>    FROM posts<br>    GROUP BY CommentCount<br>    ORDER BY 2 DESC<br>    LIMIT 5<br>        </td>\n",
       "        </tr>\n",
       "        <tr>\n",
       "            <td>Task 18</td>\n",
       "            <td>How many posts have an accepted answer?</td>\n",
       "            <td><br>    SELECT COUNT(*) &quot;Number of accepted answer&quot;<br>    FROM posts<br>    WHERE AcceptedAnswerId &lt;&gt; 0<br>        </td>\n",
       "        </tr>\n",
       "        <tr>\n",
       "            <td>Task 19</td>\n",
       "            <td>What is the average reputation of table users?</td>\n",
       "            <td><br>    SELECT ROUND(AVG(Reputation),2) &quot;User Reputation AVG&quot;<br>    FROM users<br>        </td>\n",
       "        </tr>\n",
       "        <tr>\n",
       "            <td>Task 20</td>\n",
       "            <td>What are the min and max reputation of users?</td>\n",
       "            <td><br>    SELECT MIN(Reputation) &quot;Min Reputation&quot;, MAX(Reputation) &quot;Max Reputation&quot;<br>    FROM users<br>        </td>\n",
       "        </tr>\n",
       "        <tr>\n",
       "            <td>Task 21</td>\n",
       "            <td>What is the length of the body of 5 most viewed posts?</td>\n",
       "            <td><br>    SELECT Id &quot;Post Id&quot;, SUM(ViewCount) &quot;Total Views&quot;, LEN_BODY &quot;Length&quot;<br>    FROM posts<br>    GROUP BY Id<br>    ORDER BY 2 DESC<br>    LIMIT 5<br>        </td>\n",
       "        </tr>\n",
       "        <tr>\n",
       "            <td>Task 22</td>\n",
       "            <td>How many different locations are there in the users table?</td>\n",
       "            <td><br>    SELECT COUNT(DISTINCT(Location)) &quot;Different Locations&quot;<br>    FROM users  <br>        </td>\n",
       "        </tr>\n",
       "        <tr>\n",
       "            <td>Task 23</td>\n",
       "            <td>What are the top 5 locations of users?</td>\n",
       "            <td><br>    SELECT Location, COUNT(Location) &quot;Users&quot;<br>    FROM users<br>    GROUP BY Location<br>    ORDER BY 2 DESC<br>    LIMIT 5<br>        </td>\n",
       "        </tr>\n",
       "        <tr>\n",
       "            <td>Task 24</td>\n",
       "            <td>Rank the days of the week from highest to lowest in terms of the volume of ViewCount as a percentage.</td>\n",
       "            <td><br>  select case cast (strftime(&#x27;%w&#x27;, CreationDate) as integer)<br>  when 0 then &#x27;Sunday&#x27;<br>  when 1 then &#x27;Monday&#x27;<br>  when 2 then &#x27;Tuesday&#x27;<br>  when 3 then &#x27;Wednesday&#x27;<br>  when 4 then &#x27;Thursday&#x27;<br>  when 5 then &#x27;Friday&#x27;<br>  else &#x27;Saturday&#x27; end as Day, ROUND(SUM(ViewCount)*100.0/(select SUM(ViewCount) from posts),2) as SumViewCountPercent<br>    FROM posts  <br>    GROUP BY Day<br>    ORDER BY 2 DESC<br>        </td>\n",
       "        </tr>\n",
       "        <tr>\n",
       "            <td>Task 25</td>\n",
       "            <td>How many posts have been created by a user that has a filled out the AboutMe section?</td>\n",
       "            <td><br>    SELECT COUNT(*) &quot;Posts&quot;<br>    FROM users u INNER JOIN posts p ON u.Id = p.OwnerUserId<br>    WHERE u.AboutMe &lt;&gt; &#x27;&#x27;;<br>        </td>\n",
       "        </tr>\n",
       "        <tr>\n",
       "            <td>Task 26</td>\n",
       "            <td>Considering only the users with an AboutMe, how many posts are there per user?</td>\n",
       "            <td><br>    SELECT ROUND(COUNT(*)/(SELECT CAST(COUNT(*) AS FLOAT) FROM USERS WHERE ABOUTME !=&#x27;&#x27;),2) AS posts_per_user<br>    FROM USERS U<br>    JOIN POSTS P ON U.ID = P.OWNERUSERID  <br>    WHERE U.ABOUTME !=&#x27;&#x27;<br>        </td>\n",
       "        </tr>\n",
       "        <tr>\n",
       "            <td>Task 27</td>\n",
       "            <td>Not taking into account the commentcount field in the table posts, what are the Top 10 posts in terms of number of comments?</td>\n",
       "            <td><br>    SELECT p.Id, COUNT(*) &quot;Comments&quot;<br>    FROM posts p INNER JOIN comments c ON p.Id = c.PostId<br>    GROUP BY p.Id<br>    ORDER BY 2 DESC<br>    LIMIT 10<br>        </td>\n",
       "        </tr>\n",
       "        <tr>\n",
       "            <td>Task 28</td>\n",
       "            <td>What are the Top 10 posts which have the highest cummulative (post score + comment score) score?</td>\n",
       "            <td><br>    SELECT p.Id, p.Score + SUM(c.Score)<br>    FROM posts p INNER JOIN comments c ON p.Id = c.PostId<br>    GROUP BY p.Id<br>    ORDER BY 2 DESC<br>    LIMIT 10<br>        </td>\n",
       "        </tr>\n",
       "        <tr>\n",
       "            <td>Task 29</td>\n",
       "            <td>Who are the top 10 users who comment the most?</td>\n",
       "            <td><br>    SELECT u.Id &quot;User Id&quot;, COUNT(*) &quot;Number of Comments&quot;, u.Reputation<br>    FROM users u INNER JOIN comments c ON u.Id = c.UserId<br>    GROUP BY c.UserId, u.Reputation<br>    ORDER BY 3 DESC<br>    LIMIT 10<br>        </td>\n",
       "        </tr>\n",
       "        <tr>\n",
       "            <td>Task 30</td>\n",
       "            <td>Who are the top 10 users who post the most?</td>\n",
       "            <td><br>    SELECT u.Id &quot;User Id&quot;, COUNT(*) &quot;Number of Post&quot;, u.Reputation<br>    FROM users u INNER JOIN posts p ON u.Id = p.OwnerUserId<br>    GROUP BY u.Id, u.Reputation<br>    ORDER BY 3 DESC<br>    LIMIT 10<br>        </td>\n",
       "        </tr>\n",
       "    </tbody>\n",
       "</table>"
      ],
      "text/plain": [
       "[('Single Table Queries', 'Which 5 users have viewed the most times and what is the sum of those views per user?', 'SELECT * FROM queries'),\n",
       " ('Task 1', 'Create table comments', '\\n    CREATE TABLE \"comments\" (\\n    \"Id\" INTEGER,\\n    \"PostId\" INTEGER,\\n    \"Score\" INTEGER,\\n    \"Text\" TEXT,\\n    \"CreationDate\" TEXT,\\n    \"UserId\" INTEGER\\n    )\\n    '),\n",
       " ('Task 2', 'Create table post', '\\n    CREATE TABLE \"posts\" (\\n    \"Id\" INTEGER,\\n    \"PostTypeId\" INTEGER,\\n    \"AcceptedAnswerId\" INTEGER,\\n    \"ParentId\" INTEGER,\\n    \"CreationDa ... (300 characters truncated) ... \"AnswerCount\" INTEGER,\\n    \"CommentCount\" INTEGER,\\n    \"FavoriteCount\" INTEGER,\\n    \"ClosedDate\" TEXT,\\n    \"CommunityOwnedDate\" TEXT\\n    )\\n    '),\n",
       " ('Task 3', 'Create table users', '\\n    CREATE TABLE \"users\" (\\n    \"Id\" INTEGER,\\n    \"Reputation\" INTEGER,\\n    \"CreationDate\" TEXT,\\n    \"DisplayName\" TEXT,\\n    \"LastAccessDate\" T ... (61 characters truncated) ... tMe\" TEXT,\\n    \"Views\" INTEGER,\\n    \"UpVotes\" INTEGER,\\n    \"DownVotes\" INTEGER,\\n    \"ProfileImageUrl\" TEXT,\\n    \"AccountId\" INTEGER\\n    )\\n    '),\n",
       " ('Task 4', 'Count the number of rows in the comments table', '\\nSELECT Count(*) AS NumberOfRows\\n    FROM comments\\n        '),\n",
       " ('Task 5', 'Count the number of rows in the posts table', '\\nSELECT Count(*) AS NumberOfRows\\n    FROM posts\\n        '),\n",
       " ('Task 6', 'Count the number of rows in the users table', '\\nSELECT Count(*) AS NumberOfRows\\n    FROM users\\n        '),\n",
       " ('Task 7', 'select 5 random rows from posts table', '\\n    SELECT * \\n    FROM posts \\n    ORDER BY random() \\n    LIMIT 5\\n        '),\n",
       " ('Task 8', 'select 5 random rows from comments table', '\\n    SELECT * \\n    FROM comments \\n    ORDER BY random() \\n    LIMIT 5\\n        '),\n",
       " ('Task 9', 'select 5 random rows from users table', '\\n    SELECT * \\n    FROM users \\n    ORDER BY random() \\n    LIMIT 5\\n        '),\n",
       " ('Task 10', 'How many posts have 0 comments?', '\\n    SELECT COUNT(*) \"Number of Comments\"\\n    FROM posts\\n    WHERE CommentCount = 0\\n        '),\n",
       " ('Task 11', 'How many posts have 1 comments?', '\\n    SELECT COUNT(*) \"Number of Comments\"\\n    FROM posts\\n    WHERE CommentCount = 1\\n        '),\n",
       " ('Task 12', 'How many posts have 2 comments or more?', '\\n    SELECT COUNT(*) \"Number of Comments\"\\n    FROM posts\\n    WHERE CommentCount >= 2\\n        '),\n",
       " ('Task 13', 'Find the 5 posts with the highest viewcount', '\\n    SELECT Id \"Post Id\", SUM(ViewCount) \"Total Views\"\\n    FROM posts\\n    GROUP BY Id\\n    ORDER BY 2 DESC\\n    LIMIT 5\\n        '),\n",
       " ('Task 14', 'Find the top 5 posts with the highest scores', '\\n    SELECT Id \"Post Id\", SUM(Score) \"Total Score\"\\n    FROM posts\\n    GROUP BY Id\\n    ORDER BY 2 DESC\\n    LIMIT 5\\n        '),\n",
       " ('Task 15', 'What are the 5 most frequent scores on posts?', '\\n    SELECT Score, COUNT(Score) \"Frequent Scores on Posts\"\\n    FROM posts\\n    GROUP BY Score\\n    ORDER BY 2 DESC\\n    LIMIT 5\\n        '),\n",
       " ('Task 16', 'How many posts have the keyword data in their tags?', '\\n    SELECT Count(*) \"Number of Posts\"\\n    FROM posts\\n    WHERE Tags LIKE \\'%data%\\' \\n        '),\n",
       " ('Task 17', 'What are the 5 most frequent commentcount for posts?', '\\n    SELECT CommentCount, COUNT(CommentCount) \"Frequent Comment Count\"\\n    FROM posts\\n    GROUP BY CommentCount\\n    ORDER BY 2 DESC\\n    LIMIT 5\\n        '),\n",
       " ('Task 18', 'How many posts have an accepted answer?', '\\n    SELECT COUNT(*) \"Number of accepted answer\"\\n    FROM posts\\n    WHERE AcceptedAnswerId <> 0\\n        '),\n",
       " ('Task 19', 'What is the average reputation of table users?', '\\n    SELECT ROUND(AVG(Reputation),2) \"User Reputation AVG\"\\n    FROM users\\n        '),\n",
       " ('Task 20', 'What are the min and max reputation of users?', '\\n    SELECT MIN(Reputation) \"Min Reputation\", MAX(Reputation) \"Max Reputation\"\\n    FROM users\\n        '),\n",
       " ('Task 21', 'What is the length of the body of 5 most viewed posts?', '\\n    SELECT Id \"Post Id\", SUM(ViewCount) \"Total Views\", LEN_BODY \"Length\"\\n    FROM posts\\n    GROUP BY Id\\n    ORDER BY 2 DESC\\n    LIMIT 5\\n        '),\n",
       " ('Task 22', 'How many different locations are there in the users table?', '\\n    SELECT COUNT(DISTINCT(Location)) \"Different Locations\"\\n    FROM users  \\n        '),\n",
       " ('Task 23', 'What are the top 5 locations of users?', '\\n    SELECT Location, COUNT(Location) \"Users\"\\n    FROM users\\n    GROUP BY Location\\n    ORDER BY 2 DESC\\n    LIMIT 5\\n        '),\n",
       " ('Task 24', 'Rank the days of the week from highest to lowest in terms of the volume of ViewCount as a percentage.', \"\\n  select case cast (strftime('%w', CreationDate) as integer)\\n  when 0 then 'Sunday'\\n  when 1 then 'Monday'\\n  when 2 then 'Tuesday'\\n  when 3 the ... (100 characters truncated) ... (SUM(ViewCount)*100.0/(select SUM(ViewCount) from posts),2) as SumViewCountPercent\\n    FROM posts  \\n    GROUP BY Day\\n    ORDER BY 2 DESC\\n        \"),\n",
       " ('Task 25', 'How many posts have been created by a user that has a filled out the AboutMe section?', '\\n    SELECT COUNT(*) \"Posts\"\\n    FROM users u INNER JOIN posts p ON u.Id = p.OwnerUserId\\n    WHERE u.AboutMe <> \\'\\';\\n        '),\n",
       " ('Task 26', 'Considering only the users with an AboutMe, how many posts are there per user?', \"\\n    SELECT ROUND(COUNT(*)/(SELECT CAST(COUNT(*) AS FLOAT) FROM USERS WHERE ABOUTME !=''),2) AS posts_per_user\\n    FROM USERS U\\n    JOIN POSTS P ON U.ID = P.OWNERUSERID  \\n    WHERE U.ABOUTME !=''\\n        \"),\n",
       " ('Task 27', 'Not taking into account the commentcount field in the table posts, what are the Top 10 posts in terms of number of comments?', '\\n    SELECT p.Id, COUNT(*) \"Comments\"\\n    FROM posts p INNER JOIN comments c ON p.Id = c.PostId\\n    GROUP BY p.Id\\n    ORDER BY 2 DESC\\n    LIMIT 10\\n        '),\n",
       " ('Task 28', 'What are the Top 10 posts which have the highest cummulative (post score + comment score) score?', '\\n    SELECT p.Id, p.Score + SUM(c.Score)\\n    FROM posts p INNER JOIN comments c ON p.Id = c.PostId\\n    GROUP BY p.Id\\n    ORDER BY 2 DESC\\n    LIMIT 10\\n        '),\n",
       " ('Task 29', 'Who are the top 10 users who comment the most?', '\\n    SELECT u.Id \"User Id\", COUNT(*) \"Number of Comments\", u.Reputation\\n    FROM users u INNER JOIN comments c ON u.Id = c.UserId\\n    GROUP BY c.UserId, u.Reputation\\n    ORDER BY 3 DESC\\n    LIMIT 10\\n        '),\n",
       " ('Task 30', 'Who are the top 10 users who post the most?', '\\n    SELECT u.Id \"User Id\", COUNT(*) \"Number of Post\", u.Reputation\\n    FROM users u INNER JOIN posts p ON u.Id = p.OwnerUserId\\n    GROUP BY u.Id, u.Reputation\\n    ORDER BY 3 DESC\\n    LIMIT 10\\n        ')]"
      ]
     },
     "execution_count": 715,
     "metadata": {},
     "output_type": "execute_result"
    }
   ],
   "source": [
    "%sql SELECT * FROM queries"
   ]
  },
  {
   "cell_type": "markdown",
   "metadata": {},
   "source": [
    "## Drop Duplicates\n",
    "\n",
    "You likely have some duplicates. Lets drop them. "
   ]
  },
  {
   "cell_type": "code",
   "execution_count": 716,
   "metadata": {},
   "outputs": [],
   "source": [
    "# Read the queries table into pandas\n",
    "sql = 'SELECT * FROM queries'\n",
    "queries = pd.read_sql(sql, con)\n",
    "\n",
    "# Drop duplicates\n",
    "queries.drop_duplicates(inplace = True) # drop duplicates"
   ]
  },
  {
   "cell_type": "markdown",
   "metadata": {},
   "source": [
    "## Case Issues"
   ]
  },
  {
   "cell_type": "markdown",
   "metadata": {},
   "source": [
    "Remember, SQL is case insensitive. Pandas IS case sensitive. Lets deal with this now by making all of the text uppercase. "
   ]
  },
  {
   "cell_type": "code",
   "execution_count": 717,
   "metadata": {},
   "outputs": [
    {
     "data": {
      "text/html": [
       "<div>\n",
       "<style scoped>\n",
       "    .dataframe tbody tr th:only-of-type {\n",
       "        vertical-align: middle;\n",
       "    }\n",
       "\n",
       "    .dataframe tbody tr th {\n",
       "        vertical-align: top;\n",
       "    }\n",
       "\n",
       "    .dataframe thead th {\n",
       "        text-align: right;\n",
       "    }\n",
       "</style>\n",
       "<table border=\"1\" class=\"dataframe\">\n",
       "  <thead>\n",
       "    <tr style=\"text-align: right;\">\n",
       "      <th></th>\n",
       "      <th>task</th>\n",
       "      <th>action</th>\n",
       "      <th>query</th>\n",
       "    </tr>\n",
       "  </thead>\n",
       "  <tbody>\n",
       "    <tr>\n",
       "      <th>0</th>\n",
       "      <td>SINGLE TABLE QUERIES</td>\n",
       "      <td>WHICH 5 USERS HAVE VIEWED THE MOST TIMES AND W...</td>\n",
       "      <td>SELECT * FROM QUERIES</td>\n",
       "    </tr>\n",
       "    <tr>\n",
       "      <th>1</th>\n",
       "      <td>TASK 1</td>\n",
       "      <td>CREATE TABLE COMMENTS</td>\n",
       "      <td>\\n    CREATE TABLE \"COMMENTS\" (\\n    \"ID\" INTE...</td>\n",
       "    </tr>\n",
       "    <tr>\n",
       "      <th>2</th>\n",
       "      <td>TASK 2</td>\n",
       "      <td>CREATE TABLE POST</td>\n",
       "      <td>\\n    CREATE TABLE \"POSTS\" (\\n    \"ID\" INTEGER...</td>\n",
       "    </tr>\n",
       "    <tr>\n",
       "      <th>3</th>\n",
       "      <td>TASK 3</td>\n",
       "      <td>CREATE TABLE USERS</td>\n",
       "      <td>\\n    CREATE TABLE \"USERS\" (\\n    \"ID\" INTEGER...</td>\n",
       "    </tr>\n",
       "    <tr>\n",
       "      <th>4</th>\n",
       "      <td>TASK 4</td>\n",
       "      <td>COUNT THE NUMBER OF ROWS IN THE COMMENTS TABLE</td>\n",
       "      <td>\\nSELECT COUNT(*) AS NUMBEROFROWS\\n    FROM CO...</td>\n",
       "    </tr>\n",
       "    <tr>\n",
       "      <th>5</th>\n",
       "      <td>TASK 5</td>\n",
       "      <td>COUNT THE NUMBER OF ROWS IN THE POSTS TABLE</td>\n",
       "      <td>\\nSELECT COUNT(*) AS NUMBEROFROWS\\n    FROM PO...</td>\n",
       "    </tr>\n",
       "    <tr>\n",
       "      <th>6</th>\n",
       "      <td>TASK 6</td>\n",
       "      <td>COUNT THE NUMBER OF ROWS IN THE USERS TABLE</td>\n",
       "      <td>\\nSELECT COUNT(*) AS NUMBEROFROWS\\n    FROM US...</td>\n",
       "    </tr>\n",
       "    <tr>\n",
       "      <th>7</th>\n",
       "      <td>TASK 7</td>\n",
       "      <td>SELECT 5 RANDOM ROWS FROM POSTS TABLE</td>\n",
       "      <td>\\n    SELECT * \\n    FROM POSTS \\n    ORDER BY...</td>\n",
       "    </tr>\n",
       "    <tr>\n",
       "      <th>8</th>\n",
       "      <td>TASK 8</td>\n",
       "      <td>SELECT 5 RANDOM ROWS FROM COMMENTS TABLE</td>\n",
       "      <td>\\n    SELECT * \\n    FROM COMMENTS \\n    ORDER...</td>\n",
       "    </tr>\n",
       "    <tr>\n",
       "      <th>9</th>\n",
       "      <td>TASK 9</td>\n",
       "      <td>SELECT 5 RANDOM ROWS FROM USERS TABLE</td>\n",
       "      <td>\\n    SELECT * \\n    FROM USERS \\n    ORDER BY...</td>\n",
       "    </tr>\n",
       "    <tr>\n",
       "      <th>10</th>\n",
       "      <td>TASK 10</td>\n",
       "      <td>HOW MANY POSTS HAVE 0 COMMENTS?</td>\n",
       "      <td>\\n    SELECT COUNT(*) \"NUMBER OF COMMENTS\"\\n  ...</td>\n",
       "    </tr>\n",
       "    <tr>\n",
       "      <th>11</th>\n",
       "      <td>TASK 11</td>\n",
       "      <td>HOW MANY POSTS HAVE 1 COMMENTS?</td>\n",
       "      <td>\\n    SELECT COUNT(*) \"NUMBER OF COMMENTS\"\\n  ...</td>\n",
       "    </tr>\n",
       "    <tr>\n",
       "      <th>12</th>\n",
       "      <td>TASK 12</td>\n",
       "      <td>HOW MANY POSTS HAVE 2 COMMENTS OR MORE?</td>\n",
       "      <td>\\n    SELECT COUNT(*) \"NUMBER OF COMMENTS\"\\n  ...</td>\n",
       "    </tr>\n",
       "    <tr>\n",
       "      <th>13</th>\n",
       "      <td>TASK 13</td>\n",
       "      <td>FIND THE 5 POSTS WITH THE HIGHEST VIEWCOUNT</td>\n",
       "      <td>\\n    SELECT ID \"POST ID\", SUM(VIEWCOUNT) \"TOT...</td>\n",
       "    </tr>\n",
       "    <tr>\n",
       "      <th>14</th>\n",
       "      <td>TASK 14</td>\n",
       "      <td>FIND THE TOP 5 POSTS WITH THE HIGHEST SCORES</td>\n",
       "      <td>\\n    SELECT ID \"POST ID\", SUM(SCORE) \"TOTAL S...</td>\n",
       "    </tr>\n",
       "    <tr>\n",
       "      <th>15</th>\n",
       "      <td>TASK 15</td>\n",
       "      <td>WHAT ARE THE 5 MOST FREQUENT SCORES ON POSTS?</td>\n",
       "      <td>\\n    SELECT SCORE, COUNT(SCORE) \"FREQUENT SCO...</td>\n",
       "    </tr>\n",
       "    <tr>\n",
       "      <th>16</th>\n",
       "      <td>TASK 16</td>\n",
       "      <td>HOW MANY POSTS HAVE THE KEYWORD DATA IN THEIR ...</td>\n",
       "      <td>\\n    SELECT COUNT(*) \"NUMBER OF POSTS\"\\n    F...</td>\n",
       "    </tr>\n",
       "    <tr>\n",
       "      <th>17</th>\n",
       "      <td>TASK 17</td>\n",
       "      <td>WHAT ARE THE 5 MOST FREQUENT COMMENTCOUNT FOR ...</td>\n",
       "      <td>\\n    SELECT COMMENTCOUNT, COUNT(COMMENTCOUNT)...</td>\n",
       "    </tr>\n",
       "    <tr>\n",
       "      <th>18</th>\n",
       "      <td>TASK 18</td>\n",
       "      <td>HOW MANY POSTS HAVE AN ACCEPTED ANSWER?</td>\n",
       "      <td>\\n    SELECT COUNT(*) \"NUMBER OF ACCEPTED ANSW...</td>\n",
       "    </tr>\n",
       "    <tr>\n",
       "      <th>19</th>\n",
       "      <td>TASK 19</td>\n",
       "      <td>WHAT IS THE AVERAGE REPUTATION OF TABLE USERS?</td>\n",
       "      <td>\\n    SELECT ROUND(AVG(REPUTATION),2) \"USER RE...</td>\n",
       "    </tr>\n",
       "    <tr>\n",
       "      <th>20</th>\n",
       "      <td>TASK 20</td>\n",
       "      <td>WHAT ARE THE MIN AND MAX REPUTATION OF USERS?</td>\n",
       "      <td>\\n    SELECT MIN(REPUTATION) \"MIN REPUTATION\",...</td>\n",
       "    </tr>\n",
       "    <tr>\n",
       "      <th>21</th>\n",
       "      <td>TASK 21</td>\n",
       "      <td>WHAT IS THE LENGTH OF THE BODY OF 5 MOST VIEWE...</td>\n",
       "      <td>\\n    SELECT ID \"POST ID\", SUM(VIEWCOUNT) \"TOT...</td>\n",
       "    </tr>\n",
       "    <tr>\n",
       "      <th>22</th>\n",
       "      <td>TASK 22</td>\n",
       "      <td>HOW MANY DIFFERENT LOCATIONS ARE THERE IN THE ...</td>\n",
       "      <td>\\n    SELECT COUNT(DISTINCT(LOCATION)) \"DIFFER...</td>\n",
       "    </tr>\n",
       "    <tr>\n",
       "      <th>23</th>\n",
       "      <td>TASK 23</td>\n",
       "      <td>WHAT ARE THE TOP 5 LOCATIONS OF USERS?</td>\n",
       "      <td>\\n    SELECT LOCATION, COUNT(LOCATION) \"USERS\"...</td>\n",
       "    </tr>\n",
       "    <tr>\n",
       "      <th>24</th>\n",
       "      <td>TASK 24</td>\n",
       "      <td>RANK THE DAYS OF THE WEEK FROM HIGHEST TO LOWE...</td>\n",
       "      <td>\\n  SELECT CASE CAST (STRFTIME('%W', CREATIOND...</td>\n",
       "    </tr>\n",
       "    <tr>\n",
       "      <th>25</th>\n",
       "      <td>TASK 25</td>\n",
       "      <td>HOW MANY POSTS HAVE BEEN CREATED BY A USER THA...</td>\n",
       "      <td>\\n    SELECT COUNT(*) \"POSTS\"\\n    FROM USERS ...</td>\n",
       "    </tr>\n",
       "    <tr>\n",
       "      <th>26</th>\n",
       "      <td>TASK 26</td>\n",
       "      <td>CONSIDERING ONLY THE USERS WITH AN ABOUTME, HO...</td>\n",
       "      <td>\\n    SELECT ROUND(COUNT(*)/(SELECT CAST(COUNT...</td>\n",
       "    </tr>\n",
       "    <tr>\n",
       "      <th>27</th>\n",
       "      <td>TASK 27</td>\n",
       "      <td>NOT TAKING INTO ACCOUNT THE COMMENTCOUNT FIELD...</td>\n",
       "      <td>\\n    SELECT P.ID, COUNT(*) \"COMMENTS\"\\n    FR...</td>\n",
       "    </tr>\n",
       "    <tr>\n",
       "      <th>28</th>\n",
       "      <td>TASK 28</td>\n",
       "      <td>WHAT ARE THE TOP 10 POSTS WHICH HAVE THE HIGHE...</td>\n",
       "      <td>\\n    SELECT P.ID, P.SCORE + SUM(C.SCORE)\\n   ...</td>\n",
       "    </tr>\n",
       "    <tr>\n",
       "      <th>29</th>\n",
       "      <td>TASK 29</td>\n",
       "      <td>WHO ARE THE TOP 10 USERS WHO COMMENT THE MOST?</td>\n",
       "      <td>\\n    SELECT U.ID \"USER ID\", COUNT(*) \"NUMBER ...</td>\n",
       "    </tr>\n",
       "    <tr>\n",
       "      <th>30</th>\n",
       "      <td>TASK 30</td>\n",
       "      <td>WHO ARE THE TOP 10 USERS WHO POST THE MOST?</td>\n",
       "      <td>\\n    SELECT U.ID \"USER ID\", COUNT(*) \"NUMBER ...</td>\n",
       "    </tr>\n",
       "  </tbody>\n",
       "</table>\n",
       "</div>"
      ],
      "text/plain": [
       "                    task                                             action  \\\n",
       "0   SINGLE TABLE QUERIES  WHICH 5 USERS HAVE VIEWED THE MOST TIMES AND W...   \n",
       "1                 TASK 1                              CREATE TABLE COMMENTS   \n",
       "2                 TASK 2                                  CREATE TABLE POST   \n",
       "3                 TASK 3                                 CREATE TABLE USERS   \n",
       "4                 TASK 4     COUNT THE NUMBER OF ROWS IN THE COMMENTS TABLE   \n",
       "5                 TASK 5        COUNT THE NUMBER OF ROWS IN THE POSTS TABLE   \n",
       "6                 TASK 6        COUNT THE NUMBER OF ROWS IN THE USERS TABLE   \n",
       "7                 TASK 7              SELECT 5 RANDOM ROWS FROM POSTS TABLE   \n",
       "8                 TASK 8           SELECT 5 RANDOM ROWS FROM COMMENTS TABLE   \n",
       "9                 TASK 9              SELECT 5 RANDOM ROWS FROM USERS TABLE   \n",
       "10               TASK 10                    HOW MANY POSTS HAVE 0 COMMENTS?   \n",
       "11               TASK 11                    HOW MANY POSTS HAVE 1 COMMENTS?   \n",
       "12               TASK 12            HOW MANY POSTS HAVE 2 COMMENTS OR MORE?   \n",
       "13               TASK 13        FIND THE 5 POSTS WITH THE HIGHEST VIEWCOUNT   \n",
       "14               TASK 14       FIND THE TOP 5 POSTS WITH THE HIGHEST SCORES   \n",
       "15               TASK 15      WHAT ARE THE 5 MOST FREQUENT SCORES ON POSTS?   \n",
       "16               TASK 16  HOW MANY POSTS HAVE THE KEYWORD DATA IN THEIR ...   \n",
       "17               TASK 17  WHAT ARE THE 5 MOST FREQUENT COMMENTCOUNT FOR ...   \n",
       "18               TASK 18            HOW MANY POSTS HAVE AN ACCEPTED ANSWER?   \n",
       "19               TASK 19     WHAT IS THE AVERAGE REPUTATION OF TABLE USERS?   \n",
       "20               TASK 20      WHAT ARE THE MIN AND MAX REPUTATION OF USERS?   \n",
       "21               TASK 21  WHAT IS THE LENGTH OF THE BODY OF 5 MOST VIEWE...   \n",
       "22               TASK 22  HOW MANY DIFFERENT LOCATIONS ARE THERE IN THE ...   \n",
       "23               TASK 23             WHAT ARE THE TOP 5 LOCATIONS OF USERS?   \n",
       "24               TASK 24  RANK THE DAYS OF THE WEEK FROM HIGHEST TO LOWE...   \n",
       "25               TASK 25  HOW MANY POSTS HAVE BEEN CREATED BY A USER THA...   \n",
       "26               TASK 26  CONSIDERING ONLY THE USERS WITH AN ABOUTME, HO...   \n",
       "27               TASK 27  NOT TAKING INTO ACCOUNT THE COMMENTCOUNT FIELD...   \n",
       "28               TASK 28  WHAT ARE THE TOP 10 POSTS WHICH HAVE THE HIGHE...   \n",
       "29               TASK 29     WHO ARE THE TOP 10 USERS WHO COMMENT THE MOST?   \n",
       "30               TASK 30        WHO ARE THE TOP 10 USERS WHO POST THE MOST?   \n",
       "\n",
       "                                                query  \n",
       "0                               SELECT * FROM QUERIES  \n",
       "1   \\n    CREATE TABLE \"COMMENTS\" (\\n    \"ID\" INTE...  \n",
       "2   \\n    CREATE TABLE \"POSTS\" (\\n    \"ID\" INTEGER...  \n",
       "3   \\n    CREATE TABLE \"USERS\" (\\n    \"ID\" INTEGER...  \n",
       "4   \\nSELECT COUNT(*) AS NUMBEROFROWS\\n    FROM CO...  \n",
       "5   \\nSELECT COUNT(*) AS NUMBEROFROWS\\n    FROM PO...  \n",
       "6   \\nSELECT COUNT(*) AS NUMBEROFROWS\\n    FROM US...  \n",
       "7   \\n    SELECT * \\n    FROM POSTS \\n    ORDER BY...  \n",
       "8   \\n    SELECT * \\n    FROM COMMENTS \\n    ORDER...  \n",
       "9   \\n    SELECT * \\n    FROM USERS \\n    ORDER BY...  \n",
       "10  \\n    SELECT COUNT(*) \"NUMBER OF COMMENTS\"\\n  ...  \n",
       "11  \\n    SELECT COUNT(*) \"NUMBER OF COMMENTS\"\\n  ...  \n",
       "12  \\n    SELECT COUNT(*) \"NUMBER OF COMMENTS\"\\n  ...  \n",
       "13  \\n    SELECT ID \"POST ID\", SUM(VIEWCOUNT) \"TOT...  \n",
       "14  \\n    SELECT ID \"POST ID\", SUM(SCORE) \"TOTAL S...  \n",
       "15  \\n    SELECT SCORE, COUNT(SCORE) \"FREQUENT SCO...  \n",
       "16  \\n    SELECT COUNT(*) \"NUMBER OF POSTS\"\\n    F...  \n",
       "17  \\n    SELECT COMMENTCOUNT, COUNT(COMMENTCOUNT)...  \n",
       "18  \\n    SELECT COUNT(*) \"NUMBER OF ACCEPTED ANSW...  \n",
       "19  \\n    SELECT ROUND(AVG(REPUTATION),2) \"USER RE...  \n",
       "20  \\n    SELECT MIN(REPUTATION) \"MIN REPUTATION\",...  \n",
       "21  \\n    SELECT ID \"POST ID\", SUM(VIEWCOUNT) \"TOT...  \n",
       "22  \\n    SELECT COUNT(DISTINCT(LOCATION)) \"DIFFER...  \n",
       "23  \\n    SELECT LOCATION, COUNT(LOCATION) \"USERS\"...  \n",
       "24  \\n  SELECT CASE CAST (STRFTIME('%W', CREATIOND...  \n",
       "25  \\n    SELECT COUNT(*) \"POSTS\"\\n    FROM USERS ...  \n",
       "26  \\n    SELECT ROUND(COUNT(*)/(SELECT CAST(COUNT...  \n",
       "27  \\n    SELECT P.ID, COUNT(*) \"COMMENTS\"\\n    FR...  \n",
       "28  \\n    SELECT P.ID, P.SCORE + SUM(C.SCORE)\\n   ...  \n",
       "29  \\n    SELECT U.ID \"USER ID\", COUNT(*) \"NUMBER ...  \n",
       "30  \\n    SELECT U.ID \"USER ID\", COUNT(*) \"NUMBER ...  "
      ]
     },
     "execution_count": 717,
     "metadata": {},
     "output_type": "execute_result"
    }
   ],
   "source": [
    "for col in queries.columns:\n",
    "    queries[col] = queries[col].str.upper()\n",
    "    \n",
    "queries"
   ]
  },
  {
   "cell_type": "code",
   "execution_count": 718,
   "metadata": {},
   "outputs": [
    {
     "data": {
      "text/plain": [
       "31"
      ]
     },
     "execution_count": 718,
     "metadata": {},
     "output_type": "execute_result"
    }
   ],
   "source": [
    "# Write the now deduped uppercase dataframe back to sqlite and replace the table\n",
    "queries.to_sql('queries', con, if_exists='replace', index=False)"
   ]
  },
  {
   "cell_type": "markdown",
   "metadata": {},
   "source": [
    "## Use Case\n",
    "\n",
    "Now that we have this queries table, lets give you some ideas about how you would use it.\n",
    "\n",
    "Suppose you wanted to find all of the queries where you did a GROUP BY:"
   ]
  },
  {
   "cell_type": "code",
   "execution_count": 719,
   "metadata": {},
   "outputs": [
    {
     "name": "stdout",
     "output_type": "stream",
     "text": [
      " * sqlite:///chatdata.db\n",
      "Done.\n"
     ]
    },
    {
     "data": {
      "text/html": [
       "<table>\n",
       "    <thead>\n",
       "        <tr>\n",
       "            <th>query</th>\n",
       "        </tr>\n",
       "    </thead>\n",
       "    <tbody>\n",
       "        <tr>\n",
       "            <td><br>    SELECT ID &quot;POST ID&quot;, SUM(VIEWCOUNT) &quot;TOTAL VIEWS&quot;<br>    FROM POSTS<br>    GROUP BY ID<br>    ORDER BY 2 DESC<br>    LIMIT 5<br>        </td>\n",
       "        </tr>\n",
       "        <tr>\n",
       "            <td><br>    SELECT ID &quot;POST ID&quot;, SUM(SCORE) &quot;TOTAL SCORE&quot;<br>    FROM POSTS<br>    GROUP BY ID<br>    ORDER BY 2 DESC<br>    LIMIT 5<br>        </td>\n",
       "        </tr>\n",
       "        <tr>\n",
       "            <td><br>    SELECT SCORE, COUNT(SCORE) &quot;FREQUENT SCORES ON POSTS&quot;<br>    FROM POSTS<br>    GROUP BY SCORE<br>    ORDER BY 2 DESC<br>    LIMIT 5<br>        </td>\n",
       "        </tr>\n",
       "        <tr>\n",
       "            <td><br>    SELECT COMMENTCOUNT, COUNT(COMMENTCOUNT) &quot;FREQUENT COMMENT COUNT&quot;<br>    FROM POSTS<br>    GROUP BY COMMENTCOUNT<br>    ORDER BY 2 DESC<br>    LIMIT 5<br>        </td>\n",
       "        </tr>\n",
       "        <tr>\n",
       "            <td><br>    SELECT ID &quot;POST ID&quot;, SUM(VIEWCOUNT) &quot;TOTAL VIEWS&quot;, LEN_BODY &quot;LENGTH&quot;<br>    FROM POSTS<br>    GROUP BY ID<br>    ORDER BY 2 DESC<br>    LIMIT 5<br>        </td>\n",
       "        </tr>\n",
       "        <tr>\n",
       "            <td><br>    SELECT LOCATION, COUNT(LOCATION) &quot;USERS&quot;<br>    FROM USERS<br>    GROUP BY LOCATION<br>    ORDER BY 2 DESC<br>    LIMIT 5<br>        </td>\n",
       "        </tr>\n",
       "        <tr>\n",
       "            <td><br>  SELECT CASE CAST (STRFTIME(&#x27;%W&#x27;, CREATIONDATE) AS INTEGER)<br>  WHEN 0 THEN &#x27;SUNDAY&#x27;<br>  WHEN 1 THEN &#x27;MONDAY&#x27;<br>  WHEN 2 THEN &#x27;TUESDAY&#x27;<br>  WHEN 3 THEN &#x27;WEDNESDAY&#x27;<br>  WHEN 4 THEN &#x27;THURSDAY&#x27;<br>  WHEN 5 THEN &#x27;FRIDAY&#x27;<br>  ELSE &#x27;SATURDAY&#x27; END AS DAY, ROUND(SUM(VIEWCOUNT)*100.0/(SELECT SUM(VIEWCOUNT) FROM POSTS),2) AS SUMVIEWCOUNTPERCENT<br>    FROM POSTS  <br>    GROUP BY DAY<br>    ORDER BY 2 DESC<br>        </td>\n",
       "        </tr>\n",
       "        <tr>\n",
       "            <td><br>    SELECT P.ID, COUNT(*) &quot;COMMENTS&quot;<br>    FROM POSTS P INNER JOIN COMMENTS C ON P.ID = C.POSTID<br>    GROUP BY P.ID<br>    ORDER BY 2 DESC<br>    LIMIT 10<br>        </td>\n",
       "        </tr>\n",
       "        <tr>\n",
       "            <td><br>    SELECT P.ID, P.SCORE + SUM(C.SCORE)<br>    FROM POSTS P INNER JOIN COMMENTS C ON P.ID = C.POSTID<br>    GROUP BY P.ID<br>    ORDER BY 2 DESC<br>    LIMIT 10<br>        </td>\n",
       "        </tr>\n",
       "        <tr>\n",
       "            <td><br>    SELECT U.ID &quot;USER ID&quot;, COUNT(*) &quot;NUMBER OF COMMENTS&quot;, U.REPUTATION<br>    FROM USERS U INNER JOIN COMMENTS C ON U.ID = C.USERID<br>    GROUP BY C.USERID, U.REPUTATION<br>    ORDER BY 3 DESC<br>    LIMIT 10<br>        </td>\n",
       "        </tr>\n",
       "        <tr>\n",
       "            <td><br>    SELECT U.ID &quot;USER ID&quot;, COUNT(*) &quot;NUMBER OF POST&quot;, U.REPUTATION<br>    FROM USERS U INNER JOIN POSTS P ON U.ID = P.OWNERUSERID<br>    GROUP BY U.ID, U.REPUTATION<br>    ORDER BY 3 DESC<br>    LIMIT 10<br>        </td>\n",
       "        </tr>\n",
       "    </tbody>\n",
       "</table>"
      ],
      "text/plain": [
       "[('\\n    SELECT ID \"POST ID\", SUM(VIEWCOUNT) \"TOTAL VIEWS\"\\n    FROM POSTS\\n    GROUP BY ID\\n    ORDER BY 2 DESC\\n    LIMIT 5\\n        ',),\n",
       " ('\\n    SELECT ID \"POST ID\", SUM(SCORE) \"TOTAL SCORE\"\\n    FROM POSTS\\n    GROUP BY ID\\n    ORDER BY 2 DESC\\n    LIMIT 5\\n        ',),\n",
       " ('\\n    SELECT SCORE, COUNT(SCORE) \"FREQUENT SCORES ON POSTS\"\\n    FROM POSTS\\n    GROUP BY SCORE\\n    ORDER BY 2 DESC\\n    LIMIT 5\\n        ',),\n",
       " ('\\n    SELECT COMMENTCOUNT, COUNT(COMMENTCOUNT) \"FREQUENT COMMENT COUNT\"\\n    FROM POSTS\\n    GROUP BY COMMENTCOUNT\\n    ORDER BY 2 DESC\\n    LIMIT 5\\n        ',),\n",
       " ('\\n    SELECT ID \"POST ID\", SUM(VIEWCOUNT) \"TOTAL VIEWS\", LEN_BODY \"LENGTH\"\\n    FROM POSTS\\n    GROUP BY ID\\n    ORDER BY 2 DESC\\n    LIMIT 5\\n        ',),\n",
       " ('\\n    SELECT LOCATION, COUNT(LOCATION) \"USERS\"\\n    FROM USERS\\n    GROUP BY LOCATION\\n    ORDER BY 2 DESC\\n    LIMIT 5\\n        ',),\n",
       " (\"\\n  SELECT CASE CAST (STRFTIME('%W', CREATIONDATE) AS INTEGER)\\n  WHEN 0 THEN 'SUNDAY'\\n  WHEN 1 THEN 'MONDAY'\\n  WHEN 2 THEN 'TUESDAY'\\n  WHEN 3 THE ... (100 characters truncated) ... (SUM(VIEWCOUNT)*100.0/(SELECT SUM(VIEWCOUNT) FROM POSTS),2) AS SUMVIEWCOUNTPERCENT\\n    FROM POSTS  \\n    GROUP BY DAY\\n    ORDER BY 2 DESC\\n        \",),\n",
       " ('\\n    SELECT P.ID, COUNT(*) \"COMMENTS\"\\n    FROM POSTS P INNER JOIN COMMENTS C ON P.ID = C.POSTID\\n    GROUP BY P.ID\\n    ORDER BY 2 DESC\\n    LIMIT 10\\n        ',),\n",
       " ('\\n    SELECT P.ID, P.SCORE + SUM(C.SCORE)\\n    FROM POSTS P INNER JOIN COMMENTS C ON P.ID = C.POSTID\\n    GROUP BY P.ID\\n    ORDER BY 2 DESC\\n    LIMIT 10\\n        ',),\n",
       " ('\\n    SELECT U.ID \"USER ID\", COUNT(*) \"NUMBER OF COMMENTS\", U.REPUTATION\\n    FROM USERS U INNER JOIN COMMENTS C ON U.ID = C.USERID\\n    GROUP BY C.USERID, U.REPUTATION\\n    ORDER BY 3 DESC\\n    LIMIT 10\\n        ',),\n",
       " ('\\n    SELECT U.ID \"USER ID\", COUNT(*) \"NUMBER OF POST\", U.REPUTATION\\n    FROM USERS U INNER JOIN POSTS P ON U.ID = P.OWNERUSERID\\n    GROUP BY U.ID, U.REPUTATION\\n    ORDER BY 3 DESC\\n    LIMIT 10\\n        ',)]"
      ]
     },
     "execution_count": 719,
     "metadata": {},
     "output_type": "execute_result"
    }
   ],
   "source": [
    "%%sql\n",
    "SELECT query\n",
    "    FROM queries\n",
    "        WHERE query LIKE '%GROUP BY%'"
   ]
  },
  {
   "cell_type": "markdown",
   "metadata": {},
   "source": [
    "Find the queries that have 'DISTINCT' in them. \n",
    "\n"
   ]
  },
  {
   "cell_type": "code",
   "execution_count": 720,
   "metadata": {},
   "outputs": [
    {
     "name": "stdout",
     "output_type": "stream",
     "text": [
      " * sqlite:///chatdata.db\n",
      "Done.\n"
     ]
    },
    {
     "data": {
      "text/html": [
       "<table>\n",
       "    <thead>\n",
       "        <tr>\n",
       "            <th>query</th>\n",
       "        </tr>\n",
       "    </thead>\n",
       "    <tbody>\n",
       "        <tr>\n",
       "            <td><br>    SELECT COUNT(DISTINCT(LOCATION)) &quot;DIFFERENT LOCATIONS&quot;<br>    FROM USERS  <br>        </td>\n",
       "        </tr>\n",
       "    </tbody>\n",
       "</table>"
      ],
      "text/plain": [
       "[('\\n    SELECT COUNT(DISTINCT(LOCATION)) \"DIFFERENT LOCATIONS\"\\n    FROM USERS  \\n        ',)]"
      ]
     },
     "execution_count": 720,
     "metadata": {},
     "output_type": "execute_result"
    }
   ],
   "source": [
    "%%sql\n",
    "SELECT query\n",
    "    FROM queries\n",
    "        WHERE query LIKE '%DISTINCT%'"
   ]
  },
  {
   "cell_type": "markdown",
   "metadata": {},
   "source": [
    "# Close SQLite\n",
    "\n"
   ]
  },
  {
   "cell_type": "code",
   "execution_count": null,
   "metadata": {},
   "outputs": [],
   "source": [
    "con.close()"
   ]
  }
 ],
 "metadata": {
  "kernelspec": {
   "display_name": "Python 3 (ipykernel)",
   "language": "python",
   "name": "python3"
  },
  "language_info": {
   "codemirror_mode": {
    "name": "ipython",
    "version": 3
   },
   "file_extension": ".py",
   "mimetype": "text/x-python",
   "name": "python",
   "nbconvert_exporter": "python",
   "pygments_lexer": "ipython3",
   "version": "3.9.13"
  },
  "toc": {
   "base_numbering": 1,
   "nav_menu": {},
   "number_sections": true,
   "sideBar": true,
   "skip_h1_title": false,
   "title_cell": "Table of Contents",
   "title_sidebar": "Contents",
   "toc_cell": false,
   "toc_position": {
    "height": "calc(100% - 180px)",
    "left": "10px",
    "top": "150px",
    "width": "293.993px"
   },
   "toc_section_display": true,
   "toc_window_display": true
  }
 },
 "nbformat": 4,
 "nbformat_minor": 4
}
